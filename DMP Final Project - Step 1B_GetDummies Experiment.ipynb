{
 "cells": [
  {
   "cell_type": "code",
   "execution_count": null,
   "id": "floral-battlefield",
   "metadata": {},
   "outputs": [],
   "source": [
    "#pip install imbalanced-learn\n",
    "#pip install delayed"
   ]
  },
  {
   "cell_type": "code",
   "execution_count": 2,
   "id": "friendly-bottom",
   "metadata": {},
   "outputs": [],
   "source": [
    "%matplotlib inline\n",
    "\n",
    "import numpy as np\n",
    "import pandas as pd\n",
    "import seaborn as sns\n",
    "import matplotlib as mpl\n",
    "import matplotlib.pyplot as plt\n",
    "import sklearn\n",
    "\n",
    "from sklearn import preprocessing\n",
    "from sklearn.preprocessing import StandardScaler\n",
    "from sklearn.model_selection import train_test_split, cross_val_score, GridSearchCV, RepeatedStratifiedKFold\n",
    "from sklearn.utils import resample\n",
    "from sklearn.decomposition import PCA\n",
    "from sklearn.metrics import classification_report, confusion_matrix, accuracy_score\n",
    "\n",
    "from sklearn.linear_model import LogisticRegression\n",
    "from sklearn.tree import DecisionTreeClassifier\n",
    "from sklearn.ensemble import GradientBoostingClassifier, AdaBoostClassifier, RandomForestClassifier\n",
    "from sklearn.ensemble import BaggingClassifier\n",
    "from sklearn import svm\n",
    "from sklearn.svm import SVC\n",
    "\n",
    "from imblearn.pipeline import Pipeline\n",
    "from imblearn.over_sampling import SMOTE\n",
    "from imblearn.over_sampling import BorderlineSMOTE\n",
    "from imblearn.over_sampling import SVMSMOTE\n",
    "from imblearn.over_sampling import ADASYN\n",
    "from imblearn.under_sampling import RandomUnderSampler\n",
    "\n",
    "import warnings\n",
    "warnings.filterwarnings(\"ignore\")"
   ]
  },
  {
   "cell_type": "code",
   "execution_count": 2,
   "id": "neural-control",
   "metadata": {},
   "outputs": [
    {
     "name": "stdout",
     "output_type": "stream",
     "text": [
      "0.8.0\n"
     ]
    }
   ],
   "source": [
    "# check version number\n",
    "import imblearn\n",
    "print(imblearn.__version__)"
   ]
  },
  {
   "cell_type": "code",
   "execution_count": 3,
   "id": "pleased-conducting",
   "metadata": {},
   "outputs": [],
   "source": [
    "df = pd.read_csv('WA_Fn-UseC_-Telco-Customer-Churn.csv')"
   ]
  },
  {
   "cell_type": "code",
   "execution_count": 4,
   "id": "alpine-berlin",
   "metadata": {
    "scrolled": true
   },
   "outputs": [
    {
     "name": "stdout",
     "output_type": "stream",
     "text": [
      "<class 'pandas.core.frame.DataFrame'>\n",
      "RangeIndex: 7043 entries, 0 to 7042\n",
      "Data columns (total 21 columns):\n",
      " #   Column            Non-Null Count  Dtype  \n",
      "---  ------            --------------  -----  \n",
      " 0   customerID        7043 non-null   object \n",
      " 1   gender            7043 non-null   object \n",
      " 2   SeniorCitizen     7043 non-null   int64  \n",
      " 3   Partner           7043 non-null   object \n",
      " 4   Dependents        7043 non-null   object \n",
      " 5   tenure            7043 non-null   int64  \n",
      " 6   PhoneService      7043 non-null   object \n",
      " 7   MultipleLines     7043 non-null   object \n",
      " 8   InternetService   7043 non-null   object \n",
      " 9   OnlineSecurity    7043 non-null   object \n",
      " 10  OnlineBackup      7043 non-null   object \n",
      " 11  DeviceProtection  7043 non-null   object \n",
      " 12  TechSupport       7043 non-null   object \n",
      " 13  StreamingTV       7043 non-null   object \n",
      " 14  StreamingMovies   7043 non-null   object \n",
      " 15  Contract          7043 non-null   object \n",
      " 16  PaperlessBilling  7043 non-null   object \n",
      " 17  PaymentMethod     7043 non-null   object \n",
      " 18  MonthlyCharges    7043 non-null   float64\n",
      " 19  TotalCharges      7043 non-null   object \n",
      " 20  Churn             7043 non-null   object \n",
      "dtypes: float64(1), int64(2), object(18)\n",
      "memory usage: 1.1+ MB\n"
     ]
    }
   ],
   "source": [
    "df.info()"
   ]
  },
  {
   "cell_type": "code",
   "execution_count": 5,
   "id": "cleared-hundred",
   "metadata": {},
   "outputs": [],
   "source": [
    "df.drop(['TotalCharges'],axis=1,inplace=True)"
   ]
  },
  {
   "cell_type": "markdown",
   "id": "collect-crest",
   "metadata": {},
   "source": [
    "## Scenario One - No Combination"
   ]
  },
  {
   "cell_type": "code",
   "execution_count": 6,
   "id": "fundamental-african",
   "metadata": {},
   "outputs": [],
   "source": [
    "x1 = df.drop(['customerID','Churn'],axis=1)"
   ]
  },
  {
   "cell_type": "code",
   "execution_count": 7,
   "id": "personalized-context",
   "metadata": {},
   "outputs": [],
   "source": [
    "y = df['Churn']"
   ]
  },
  {
   "cell_type": "code",
   "execution_count": 8,
   "id": "affiliated-finger",
   "metadata": {},
   "outputs": [],
   "source": [
    "x1 = pd.get_dummies(x1,drop_first=True)"
   ]
  },
  {
   "cell_type": "code",
   "execution_count": 9,
   "id": "prescribed-stephen",
   "metadata": {
    "scrolled": true
   },
   "outputs": [
    {
     "name": "stdout",
     "output_type": "stream",
     "text": [
      "<class 'pandas.core.frame.DataFrame'>\n",
      "RangeIndex: 7043 entries, 0 to 7042\n",
      "Data columns (total 29 columns):\n",
      " #   Column                                 Non-Null Count  Dtype  \n",
      "---  ------                                 --------------  -----  \n",
      " 0   SeniorCitizen                          7043 non-null   int64  \n",
      " 1   tenure                                 7043 non-null   int64  \n",
      " 2   MonthlyCharges                         7043 non-null   float64\n",
      " 3   gender_Male                            7043 non-null   uint8  \n",
      " 4   Partner_Yes                            7043 non-null   uint8  \n",
      " 5   Dependents_Yes                         7043 non-null   uint8  \n",
      " 6   PhoneService_Yes                       7043 non-null   uint8  \n",
      " 7   MultipleLines_No phone service         7043 non-null   uint8  \n",
      " 8   MultipleLines_Yes                      7043 non-null   uint8  \n",
      " 9   InternetService_Fiber optic            7043 non-null   uint8  \n",
      " 10  InternetService_No                     7043 non-null   uint8  \n",
      " 11  OnlineSecurity_No internet service     7043 non-null   uint8  \n",
      " 12  OnlineSecurity_Yes                     7043 non-null   uint8  \n",
      " 13  OnlineBackup_No internet service       7043 non-null   uint8  \n",
      " 14  OnlineBackup_Yes                       7043 non-null   uint8  \n",
      " 15  DeviceProtection_No internet service   7043 non-null   uint8  \n",
      " 16  DeviceProtection_Yes                   7043 non-null   uint8  \n",
      " 17  TechSupport_No internet service        7043 non-null   uint8  \n",
      " 18  TechSupport_Yes                        7043 non-null   uint8  \n",
      " 19  StreamingTV_No internet service        7043 non-null   uint8  \n",
      " 20  StreamingTV_Yes                        7043 non-null   uint8  \n",
      " 21  StreamingMovies_No internet service    7043 non-null   uint8  \n",
      " 22  StreamingMovies_Yes                    7043 non-null   uint8  \n",
      " 23  Contract_One year                      7043 non-null   uint8  \n",
      " 24  Contract_Two year                      7043 non-null   uint8  \n",
      " 25  PaperlessBilling_Yes                   7043 non-null   uint8  \n",
      " 26  PaymentMethod_Credit card (automatic)  7043 non-null   uint8  \n",
      " 27  PaymentMethod_Electronic check         7043 non-null   uint8  \n",
      " 28  PaymentMethod_Mailed check             7043 non-null   uint8  \n",
      "dtypes: float64(1), int64(2), uint8(26)\n",
      "memory usage: 344.0 KB\n"
     ]
    }
   ],
   "source": [
    "x1.info()"
   ]
  },
  {
   "cell_type": "code",
   "execution_count": 10,
   "id": "romance-administrator",
   "metadata": {},
   "outputs": [
    {
     "data": {
      "text/html": [
       "<div>\n",
       "<style scoped>\n",
       "    .dataframe tbody tr th:only-of-type {\n",
       "        vertical-align: middle;\n",
       "    }\n",
       "\n",
       "    .dataframe tbody tr th {\n",
       "        vertical-align: top;\n",
       "    }\n",
       "\n",
       "    .dataframe thead th {\n",
       "        text-align: right;\n",
       "    }\n",
       "</style>\n",
       "<table border=\"1\" class=\"dataframe\">\n",
       "  <thead>\n",
       "    <tr style=\"text-align: right;\">\n",
       "      <th></th>\n",
       "      <th>SeniorCitizen</th>\n",
       "      <th>tenure</th>\n",
       "      <th>MonthlyCharges</th>\n",
       "      <th>gender_Male</th>\n",
       "      <th>Partner_Yes</th>\n",
       "      <th>Dependents_Yes</th>\n",
       "      <th>PhoneService_Yes</th>\n",
       "      <th>MultipleLines_No phone service</th>\n",
       "      <th>MultipleLines_Yes</th>\n",
       "      <th>InternetService_Fiber optic</th>\n",
       "      <th>...</th>\n",
       "      <th>StreamingTV_Yes</th>\n",
       "      <th>StreamingMovies_No internet service</th>\n",
       "      <th>StreamingMovies_Yes</th>\n",
       "      <th>Contract_One year</th>\n",
       "      <th>Contract_Two year</th>\n",
       "      <th>PaperlessBilling_Yes</th>\n",
       "      <th>PaymentMethod_Credit card (automatic)</th>\n",
       "      <th>PaymentMethod_Electronic check</th>\n",
       "      <th>PaymentMethod_Mailed check</th>\n",
       "      <th>Churn</th>\n",
       "    </tr>\n",
       "  </thead>\n",
       "  <tbody>\n",
       "    <tr>\n",
       "      <th>0</th>\n",
       "      <td>0</td>\n",
       "      <td>1</td>\n",
       "      <td>29.85</td>\n",
       "      <td>0</td>\n",
       "      <td>1</td>\n",
       "      <td>0</td>\n",
       "      <td>0</td>\n",
       "      <td>1</td>\n",
       "      <td>0</td>\n",
       "      <td>0</td>\n",
       "      <td>...</td>\n",
       "      <td>0</td>\n",
       "      <td>0</td>\n",
       "      <td>0</td>\n",
       "      <td>0</td>\n",
       "      <td>0</td>\n",
       "      <td>1</td>\n",
       "      <td>0</td>\n",
       "      <td>1</td>\n",
       "      <td>0</td>\n",
       "      <td>0</td>\n",
       "    </tr>\n",
       "    <tr>\n",
       "      <th>1</th>\n",
       "      <td>0</td>\n",
       "      <td>34</td>\n",
       "      <td>56.95</td>\n",
       "      <td>1</td>\n",
       "      <td>0</td>\n",
       "      <td>0</td>\n",
       "      <td>1</td>\n",
       "      <td>0</td>\n",
       "      <td>0</td>\n",
       "      <td>0</td>\n",
       "      <td>...</td>\n",
       "      <td>0</td>\n",
       "      <td>0</td>\n",
       "      <td>0</td>\n",
       "      <td>1</td>\n",
       "      <td>0</td>\n",
       "      <td>0</td>\n",
       "      <td>0</td>\n",
       "      <td>0</td>\n",
       "      <td>1</td>\n",
       "      <td>0</td>\n",
       "    </tr>\n",
       "    <tr>\n",
       "      <th>2</th>\n",
       "      <td>0</td>\n",
       "      <td>2</td>\n",
       "      <td>53.85</td>\n",
       "      <td>1</td>\n",
       "      <td>0</td>\n",
       "      <td>0</td>\n",
       "      <td>1</td>\n",
       "      <td>0</td>\n",
       "      <td>0</td>\n",
       "      <td>0</td>\n",
       "      <td>...</td>\n",
       "      <td>0</td>\n",
       "      <td>0</td>\n",
       "      <td>0</td>\n",
       "      <td>0</td>\n",
       "      <td>0</td>\n",
       "      <td>1</td>\n",
       "      <td>0</td>\n",
       "      <td>0</td>\n",
       "      <td>1</td>\n",
       "      <td>1</td>\n",
       "    </tr>\n",
       "    <tr>\n",
       "      <th>3</th>\n",
       "      <td>0</td>\n",
       "      <td>45</td>\n",
       "      <td>42.30</td>\n",
       "      <td>1</td>\n",
       "      <td>0</td>\n",
       "      <td>0</td>\n",
       "      <td>0</td>\n",
       "      <td>1</td>\n",
       "      <td>0</td>\n",
       "      <td>0</td>\n",
       "      <td>...</td>\n",
       "      <td>0</td>\n",
       "      <td>0</td>\n",
       "      <td>0</td>\n",
       "      <td>1</td>\n",
       "      <td>0</td>\n",
       "      <td>0</td>\n",
       "      <td>0</td>\n",
       "      <td>0</td>\n",
       "      <td>0</td>\n",
       "      <td>0</td>\n",
       "    </tr>\n",
       "    <tr>\n",
       "      <th>4</th>\n",
       "      <td>0</td>\n",
       "      <td>2</td>\n",
       "      <td>70.70</td>\n",
       "      <td>0</td>\n",
       "      <td>0</td>\n",
       "      <td>0</td>\n",
       "      <td>1</td>\n",
       "      <td>0</td>\n",
       "      <td>0</td>\n",
       "      <td>1</td>\n",
       "      <td>...</td>\n",
       "      <td>0</td>\n",
       "      <td>0</td>\n",
       "      <td>0</td>\n",
       "      <td>0</td>\n",
       "      <td>0</td>\n",
       "      <td>1</td>\n",
       "      <td>0</td>\n",
       "      <td>1</td>\n",
       "      <td>0</td>\n",
       "      <td>1</td>\n",
       "    </tr>\n",
       "    <tr>\n",
       "      <th>...</th>\n",
       "      <td>...</td>\n",
       "      <td>...</td>\n",
       "      <td>...</td>\n",
       "      <td>...</td>\n",
       "      <td>...</td>\n",
       "      <td>...</td>\n",
       "      <td>...</td>\n",
       "      <td>...</td>\n",
       "      <td>...</td>\n",
       "      <td>...</td>\n",
       "      <td>...</td>\n",
       "      <td>...</td>\n",
       "      <td>...</td>\n",
       "      <td>...</td>\n",
       "      <td>...</td>\n",
       "      <td>...</td>\n",
       "      <td>...</td>\n",
       "      <td>...</td>\n",
       "      <td>...</td>\n",
       "      <td>...</td>\n",
       "      <td>...</td>\n",
       "    </tr>\n",
       "    <tr>\n",
       "      <th>7038</th>\n",
       "      <td>0</td>\n",
       "      <td>24</td>\n",
       "      <td>84.80</td>\n",
       "      <td>1</td>\n",
       "      <td>1</td>\n",
       "      <td>1</td>\n",
       "      <td>1</td>\n",
       "      <td>0</td>\n",
       "      <td>1</td>\n",
       "      <td>0</td>\n",
       "      <td>...</td>\n",
       "      <td>1</td>\n",
       "      <td>0</td>\n",
       "      <td>1</td>\n",
       "      <td>1</td>\n",
       "      <td>0</td>\n",
       "      <td>1</td>\n",
       "      <td>0</td>\n",
       "      <td>0</td>\n",
       "      <td>1</td>\n",
       "      <td>0</td>\n",
       "    </tr>\n",
       "    <tr>\n",
       "      <th>7039</th>\n",
       "      <td>0</td>\n",
       "      <td>72</td>\n",
       "      <td>103.20</td>\n",
       "      <td>0</td>\n",
       "      <td>1</td>\n",
       "      <td>1</td>\n",
       "      <td>1</td>\n",
       "      <td>0</td>\n",
       "      <td>1</td>\n",
       "      <td>1</td>\n",
       "      <td>...</td>\n",
       "      <td>1</td>\n",
       "      <td>0</td>\n",
       "      <td>1</td>\n",
       "      <td>1</td>\n",
       "      <td>0</td>\n",
       "      <td>1</td>\n",
       "      <td>1</td>\n",
       "      <td>0</td>\n",
       "      <td>0</td>\n",
       "      <td>0</td>\n",
       "    </tr>\n",
       "    <tr>\n",
       "      <th>7040</th>\n",
       "      <td>0</td>\n",
       "      <td>11</td>\n",
       "      <td>29.60</td>\n",
       "      <td>0</td>\n",
       "      <td>1</td>\n",
       "      <td>1</td>\n",
       "      <td>0</td>\n",
       "      <td>1</td>\n",
       "      <td>0</td>\n",
       "      <td>0</td>\n",
       "      <td>...</td>\n",
       "      <td>0</td>\n",
       "      <td>0</td>\n",
       "      <td>0</td>\n",
       "      <td>0</td>\n",
       "      <td>0</td>\n",
       "      <td>1</td>\n",
       "      <td>0</td>\n",
       "      <td>1</td>\n",
       "      <td>0</td>\n",
       "      <td>0</td>\n",
       "    </tr>\n",
       "    <tr>\n",
       "      <th>7041</th>\n",
       "      <td>1</td>\n",
       "      <td>4</td>\n",
       "      <td>74.40</td>\n",
       "      <td>1</td>\n",
       "      <td>1</td>\n",
       "      <td>0</td>\n",
       "      <td>1</td>\n",
       "      <td>0</td>\n",
       "      <td>1</td>\n",
       "      <td>1</td>\n",
       "      <td>...</td>\n",
       "      <td>0</td>\n",
       "      <td>0</td>\n",
       "      <td>0</td>\n",
       "      <td>0</td>\n",
       "      <td>0</td>\n",
       "      <td>1</td>\n",
       "      <td>0</td>\n",
       "      <td>0</td>\n",
       "      <td>1</td>\n",
       "      <td>1</td>\n",
       "    </tr>\n",
       "    <tr>\n",
       "      <th>7042</th>\n",
       "      <td>0</td>\n",
       "      <td>66</td>\n",
       "      <td>105.65</td>\n",
       "      <td>1</td>\n",
       "      <td>0</td>\n",
       "      <td>0</td>\n",
       "      <td>1</td>\n",
       "      <td>0</td>\n",
       "      <td>0</td>\n",
       "      <td>1</td>\n",
       "      <td>...</td>\n",
       "      <td>1</td>\n",
       "      <td>0</td>\n",
       "      <td>1</td>\n",
       "      <td>0</td>\n",
       "      <td>1</td>\n",
       "      <td>1</td>\n",
       "      <td>0</td>\n",
       "      <td>0</td>\n",
       "      <td>0</td>\n",
       "      <td>0</td>\n",
       "    </tr>\n",
       "  </tbody>\n",
       "</table>\n",
       "<p>7043 rows × 30 columns</p>\n",
       "</div>"
      ],
      "text/plain": [
       "      SeniorCitizen  tenure  MonthlyCharges  gender_Male  Partner_Yes  \\\n",
       "0                 0       1           29.85            0            1   \n",
       "1                 0      34           56.95            1            0   \n",
       "2                 0       2           53.85            1            0   \n",
       "3                 0      45           42.30            1            0   \n",
       "4                 0       2           70.70            0            0   \n",
       "...             ...     ...             ...          ...          ...   \n",
       "7038              0      24           84.80            1            1   \n",
       "7039              0      72          103.20            0            1   \n",
       "7040              0      11           29.60            0            1   \n",
       "7041              1       4           74.40            1            1   \n",
       "7042              0      66          105.65            1            0   \n",
       "\n",
       "      Dependents_Yes  PhoneService_Yes  MultipleLines_No phone service  \\\n",
       "0                  0                 0                               1   \n",
       "1                  0                 1                               0   \n",
       "2                  0                 1                               0   \n",
       "3                  0                 0                               1   \n",
       "4                  0                 1                               0   \n",
       "...              ...               ...                             ...   \n",
       "7038               1                 1                               0   \n",
       "7039               1                 1                               0   \n",
       "7040               1                 0                               1   \n",
       "7041               0                 1                               0   \n",
       "7042               0                 1                               0   \n",
       "\n",
       "      MultipleLines_Yes  InternetService_Fiber optic  ...  StreamingTV_Yes  \\\n",
       "0                     0                            0  ...                0   \n",
       "1                     0                            0  ...                0   \n",
       "2                     0                            0  ...                0   \n",
       "3                     0                            0  ...                0   \n",
       "4                     0                            1  ...                0   \n",
       "...                 ...                          ...  ...              ...   \n",
       "7038                  1                            0  ...                1   \n",
       "7039                  1                            1  ...                1   \n",
       "7040                  0                            0  ...                0   \n",
       "7041                  1                            1  ...                0   \n",
       "7042                  0                            1  ...                1   \n",
       "\n",
       "      StreamingMovies_No internet service  StreamingMovies_Yes  \\\n",
       "0                                       0                    0   \n",
       "1                                       0                    0   \n",
       "2                                       0                    0   \n",
       "3                                       0                    0   \n",
       "4                                       0                    0   \n",
       "...                                   ...                  ...   \n",
       "7038                                    0                    1   \n",
       "7039                                    0                    1   \n",
       "7040                                    0                    0   \n",
       "7041                                    0                    0   \n",
       "7042                                    0                    1   \n",
       "\n",
       "      Contract_One year  Contract_Two year  PaperlessBilling_Yes  \\\n",
       "0                     0                  0                     1   \n",
       "1                     1                  0                     0   \n",
       "2                     0                  0                     1   \n",
       "3                     1                  0                     0   \n",
       "4                     0                  0                     1   \n",
       "...                 ...                ...                   ...   \n",
       "7038                  1                  0                     1   \n",
       "7039                  1                  0                     1   \n",
       "7040                  0                  0                     1   \n",
       "7041                  0                  0                     1   \n",
       "7042                  0                  1                     1   \n",
       "\n",
       "      PaymentMethod_Credit card (automatic)  PaymentMethod_Electronic check  \\\n",
       "0                                         0                               1   \n",
       "1                                         0                               0   \n",
       "2                                         0                               0   \n",
       "3                                         0                               0   \n",
       "4                                         0                               1   \n",
       "...                                     ...                             ...   \n",
       "7038                                      0                               0   \n",
       "7039                                      1                               0   \n",
       "7040                                      0                               1   \n",
       "7041                                      0                               0   \n",
       "7042                                      0                               0   \n",
       "\n",
       "      PaymentMethod_Mailed check  Churn  \n",
       "0                              0      0  \n",
       "1                              1      0  \n",
       "2                              1      1  \n",
       "3                              0      0  \n",
       "4                              0      1  \n",
       "...                          ...    ...  \n",
       "7038                           1      0  \n",
       "7039                           0      0  \n",
       "7040                           0      0  \n",
       "7041                           1      1  \n",
       "7042                           0      0  \n",
       "\n",
       "[7043 rows x 30 columns]"
      ]
     },
     "execution_count": 10,
     "metadata": {},
     "output_type": "execute_result"
    }
   ],
   "source": [
    "df = pd.concat([x1, y], axis=1)\n",
    "df['Churn'] = df['Churn'].replace({'Yes':1, 'No':0})\n",
    "df"
   ]
  },
  {
   "cell_type": "code",
   "execution_count": 11,
   "id": "harmful-criterion",
   "metadata": {},
   "outputs": [],
   "source": [
    "#### Checking outliers by looking at pairwise plots, especially focusing on other features' relationships with two numerical features we have here: 'MonthlyCharges' and 'Tenure'"
   ]
  },
  {
   "cell_type": "code",
   "execution_count": null,
   "id": "pleasant-circumstances",
   "metadata": {},
   "outputs": [],
   "source": [
    "# Exploring 'MonthlyCharges' 1\n",
    "sns.set()\n",
    "cols = ['MonthlyCharges','PhoneService_Yes','MultipleLines_No phone service',\n",
    "        'OnlineSecurity_Yes','OnlineBackup_Yes',\n",
    "        'DeviceProtection_Yes','TechSupport_Yes','StreamingTV_Yes','StreamingMovies_Yes']\n",
    "sns.pairplot(x1[cols])\n",
    "plt.show()"
   ]
  },
  {
   "cell_type": "code",
   "execution_count": null,
   "id": "proprietary-indonesia",
   "metadata": {},
   "outputs": [],
   "source": [
    "#The points at the top left corners could be considered outliers...?\n",
    "sns.set()\n",
    "#cols = ['MonthlyCharges','MultipleLines_Yes']\n",
    "#sns.pairplot(x1[cols])\n",
    "plt.scatter(x1['MonthlyCharges'],x1['MultipleLines_Yes'])\n",
    "plt.show()"
   ]
  },
  {
   "cell_type": "code",
   "execution_count": null,
   "id": "sapphire-respondent",
   "metadata": {},
   "outputs": [],
   "source": [
    "x1[x1['MultipleLines_Yes']==1].sort_values(by = 'MonthlyCharges').head(400)\n",
    "#Too many data points, so not considered outliers."
   ]
  },
  {
   "cell_type": "code",
   "execution_count": null,
   "id": "instructional-friendly",
   "metadata": {},
   "outputs": [],
   "source": [
    "# Exploring 'MonthlyCharges' 2\n",
    "sns.set()\n",
    "cols = ['MonthlyCharges','tenure', 'Contract_Two year',\n",
    "        'PaperlessBilling_Yes', 'PaymentMethod_Electronic check']\n",
    "sns.pairplot(x1[cols])\n",
    "plt.show()"
   ]
  },
  {
   "cell_type": "code",
   "execution_count": null,
   "id": "awful-georgia",
   "metadata": {},
   "outputs": [],
   "source": [
    "# Exploring 'Tenure' 1\n",
    "sns.set()\n",
    "cols = ['tenure','SeniorCitizen','MonthlyCharges','gender_Male','Partner_Yes','Dependents_Yes']\n",
    "sns.pairplot(x1[cols])\n",
    "plt.show()"
   ]
  },
  {
   "cell_type": "code",
   "execution_count": null,
   "id": "complete-reset",
   "metadata": {},
   "outputs": [],
   "source": [
    "# Exploring 'Tenure' 2\n",
    "sns.set()\n",
    "cols = ['tenure','PhoneService_Yes','MultipleLines_No phone service',\n",
    "        'OnlineSecurity_Yes','OnlineBackup_Yes',\n",
    "        'DeviceProtection_Yes','TechSupport_Yes','StreamingTV_Yes','StreamingMovies_Yes']\n",
    "sns.pairplot(x1[cols])\n",
    "plt.show()"
   ]
  },
  {
   "cell_type": "code",
   "execution_count": 12,
   "id": "respective-opposition",
   "metadata": {},
   "outputs": [],
   "source": [
    "SEED = 4\n",
    "(x_train, x_test, y_train, y_test) = train_test_split(x1, y,test_size=0.3, stratify=y, random_state=SEED)"
   ]
  },
  {
   "cell_type": "markdown",
   "id": "sharing-egyptian",
   "metadata": {},
   "source": [
    "### 1.1 Random Forest with Original Data"
   ]
  },
  {
   "cell_type": "code",
   "execution_count": 13,
   "id": "tight-aircraft",
   "metadata": {},
   "outputs": [],
   "source": [
    "rf = RandomForestClassifier(n_estimators=200, max_depth=7,random_state=SEED)"
   ]
  },
  {
   "cell_type": "code",
   "execution_count": null,
   "id": "spoken-exploration",
   "metadata": {},
   "outputs": [],
   "source": [
    "param_grid = {\n",
    "                 'n_estimators': [200,400,600,800,1000],\n",
    "                 'max_depth': [6.5, 7, 7.5, 10],\n",
    "                'min_samples_leaf': [0.03, 0.06, 0.13, 0.3, 0.5,1]\n",
    "             }\n",
    "grid_clf = GridSearchCV(rf, param_grid, cv=10)\n",
    "grid_clf.fit(x_train, y_train)"
   ]
  },
  {
   "cell_type": "code",
   "execution_count": null,
   "id": "distributed-colombia",
   "metadata": {},
   "outputs": [],
   "source": [
    "grid_clf.best_estimator_"
   ]
  },
  {
   "cell_type": "code",
   "execution_count": 14,
   "id": "random-somerset",
   "metadata": {},
   "outputs": [
    {
     "name": "stdout",
     "output_type": "stream",
     "text": [
      "Accuracy score: 0.8035967818\n",
      "Classification Report\n",
      "              precision    recall  f1-score   support\n",
      "\n",
      "          No       0.83      0.92      0.87      1552\n",
      "         Yes       0.69      0.47      0.56       561\n",
      "\n",
      "    accuracy                           0.80      2113\n",
      "   macro avg       0.76      0.70      0.72      2113\n",
      "weighted avg       0.79      0.80      0.79      2113\n",
      "\n"
     ]
    }
   ],
   "source": [
    "rf.fit(x_train, y_train)\n",
    "y_pred_rf = rf.predict(x_test)\n",
    "accuracy_rf = accuracy_score(y_test, y_pred_rf)\n",
    "print('Accuracy score: {:.10f}'.format(accuracy_rf))\n",
    "print(\"Classification Report\")\n",
    "print(classification_report(y_test, y_pred_rf))"
   ]
  },
  {
   "cell_type": "code",
   "execution_count": 15,
   "id": "electrical-sunset",
   "metadata": {},
   "outputs": [
    {
     "name": "stdout",
     "output_type": "stream",
     "text": [
      "0.7943204868154159\n"
     ]
    }
   ],
   "source": [
    "scores = cross_val_score(rf, x_train, y_train, scoring='accuracy', cv=10) \n",
    "print(np.mean(scores))"
   ]
  },
  {
   "cell_type": "markdown",
   "id": "native-hepatitis",
   "metadata": {},
   "source": [
    "### 1.2 Oversampling Minority Class (using the simplest method: resampling existing Churn data)"
   ]
  },
  {
   "cell_type": "code",
   "execution_count": 16,
   "id": "british-transportation",
   "metadata": {},
   "outputs": [
    {
     "data": {
      "text/html": [
       "<div>\n",
       "<style scoped>\n",
       "    .dataframe tbody tr th:only-of-type {\n",
       "        vertical-align: middle;\n",
       "    }\n",
       "\n",
       "    .dataframe tbody tr th {\n",
       "        vertical-align: top;\n",
       "    }\n",
       "\n",
       "    .dataframe thead th {\n",
       "        text-align: right;\n",
       "    }\n",
       "</style>\n",
       "<table border=\"1\" class=\"dataframe\">\n",
       "  <thead>\n",
       "    <tr style=\"text-align: right;\">\n",
       "      <th></th>\n",
       "      <th>SeniorCitizen</th>\n",
       "      <th>tenure</th>\n",
       "      <th>MonthlyCharges</th>\n",
       "      <th>gender_Male</th>\n",
       "      <th>Partner_Yes</th>\n",
       "      <th>Dependents_Yes</th>\n",
       "      <th>PhoneService_Yes</th>\n",
       "      <th>MultipleLines_No phone service</th>\n",
       "      <th>MultipleLines_Yes</th>\n",
       "      <th>InternetService_Fiber optic</th>\n",
       "      <th>...</th>\n",
       "      <th>StreamingTV_Yes</th>\n",
       "      <th>StreamingMovies_No internet service</th>\n",
       "      <th>StreamingMovies_Yes</th>\n",
       "      <th>Contract_One year</th>\n",
       "      <th>Contract_Two year</th>\n",
       "      <th>PaperlessBilling_Yes</th>\n",
       "      <th>PaymentMethod_Credit card (automatic)</th>\n",
       "      <th>PaymentMethod_Electronic check</th>\n",
       "      <th>PaymentMethod_Mailed check</th>\n",
       "      <th>Churn</th>\n",
       "    </tr>\n",
       "  </thead>\n",
       "  <tbody>\n",
       "    <tr>\n",
       "      <th>3830</th>\n",
       "      <td>0</td>\n",
       "      <td>4</td>\n",
       "      <td>100.20</td>\n",
       "      <td>1</td>\n",
       "      <td>1</td>\n",
       "      <td>0</td>\n",
       "      <td>1</td>\n",
       "      <td>0</td>\n",
       "      <td>1</td>\n",
       "      <td>1</td>\n",
       "      <td>...</td>\n",
       "      <td>1</td>\n",
       "      <td>0</td>\n",
       "      <td>1</td>\n",
       "      <td>0</td>\n",
       "      <td>0</td>\n",
       "      <td>1</td>\n",
       "      <td>0</td>\n",
       "      <td>1</td>\n",
       "      <td>0</td>\n",
       "      <td>Yes</td>\n",
       "    </tr>\n",
       "    <tr>\n",
       "      <th>5342</th>\n",
       "      <td>0</td>\n",
       "      <td>37</td>\n",
       "      <td>64.75</td>\n",
       "      <td>0</td>\n",
       "      <td>0</td>\n",
       "      <td>0</td>\n",
       "      <td>1</td>\n",
       "      <td>0</td>\n",
       "      <td>0</td>\n",
       "      <td>0</td>\n",
       "      <td>...</td>\n",
       "      <td>1</td>\n",
       "      <td>0</td>\n",
       "      <td>1</td>\n",
       "      <td>0</td>\n",
       "      <td>0</td>\n",
       "      <td>1</td>\n",
       "      <td>0</td>\n",
       "      <td>1</td>\n",
       "      <td>0</td>\n",
       "      <td>Yes</td>\n",
       "    </tr>\n",
       "    <tr>\n",
       "      <th>1189</th>\n",
       "      <td>0</td>\n",
       "      <td>3</td>\n",
       "      <td>85.70</td>\n",
       "      <td>1</td>\n",
       "      <td>0</td>\n",
       "      <td>0</td>\n",
       "      <td>1</td>\n",
       "      <td>0</td>\n",
       "      <td>0</td>\n",
       "      <td>1</td>\n",
       "      <td>...</td>\n",
       "      <td>0</td>\n",
       "      <td>0</td>\n",
       "      <td>1</td>\n",
       "      <td>0</td>\n",
       "      <td>0</td>\n",
       "      <td>0</td>\n",
       "      <td>1</td>\n",
       "      <td>0</td>\n",
       "      <td>0</td>\n",
       "      <td>No</td>\n",
       "    </tr>\n",
       "    <tr>\n",
       "      <th>2543</th>\n",
       "      <td>0</td>\n",
       "      <td>13</td>\n",
       "      <td>98.15</td>\n",
       "      <td>1</td>\n",
       "      <td>0</td>\n",
       "      <td>0</td>\n",
       "      <td>1</td>\n",
       "      <td>0</td>\n",
       "      <td>1</td>\n",
       "      <td>1</td>\n",
       "      <td>...</td>\n",
       "      <td>1</td>\n",
       "      <td>0</td>\n",
       "      <td>1</td>\n",
       "      <td>0</td>\n",
       "      <td>0</td>\n",
       "      <td>0</td>\n",
       "      <td>0</td>\n",
       "      <td>0</td>\n",
       "      <td>1</td>\n",
       "      <td>Yes</td>\n",
       "    </tr>\n",
       "    <tr>\n",
       "      <th>6603</th>\n",
       "      <td>0</td>\n",
       "      <td>14</td>\n",
       "      <td>66.60</td>\n",
       "      <td>1</td>\n",
       "      <td>1</td>\n",
       "      <td>0</td>\n",
       "      <td>1</td>\n",
       "      <td>0</td>\n",
       "      <td>1</td>\n",
       "      <td>0</td>\n",
       "      <td>...</td>\n",
       "      <td>1</td>\n",
       "      <td>0</td>\n",
       "      <td>0</td>\n",
       "      <td>0</td>\n",
       "      <td>0</td>\n",
       "      <td>1</td>\n",
       "      <td>1</td>\n",
       "      <td>0</td>\n",
       "      <td>0</td>\n",
       "      <td>No</td>\n",
       "    </tr>\n",
       "    <tr>\n",
       "      <th>...</th>\n",
       "      <td>...</td>\n",
       "      <td>...</td>\n",
       "      <td>...</td>\n",
       "      <td>...</td>\n",
       "      <td>...</td>\n",
       "      <td>...</td>\n",
       "      <td>...</td>\n",
       "      <td>...</td>\n",
       "      <td>...</td>\n",
       "      <td>...</td>\n",
       "      <td>...</td>\n",
       "      <td>...</td>\n",
       "      <td>...</td>\n",
       "      <td>...</td>\n",
       "      <td>...</td>\n",
       "      <td>...</td>\n",
       "      <td>...</td>\n",
       "      <td>...</td>\n",
       "      <td>...</td>\n",
       "      <td>...</td>\n",
       "      <td>...</td>\n",
       "    </tr>\n",
       "    <tr>\n",
       "      <th>412</th>\n",
       "      <td>0</td>\n",
       "      <td>29</td>\n",
       "      <td>74.95</td>\n",
       "      <td>0</td>\n",
       "      <td>1</td>\n",
       "      <td>0</td>\n",
       "      <td>1</td>\n",
       "      <td>0</td>\n",
       "      <td>1</td>\n",
       "      <td>1</td>\n",
       "      <td>...</td>\n",
       "      <td>0</td>\n",
       "      <td>0</td>\n",
       "      <td>0</td>\n",
       "      <td>0</td>\n",
       "      <td>0</td>\n",
       "      <td>1</td>\n",
       "      <td>0</td>\n",
       "      <td>1</td>\n",
       "      <td>0</td>\n",
       "      <td>No</td>\n",
       "    </tr>\n",
       "    <tr>\n",
       "      <th>5785</th>\n",
       "      <td>0</td>\n",
       "      <td>46</td>\n",
       "      <td>20.20</td>\n",
       "      <td>1</td>\n",
       "      <td>1</td>\n",
       "      <td>1</td>\n",
       "      <td>1</td>\n",
       "      <td>0</td>\n",
       "      <td>0</td>\n",
       "      <td>0</td>\n",
       "      <td>...</td>\n",
       "      <td>0</td>\n",
       "      <td>1</td>\n",
       "      <td>0</td>\n",
       "      <td>0</td>\n",
       "      <td>1</td>\n",
       "      <td>1</td>\n",
       "      <td>0</td>\n",
       "      <td>0</td>\n",
       "      <td>1</td>\n",
       "      <td>No</td>\n",
       "    </tr>\n",
       "    <tr>\n",
       "      <th>2377</th>\n",
       "      <td>0</td>\n",
       "      <td>47</td>\n",
       "      <td>55.30</td>\n",
       "      <td>1</td>\n",
       "      <td>0</td>\n",
       "      <td>1</td>\n",
       "      <td>1</td>\n",
       "      <td>0</td>\n",
       "      <td>0</td>\n",
       "      <td>0</td>\n",
       "      <td>...</td>\n",
       "      <td>0</td>\n",
       "      <td>0</td>\n",
       "      <td>0</td>\n",
       "      <td>0</td>\n",
       "      <td>0</td>\n",
       "      <td>1</td>\n",
       "      <td>0</td>\n",
       "      <td>1</td>\n",
       "      <td>0</td>\n",
       "      <td>No</td>\n",
       "    </tr>\n",
       "    <tr>\n",
       "      <th>58</th>\n",
       "      <td>0</td>\n",
       "      <td>34</td>\n",
       "      <td>24.95</td>\n",
       "      <td>0</td>\n",
       "      <td>1</td>\n",
       "      <td>1</td>\n",
       "      <td>1</td>\n",
       "      <td>0</td>\n",
       "      <td>1</td>\n",
       "      <td>0</td>\n",
       "      <td>...</td>\n",
       "      <td>0</td>\n",
       "      <td>1</td>\n",
       "      <td>0</td>\n",
       "      <td>0</td>\n",
       "      <td>1</td>\n",
       "      <td>0</td>\n",
       "      <td>1</td>\n",
       "      <td>0</td>\n",
       "      <td>0</td>\n",
       "      <td>No</td>\n",
       "    </tr>\n",
       "    <tr>\n",
       "      <th>4041</th>\n",
       "      <td>0</td>\n",
       "      <td>46</td>\n",
       "      <td>60.75</td>\n",
       "      <td>1</td>\n",
       "      <td>0</td>\n",
       "      <td>0</td>\n",
       "      <td>0</td>\n",
       "      <td>1</td>\n",
       "      <td>0</td>\n",
       "      <td>0</td>\n",
       "      <td>...</td>\n",
       "      <td>1</td>\n",
       "      <td>0</td>\n",
       "      <td>1</td>\n",
       "      <td>0</td>\n",
       "      <td>1</td>\n",
       "      <td>1</td>\n",
       "      <td>0</td>\n",
       "      <td>0</td>\n",
       "      <td>0</td>\n",
       "      <td>No</td>\n",
       "    </tr>\n",
       "  </tbody>\n",
       "</table>\n",
       "<p>4930 rows × 30 columns</p>\n",
       "</div>"
      ],
      "text/plain": [
       "      SeniorCitizen  tenure  MonthlyCharges  gender_Male  Partner_Yes  \\\n",
       "3830              0       4          100.20            1            1   \n",
       "5342              0      37           64.75            0            0   \n",
       "1189              0       3           85.70            1            0   \n",
       "2543              0      13           98.15            1            0   \n",
       "6603              0      14           66.60            1            1   \n",
       "...             ...     ...             ...          ...          ...   \n",
       "412               0      29           74.95            0            1   \n",
       "5785              0      46           20.20            1            1   \n",
       "2377              0      47           55.30            1            0   \n",
       "58                0      34           24.95            0            1   \n",
       "4041              0      46           60.75            1            0   \n",
       "\n",
       "      Dependents_Yes  PhoneService_Yes  MultipleLines_No phone service  \\\n",
       "3830               0                 1                               0   \n",
       "5342               0                 1                               0   \n",
       "1189               0                 1                               0   \n",
       "2543               0                 1                               0   \n",
       "6603               0                 1                               0   \n",
       "...              ...               ...                             ...   \n",
       "412                0                 1                               0   \n",
       "5785               1                 1                               0   \n",
       "2377               1                 1                               0   \n",
       "58                 1                 1                               0   \n",
       "4041               0                 0                               1   \n",
       "\n",
       "      MultipleLines_Yes  InternetService_Fiber optic  ...  StreamingTV_Yes  \\\n",
       "3830                  1                            1  ...                1   \n",
       "5342                  0                            0  ...                1   \n",
       "1189                  0                            1  ...                0   \n",
       "2543                  1                            1  ...                1   \n",
       "6603                  1                            0  ...                1   \n",
       "...                 ...                          ...  ...              ...   \n",
       "412                   1                            1  ...                0   \n",
       "5785                  0                            0  ...                0   \n",
       "2377                  0                            0  ...                0   \n",
       "58                    1                            0  ...                0   \n",
       "4041                  0                            0  ...                1   \n",
       "\n",
       "      StreamingMovies_No internet service  StreamingMovies_Yes  \\\n",
       "3830                                    0                    1   \n",
       "5342                                    0                    1   \n",
       "1189                                    0                    1   \n",
       "2543                                    0                    1   \n",
       "6603                                    0                    0   \n",
       "...                                   ...                  ...   \n",
       "412                                     0                    0   \n",
       "5785                                    1                    0   \n",
       "2377                                    0                    0   \n",
       "58                                      1                    0   \n",
       "4041                                    0                    1   \n",
       "\n",
       "      Contract_One year  Contract_Two year  PaperlessBilling_Yes  \\\n",
       "3830                  0                  0                     1   \n",
       "5342                  0                  0                     1   \n",
       "1189                  0                  0                     0   \n",
       "2543                  0                  0                     0   \n",
       "6603                  0                  0                     1   \n",
       "...                 ...                ...                   ...   \n",
       "412                   0                  0                     1   \n",
       "5785                  0                  1                     1   \n",
       "2377                  0                  0                     1   \n",
       "58                    0                  1                     0   \n",
       "4041                  0                  1                     1   \n",
       "\n",
       "      PaymentMethod_Credit card (automatic)  PaymentMethod_Electronic check  \\\n",
       "3830                                      0                               1   \n",
       "5342                                      0                               1   \n",
       "1189                                      1                               0   \n",
       "2543                                      0                               0   \n",
       "6603                                      1                               0   \n",
       "...                                     ...                             ...   \n",
       "412                                       0                               1   \n",
       "5785                                      0                               0   \n",
       "2377                                      0                               1   \n",
       "58                                        1                               0   \n",
       "4041                                      0                               0   \n",
       "\n",
       "      PaymentMethod_Mailed check  Churn  \n",
       "3830                           0    Yes  \n",
       "5342                           0    Yes  \n",
       "1189                           0     No  \n",
       "2543                           1    Yes  \n",
       "6603                           0     No  \n",
       "...                          ...    ...  \n",
       "412                            0     No  \n",
       "5785                           1     No  \n",
       "2377                           0     No  \n",
       "58                             0     No  \n",
       "4041                           0     No  \n",
       "\n",
       "[4930 rows x 30 columns]"
      ]
     },
     "execution_count": 16,
     "metadata": {},
     "output_type": "execute_result"
    }
   ],
   "source": [
    "# concatenate our training data back together\n",
    "X = pd.concat([x_train, y_train], axis=1)\n",
    "X"
   ]
  },
  {
   "cell_type": "code",
   "execution_count": 19,
   "id": "pointed-protein",
   "metadata": {},
   "outputs": [
    {
     "name": "stdout",
     "output_type": "stream",
     "text": [
      "3622\n",
      "1308\n"
     ]
    }
   ],
   "source": [
    "print(len(X[X['Churn']=='No']))\n",
    "print(len(X[X['Churn']=='Yes']))"
   ]
  },
  {
   "cell_type": "code",
   "execution_count": 20,
   "id": "miniature-authentication",
   "metadata": {
    "scrolled": true
   },
   "outputs": [
    {
     "data": {
      "text/plain": [
       "Yes    3622\n",
       "No     3622\n",
       "Name: Churn, dtype: int64"
      ]
     },
     "execution_count": 20,
     "metadata": {},
     "output_type": "execute_result"
    }
   ],
   "source": [
    "# separate minority and majority classes\n",
    "not_churn = X[X['Churn']=='No']\n",
    "churn = X[X['Churn']=='Yes']\n",
    "\n",
    "# upsample minority\n",
    "churn_upsampled = resample(churn,\n",
    "                          replace=True, # sample with replacement\n",
    "                          n_samples=len(not_churn), # match number in majority class\n",
    "                          random_state=SEED) # reproducible results\n",
    "\n",
    "# combine majority and upsampled minority\n",
    "upsampled = pd.concat([not_churn, churn_upsampled])\n",
    "\n",
    "# check new class counts\n",
    "upsampled['Churn'].value_counts()"
   ]
  },
  {
   "cell_type": "markdown",
   "id": "packed-hazard",
   "metadata": {},
   "source": [
    "### 1.3 Random Forest with Resampled Data"
   ]
  },
  {
   "cell_type": "code",
   "execution_count": 22,
   "id": "narrative-location",
   "metadata": {},
   "outputs": [
    {
     "name": "stdout",
     "output_type": "stream",
     "text": [
      "Accuracy score: 0.7449124468\n",
      "Classification Report\n",
      "              precision    recall  f1-score   support\n",
      "\n",
      "          No       0.91      0.73      0.81      1552\n",
      "         Yes       0.51      0.79      0.62       561\n",
      "\n",
      "    accuracy                           0.74      2113\n",
      "   macro avg       0.71      0.76      0.71      2113\n",
      "weighted avg       0.80      0.74      0.76      2113\n",
      "\n"
     ]
    }
   ],
   "source": [
    "y_train_rs = upsampled['Churn']\n",
    "x_train_rs = upsampled.drop('Churn', axis=1)\n",
    "\n",
    "upsampled = RandomForestClassifier(n_estimators=200,max_depth=7,random_state=SEED).fit(x_train_rs, y_train_rs)\n",
    "upsampled_pred = upsampled.predict(x_test)\n",
    "\n",
    "accuracy_up = accuracy_score(y_test, upsampled_pred)\n",
    "print('Accuracy score: {:.10f}'.format(accuracy_up))\n",
    "print(\"Classification Report\")\n",
    "print(classification_report(y_test, upsampled_pred))"
   ]
  },
  {
   "cell_type": "code",
   "execution_count": 23,
   "id": "unusual-hardware",
   "metadata": {},
   "outputs": [
    {
     "data": {
      "image/png": "[encoded data removed]",
      "text/plain": [
       "<Figure size 432x288 with 1 Axes>"
      ]
     },
     "metadata": {
      "needs_background": "light"
     },
     "output_type": "display_data"
    },
    {
     "data": {
      "text/plain": [
       "tenure                                  0.276829\n",
       "Contract_Two year                       0.097013\n",
       "InternetService_Fiber optic             0.095083\n",
       "MonthlyCharges                          0.091118\n",
       "PaymentMethod_Electronic check          0.075033\n",
       "Contract_One year                       0.044999\n",
       "TechSupport_Yes                         0.044828\n",
       "OnlineSecurity_Yes                      0.042025\n",
       "DeviceProtection_No internet service    0.020268\n",
       "StreamingMovies_No internet service     0.018980\n",
       "OnlineBackup_Yes                        0.018140\n",
       "TechSupport_No internet service         0.014892\n",
       "DeviceProtection_Yes                    0.014881\n",
       "StreamingTV_No internet service         0.014036\n",
       "OnlineSecurity_No internet service      0.013317\n",
       "PaperlessBilling_Yes                    0.012913\n",
       "InternetService_No                      0.012271\n",
       "OnlineBackup_No internet service        0.011847\n",
       "Partner_Yes                             0.010999\n",
       "SeniorCitizen                           0.010921\n",
       "dtype: float64"
      ]
     },
     "execution_count": 23,
     "metadata": {},
     "output_type": "execute_result"
    }
   ],
   "source": [
    "# Check feature importance after Random Forest\n",
    "importances_rf = pd.Series(rf.feature_importances_,index = x1.columns)\n",
    "sorted_importances_rf = importances_rf.sort_values(ascending=False)\n",
    "# Make a horizontal bar plot\n",
    "sorted_importances_rf.plot(kind='barh', color='blue')\n",
    "plt.show()\n",
    "sorted_importances_rf[0:20]"
   ]
  },
  {
   "cell_type": "code",
   "execution_count": 24,
   "id": "reverse-sauce",
   "metadata": {},
   "outputs": [
    {
     "data": {
      "text/plain": [
       "tenure                                   0.236708\n",
       "Contract_Two year                        0.161260\n",
       "InternetService_Fiber optic              0.096257\n",
       "MonthlyCharges                           0.074046\n",
       "PaymentMethod_Electronic check           0.070202\n",
       "Contract_One year                        0.055035\n",
       "TechSupport_Yes                          0.037844\n",
       "OnlineSecurity_Yes                       0.030196\n",
       "StreamingMovies_No internet service      0.025712\n",
       "DeviceProtection_No internet service     0.021722\n",
       "TechSupport_No internet service          0.017724\n",
       "InternetService_No                       0.015909\n",
       "StreamingTV_No internet service          0.015808\n",
       "OnlineSecurity_No internet service       0.015101\n",
       "OnlineBackup_Yes                         0.014864\n",
       "OnlineBackup_No internet service         0.014791\n",
       "PaperlessBilling_Yes                     0.012506\n",
       "PaymentMethod_Credit card (automatic)    0.011597\n",
       "Partner_Yes                              0.010842\n",
       "SeniorCitizen                            0.009115\n",
       "dtype: float64"
      ]
     },
     "execution_count": 24,
     "metadata": {},
     "output_type": "execute_result"
    }
   ],
   "source": [
    "importances_rf = pd.Series(upsampled.feature_importances_,index = x1.columns)\n",
    "sorted_importances_rf = importances_rf.sort_values(ascending=False)\n",
    "# Make a horizontal bar plot\n",
    "#sorted_importances_rf.plot(kind='barh', color='blue')\n",
    "#plt.show()\n",
    "sorted_importances_rf[0:20]"
   ]
  },
  {
   "cell_type": "markdown",
   "id": "cultural-massage",
   "metadata": {},
   "source": [
    "### 1.4 Decision Tree and Ada Boosting with Original Data"
   ]
  },
  {
   "cell_type": "code",
   "execution_count": 35,
   "id": "absolute-involvement",
   "metadata": {},
   "outputs": [],
   "source": [
    "dt = DecisionTreeClassifier(max_depth=7, random_state=SEED)\n",
    "ada = AdaBoostClassifier(base_estimator=dt, n_estimators=200, random_state=SEED)"
   ]
  },
  {
   "cell_type": "code",
   "execution_count": 28,
   "id": "postal-dependence",
   "metadata": {
    "scrolled": false
   },
   "outputs": [
    {
     "name": "stdout",
     "output_type": "stream",
     "text": [
      "Accuracy score: 0.7884524373\n",
      "Classification Report\n",
      "              precision    recall  f1-score   support\n",
      "\n",
      "          No       0.84      0.88      0.86      1552\n",
      "         Yes       0.62      0.54      0.57       561\n",
      "\n",
      "    accuracy                           0.79      2113\n",
      "   macro avg       0.73      0.71      0.72      2113\n",
      "weighted avg       0.78      0.79      0.78      2113\n",
      "\n"
     ]
    }
   ],
   "source": [
    "#DT\n",
    "dt.fit(x_train, y_train)\n",
    "y_pred_dt = dt.predict(x_test)\n",
    "\n",
    "accuracy_dt = accuracy_score(y_test, y_pred_dt)\n",
    "print('Accuracy score: {:.10f}'.format(accuracy_dt))\n",
    "print(\"Classification Report\")\n",
    "print(classification_report(y_test, y_pred_dt))"
   ]
  },
  {
   "cell_type": "code",
   "execution_count": 36,
   "id": "ceramic-liberia",
   "metadata": {},
   "outputs": [
    {
     "name": "stdout",
     "output_type": "stream",
     "text": [
      "Accuracy score: 0.7557974444\n",
      "Classification Report\n",
      "              precision    recall  f1-score   support\n",
      "\n",
      "          No       0.82      0.85      0.84      1552\n",
      "         Yes       0.54      0.50      0.52       561\n",
      "\n",
      "    accuracy                           0.76      2113\n",
      "   macro avg       0.68      0.67      0.68      2113\n",
      "weighted avg       0.75      0.76      0.75      2113\n",
      "\n"
     ]
    }
   ],
   "source": [
    "#Ada\n",
    "ada.fit(x_train, y_train)\n",
    "y_pred_ada = ada.predict(x_test)\n",
    "\n",
    "accuracy_ada = accuracy_score(y_test, y_pred_ada)\n",
    "print('Accuracy score: {:.10f}'.format(accuracy_ada))\n",
    "print(\"Classification Report\")\n",
    "print(classification_report(y_test, y_pred_ada))"
   ]
  },
  {
   "cell_type": "markdown",
   "id": "measured-deadline",
   "metadata": {},
   "source": [
    "### 1.5 Decision Tree and Ada Boosting with Resampled Data"
   ]
  },
  {
   "cell_type": "code",
   "execution_count": 33,
   "id": "destroyed-validity",
   "metadata": {},
   "outputs": [],
   "source": [
    "dt = DecisionTreeClassifier(max_depth=7, random_state=SEED)\n",
    "ada = AdaBoostClassifier(base_estimator=dt, n_estimators=200, random_state=SEED)"
   ]
  },
  {
   "cell_type": "code",
   "execution_count": 34,
   "id": "advisory-poultry",
   "metadata": {},
   "outputs": [
    {
     "name": "stdout",
     "output_type": "stream",
     "text": [
      "Accuracy score: 0.7023189778\n",
      "Classification Report\n",
      "              precision    recall  f1-score   support\n",
      "\n",
      "          No       0.90      0.67      0.77      1552\n",
      "         Yes       0.46      0.80      0.59       561\n",
      "\n",
      "    accuracy                           0.70      2113\n",
      "   macro avg       0.68      0.73      0.68      2113\n",
      "weighted avg       0.78      0.70      0.72      2113\n",
      "\n"
     ]
    }
   ],
   "source": [
    "#DT\n",
    "dt.fit(x_train_rs, y_train_rs)\n",
    "y_pred_dt = dt.predict(x_test)\n",
    "\n",
    "accuracy_dt = accuracy_score(y_test, y_pred_dt)\n",
    "print('Accuracy score: {:.10f}'.format(accuracy_dt))\n",
    "print(\"Classification Report\")\n",
    "print(classification_report(y_test, y_pred_dt))"
   ]
  },
  {
   "cell_type": "code",
   "execution_count": 37,
   "id": "neither-winner",
   "metadata": {},
   "outputs": [
    {
     "name": "stdout",
     "output_type": "stream",
     "text": [
      "Accuracy score: 0.7524846190\n",
      "Classification Report\n",
      "              precision    recall  f1-score   support\n",
      "\n",
      "          No       0.81      0.87      0.84      1552\n",
      "         Yes       0.54      0.43      0.48       561\n",
      "\n",
      "    accuracy                           0.75      2113\n",
      "   macro avg       0.68      0.65      0.66      2113\n",
      "weighted avg       0.74      0.75      0.74      2113\n",
      "\n"
     ]
    }
   ],
   "source": [
    "#Ada\n",
    "ada.fit(x_train_rs, y_train_rs)\n",
    "y_pred_ada = ada.predict(x_test)\n",
    "\n",
    "accuracy_ada = accuracy_score(y_test, y_pred_ada)\n",
    "print('Accuracy score: {:.10f}'.format(accuracy_ada))\n",
    "print(\"Classification Report\")\n",
    "print(classification_report(y_test, y_pred_ada))"
   ]
  },
  {
   "cell_type": "markdown",
   "id": "interim-addiction",
   "metadata": {},
   "source": [
    "### 1.6 Gradient Boosting with Original Data"
   ]
  },
  {
   "cell_type": "code",
   "execution_count": 30,
   "id": "original-regulation",
   "metadata": {},
   "outputs": [
    {
     "name": "stdout",
     "output_type": "stream",
     "text": [
      "Accuracy score: 0.7676289636\n",
      "Classification Report\n",
      "              precision    recall  f1-score   support\n",
      "\n",
      "          No       0.83      0.87      0.85      1552\n",
      "         Yes       0.57      0.49      0.53       561\n",
      "\n",
      "    accuracy                           0.77      2113\n",
      "   macro avg       0.70      0.68      0.69      2113\n",
      "weighted avg       0.76      0.77      0.76      2113\n",
      "\n"
     ]
    }
   ],
   "source": [
    "gb = GradientBoostingClassifier(n_estimators=20, learning_rate=0.5, max_features=4, max_depth=8, random_state=SEED)\n",
    "gb.fit(x_train, y_train)\n",
    "y_pred_gb = gb.predict(x_test)\n",
    "\n",
    "accuracy_gb = accuracy_score(y_test, y_pred_gb)\n",
    "print('Accuracy score: {:.10f}'.format(accuracy_gb))\n",
    "print(\"Classification Report\")\n",
    "print(classification_report(y_test, y_pred_gb))"
   ]
  },
  {
   "cell_type": "markdown",
   "id": "distributed-broadcast",
   "metadata": {},
   "source": [
    "### 1.7 Gradient Boosting with Resampled Data"
   ]
  },
  {
   "cell_type": "code",
   "execution_count": 39,
   "id": "talented-canal",
   "metadata": {},
   "outputs": [
    {
     "name": "stdout",
     "output_type": "stream",
     "text": [
      "Accuracy score: 0.7482252721\n",
      "Classification Report\n",
      "              precision    recall  f1-score   support\n",
      "\n",
      "          No       0.85      0.80      0.82      1552\n",
      "         Yes       0.52      0.60      0.56       561\n",
      "\n",
      "    accuracy                           0.75      2113\n",
      "   macro avg       0.69      0.70      0.69      2113\n",
      "weighted avg       0.76      0.75      0.75      2113\n",
      "\n"
     ]
    }
   ],
   "source": [
    "gb = GradientBoostingClassifier(n_estimators=20, learning_rate=0.5, max_features=4, max_depth=8, random_state=SEED)\n",
    "gb.fit(x_train_rs, y_train_rs)\n",
    "y_pred_gb = gb.predict(x_test)\n",
    "\n",
    "accuracy_gb = accuracy_score(y_test, y_pred_gb)\n",
    "print('Accuracy score: {:.10f}'.format(accuracy_gb))\n",
    "print(\"Classification Report\")\n",
    "print(classification_report(y_test, y_pred_gb))"
   ]
  },
  {
   "cell_type": "markdown",
   "id": "directed-aggregate",
   "metadata": {},
   "source": [
    "### 1.8 PCA Dimension Reduction with Original Data"
   ]
  },
  {
   "cell_type": "code",
   "execution_count": 53,
   "id": "gorgeous-amino",
   "metadata": {},
   "outputs": [],
   "source": [
    "rf = RandomForestClassifier(n_estimators=200, max_depth=7,random_state=SEED)\n",
    "scale = StandardScaler()"
   ]
  },
  {
   "cell_type": "code",
   "execution_count": 54,
   "id": "obvious-marijuana",
   "metadata": {},
   "outputs": [],
   "source": [
    "x_train_scaled = scale.fit_transform(x_train)\n",
    "x_test_scaled = scale.transform(x_test)"
   ]
  },
  {
   "cell_type": "code",
   "execution_count": 55,
   "id": "following-latest",
   "metadata": {},
   "outputs": [
    {
     "name": "stdout",
     "output_type": "stream",
     "text": [
      "Accuracy score: 0.7922385234\n",
      "Classification Report\n",
      "              precision    recall  f1-score   support\n",
      "\n",
      "          No       0.82      0.91      0.87      1552\n",
      "         Yes       0.65      0.46      0.54       561\n",
      "\n",
      "    accuracy                           0.79      2113\n",
      "   macro avg       0.74      0.69      0.70      2113\n",
      "weighted avg       0.78      0.79      0.78      2113\n",
      "\n"
     ]
    }
   ],
   "source": [
    "x_train_pca = pca.fit_transform(x_train_scaled)\n",
    "x_test_pca = pca.transform(x_test_scaled)\n",
    "rf.fit(x_train_pca, y_train)\n",
    "y_pred_rf_pca = rf.predict(x_test_pca)\n",
    "accuracy_rf_pca = accuracy_score(y_test, y_pred_rf_pca)\n",
    "print('Accuracy score: {:.10f}'.format(accuracy_rf_pca))\n",
    "print(\"Classification Report\")\n",
    "print(classification_report(y_test, y_pred_rf_pca))"
   ]
  },
  {
   "cell_type": "markdown",
   "id": "desirable-initial",
   "metadata": {},
   "source": [
    "### 1.9 PCA Dimension Reduction with Resampled Data"
   ]
  },
  {
   "cell_type": "code",
   "execution_count": 72,
   "id": "suitable-vertex",
   "metadata": {},
   "outputs": [],
   "source": [
    "rf = RandomForestClassifier(n_estimators=200, max_depth=7,random_state=SEED)\n",
    "scale = StandardScaler()"
   ]
  },
  {
   "cell_type": "code",
   "execution_count": 73,
   "id": "ethical-silver",
   "metadata": {},
   "outputs": [],
   "source": [
    "x_train_rs_scaled = scale.fit_transform(x_train_rs)\n",
    "x_test_rs_scaled = scale.transform(x_test)"
   ]
  },
  {
   "cell_type": "code",
   "execution_count": 74,
   "id": "conditional-theorem",
   "metadata": {},
   "outputs": [
    {
     "name": "stdout",
     "output_type": "stream",
     "text": [
      "Accuracy score: 0.7425461429\n",
      "Classification Report\n",
      "              precision    recall  f1-score   support\n",
      "\n",
      "          No       0.89      0.74      0.81      1552\n",
      "         Yes       0.51      0.75      0.61       561\n",
      "\n",
      "    accuracy                           0.74      2113\n",
      "   macro avg       0.70      0.74      0.71      2113\n",
      "weighted avg       0.79      0.74      0.76      2113\n",
      "\n"
     ]
    }
   ],
   "source": [
    "# fit and transform data\n",
    "x_train_rs_pca = pca.fit_transform(x_train_rs_scaled)\n",
    "x_test_rs_pca = pca.transform(x_test_rs_scaled)\n",
    "rf.fit(x_train_rs_pca, y_train_rs)\n",
    "y_pred_rf_pca = rf.predict(x_test_rs_pca)\n",
    "accuracy_rf_pca = accuracy_score(y_test, y_pred_rf_pca)\n",
    "print('Accuracy score: {:.10f}'.format(accuracy_rf_pca))\n",
    "print(\"Classification Report\")\n",
    "print(classification_report(y_test, y_pred_rf_pca))"
   ]
  },
  {
   "cell_type": "markdown",
   "id": "fabulous-encoding",
   "metadata": {},
   "source": [
    "## Scenario One Summary:\n",
    "\n",
    "### Random Forest:\n",
    "- With nothing: 0.8035967818, f1 score: 0.87, 0.56\n",
    "- With PCA only: 0.7922385234, f1 score: 0.87, 0.54\n",
    "- With resampling only: 0.7449124468, f1 score: 0.81, 0.62\n",
    "- With PCA, resampling: 0.7425461429, f1 score: 0.81, 0.61\n",
    "\n",
    "### Gradient Boosting: \n",
    "- With nothing: 0.7676289636, f1 score: 0.85, 0.53\n",
    "- With resampling only: 0.7482252721, f1 score: 0.82, 0.56\n",
    "\n",
    "### Ada Boosting:\n",
    "- With nothing: 0.7557974444, f1 score: 0.84, 0.52\n",
    "- With resampling only: 0.7524846190, f1 score: 0.84, 0.48\n",
    "\n",
    "### Decision Tree:\n",
    "- With nothing: 0.7884524373, f1 score: 0.86, 0.57\n",
    "- With resampling only: 0.7023189778, f1 score: 0.77, 0.59"
   ]
  },
  {
   "cell_type": "markdown",
   "id": "worth-washer",
   "metadata": {},
   "source": [
    "## Scenario 2 - With Combination (No Services and No) - Selected Approach"
   ]
  },
  {
   "cell_type": "code",
   "execution_count": 3,
   "id": "coordinate-change",
   "metadata": {},
   "outputs": [],
   "source": [
    "df = pd.read_csv('WA_Fn-UseC_-Telco-Customer-Churn.csv')"
   ]
  },
  {
   "cell_type": "code",
   "execution_count": 4,
   "id": "parliamentary-state",
   "metadata": {},
   "outputs": [],
   "source": [
    "x2 = df.drop(['customerID','Churn','TotalCharges'],axis=1)"
   ]
  },
  {
   "cell_type": "code",
   "execution_count": 5,
   "id": "broken-formation",
   "metadata": {},
   "outputs": [],
   "source": [
    "y = df['Churn']"
   ]
  },
  {
   "cell_type": "code",
   "execution_count": 6,
   "id": "polar-shirt",
   "metadata": {
    "scrolled": true
   },
   "outputs": [
    {
     "name": "stdout",
     "output_type": "stream",
     "text": [
      "<class 'pandas.core.frame.DataFrame'>\n",
      "RangeIndex: 7043 entries, 0 to 7042\n",
      "Data columns (total 18 columns):\n",
      " #   Column            Non-Null Count  Dtype  \n",
      "---  ------            --------------  -----  \n",
      " 0   gender            7043 non-null   object \n",
      " 1   SeniorCitizen     7043 non-null   int64  \n",
      " 2   Partner           7043 non-null   object \n",
      " 3   Dependents        7043 non-null   object \n",
      " 4   tenure            7043 non-null   int64  \n",
      " 5   PhoneService      7043 non-null   object \n",
      " 6   MultipleLines     7043 non-null   object \n",
      " 7   InternetService   7043 non-null   object \n",
      " 8   OnlineSecurity    7043 non-null   object \n",
      " 9   OnlineBackup      7043 non-null   object \n",
      " 10  DeviceProtection  7043 non-null   object \n",
      " 11  TechSupport       7043 non-null   object \n",
      " 12  StreamingTV       7043 non-null   object \n",
      " 13  StreamingMovies   7043 non-null   object \n",
      " 14  Contract          7043 non-null   object \n",
      " 15  PaperlessBilling  7043 non-null   object \n",
      " 16  PaymentMethod     7043 non-null   object \n",
      " 17  MonthlyCharges    7043 non-null   float64\n",
      "dtypes: float64(1), int64(2), object(15)\n",
      "memory usage: 990.5+ KB\n"
     ]
    }
   ],
   "source": [
    "x2.info()"
   ]
  },
  {
   "cell_type": "code",
   "execution_count": 7,
   "id": "accessible-berlin",
   "metadata": {},
   "outputs": [
    {
     "data": {
      "text/plain": [
       "(7043, 18)"
      ]
     },
     "execution_count": 7,
     "metadata": {},
     "output_type": "execute_result"
    }
   ],
   "source": [
    "x2.shape"
   ]
  },
  {
   "cell_type": "code",
   "execution_count": 8,
   "id": "alien-earthquake",
   "metadata": {},
   "outputs": [
    {
     "data": {
      "text/plain": [
       "No                  3390\n",
       "Yes                 2971\n",
       "No phone service     682\n",
       "Name: MultipleLines, dtype: int64"
      ]
     },
     "execution_count": 8,
     "metadata": {},
     "output_type": "execute_result"
    }
   ],
   "source": [
    "x2['MultipleLines'].value_counts()"
   ]
  },
  {
   "cell_type": "code",
   "execution_count": 9,
   "id": "occasional-logging",
   "metadata": {},
   "outputs": [],
   "source": [
    "x2.loc[x2['MultipleLines']=='No phone service','MultipleLines'] = 'No'"
   ]
  },
  {
   "cell_type": "code",
   "execution_count": 10,
   "id": "sealed-adventure",
   "metadata": {},
   "outputs": [],
   "source": [
    "x2.loc[x2['OnlineSecurity']=='No internet service','OnlineSecurity'] = 'No'"
   ]
  },
  {
   "cell_type": "code",
   "execution_count": 11,
   "id": "greatest-spray",
   "metadata": {},
   "outputs": [],
   "source": [
    "x2.loc[x2['OnlineBackup']=='No internet service','OnlineBackup'] = 'No'"
   ]
  },
  {
   "cell_type": "code",
   "execution_count": 12,
   "id": "seven-gibraltar",
   "metadata": {},
   "outputs": [],
   "source": [
    "x2.loc[x2['DeviceProtection']=='No internet service','DeviceProtection'] = 'No'"
   ]
  },
  {
   "cell_type": "code",
   "execution_count": 13,
   "id": "bridal-conditions",
   "metadata": {},
   "outputs": [],
   "source": [
    "x2.loc[x2['TechSupport']=='No internet service','TechSupport'] = 'No'"
   ]
  },
  {
   "cell_type": "code",
   "execution_count": 14,
   "id": "alpha-guyana",
   "metadata": {},
   "outputs": [
    {
     "data": {
      "text/plain": [
       "No                     2810\n",
       "Yes                    2707\n",
       "No internet service    1526\n",
       "Name: StreamingTV, dtype: int64"
      ]
     },
     "execution_count": 14,
     "metadata": {},
     "output_type": "execute_result"
    }
   ],
   "source": [
    "x2['StreamingTV'].value_counts()"
   ]
  },
  {
   "cell_type": "code",
   "execution_count": 15,
   "id": "existing-occupation",
   "metadata": {},
   "outputs": [],
   "source": [
    "x2.loc[x2['StreamingTV']=='No internet service','StreamingTV'] = 'No'"
   ]
  },
  {
   "cell_type": "code",
   "execution_count": 16,
   "id": "finished-gnome",
   "metadata": {},
   "outputs": [
    {
     "data": {
      "text/plain": [
       "No                     2785\n",
       "Yes                    2732\n",
       "No internet service    1526\n",
       "Name: StreamingMovies, dtype: int64"
      ]
     },
     "execution_count": 16,
     "metadata": {},
     "output_type": "execute_result"
    }
   ],
   "source": [
    "df['StreamingMovies'].value_counts()"
   ]
  },
  {
   "cell_type": "code",
   "execution_count": 17,
   "id": "former-victory",
   "metadata": {},
   "outputs": [],
   "source": [
    "x2.loc[x2['StreamingMovies']=='No internet service','StreamingMovies'] = 'No'"
   ]
  },
  {
   "cell_type": "code",
   "execution_count": 18,
   "id": "short-martial",
   "metadata": {},
   "outputs": [
    {
     "data": {
      "text/plain": [
       "(7043, 18)"
      ]
     },
     "execution_count": 18,
     "metadata": {},
     "output_type": "execute_result"
    }
   ],
   "source": [
    "x2.shape"
   ]
  },
  {
   "cell_type": "code",
   "execution_count": 19,
   "id": "infinite-floating",
   "metadata": {},
   "outputs": [],
   "source": [
    "x2 = pd.get_dummies(x2,drop_first=True)"
   ]
  },
  {
   "cell_type": "code",
   "execution_count": 20,
   "id": "rubber-wallet",
   "metadata": {},
   "outputs": [
    {
     "data": {
      "text/plain": [
       "(7043, 22)"
      ]
     },
     "execution_count": 20,
     "metadata": {},
     "output_type": "execute_result"
    }
   ],
   "source": [
    "x2.shape"
   ]
  },
  {
   "cell_type": "code",
   "execution_count": 21,
   "id": "explicit-perry",
   "metadata": {},
   "outputs": [
    {
     "name": "stdout",
     "output_type": "stream",
     "text": [
      "<class 'pandas.core.frame.DataFrame'>\n",
      "RangeIndex: 7043 entries, 0 to 7042\n",
      "Data columns (total 22 columns):\n",
      " #   Column                                 Non-Null Count  Dtype  \n",
      "---  ------                                 --------------  -----  \n",
      " 0   SeniorCitizen                          7043 non-null   int64  \n",
      " 1   tenure                                 7043 non-null   int64  \n",
      " 2   MonthlyCharges                         7043 non-null   float64\n",
      " 3   gender_Male                            7043 non-null   uint8  \n",
      " 4   Partner_Yes                            7043 non-null   uint8  \n",
      " 5   Dependents_Yes                         7043 non-null   uint8  \n",
      " 6   PhoneService_Yes                       7043 non-null   uint8  \n",
      " 7   MultipleLines_Yes                      7043 non-null   uint8  \n",
      " 8   InternetService_Fiber optic            7043 non-null   uint8  \n",
      " 9   InternetService_No                     7043 non-null   uint8  \n",
      " 10  OnlineSecurity_Yes                     7043 non-null   uint8  \n",
      " 11  OnlineBackup_Yes                       7043 non-null   uint8  \n",
      " 12  DeviceProtection_Yes                   7043 non-null   uint8  \n",
      " 13  TechSupport_Yes                        7043 non-null   uint8  \n",
      " 14  StreamingTV_Yes                        7043 non-null   uint8  \n",
      " 15  StreamingMovies_Yes                    7043 non-null   uint8  \n",
      " 16  Contract_One year                      7043 non-null   uint8  \n",
      " 17  Contract_Two year                      7043 non-null   uint8  \n",
      " 18  PaperlessBilling_Yes                   7043 non-null   uint8  \n",
      " 19  PaymentMethod_Credit card (automatic)  7043 non-null   uint8  \n",
      " 20  PaymentMethod_Electronic check         7043 non-null   uint8  \n",
      " 21  PaymentMethod_Mailed check             7043 non-null   uint8  \n",
      "dtypes: float64(1), int64(2), uint8(19)\n",
      "memory usage: 295.9 KB\n"
     ]
    }
   ],
   "source": [
    "x2.info()"
   ]
  },
  {
   "cell_type": "code",
   "execution_count": 22,
   "id": "public-appeal",
   "metadata": {},
   "outputs": [],
   "source": [
    "SEED = 4\n",
    "(x_train, x_test, y_train, y_test) = train_test_split(x2, y, test_size=0.3, stratify=y, random_state=SEED)"
   ]
  },
  {
   "cell_type": "markdown",
   "id": "looking-penalty",
   "metadata": {},
   "source": [
    "### 2.1 Random Forest with Original Data"
   ]
  },
  {
   "cell_type": "code",
   "execution_count": 23,
   "id": "administrative-candidate",
   "metadata": {},
   "outputs": [],
   "source": [
    "rf = RandomForestClassifier(n_estimators=200,\n",
    "max_depth=7,\n",
    "random_state=SEED)"
   ]
  },
  {
   "cell_type": "code",
   "execution_count": 24,
   "id": "contemporary-intranet",
   "metadata": {},
   "outputs": [
    {
     "ename": "KeyboardInterrupt",
     "evalue": "",
     "output_type": "error",
     "traceback": [
      "\u001b[0;31m---------------------------------------------------------------------------\u001b[0m",
      "\u001b[0;31mKeyboardInterrupt\u001b[0m                         Traceback (most recent call last)",
      "\u001b[0;32m<ipython-input-24-fa75f89aad44>\u001b[0m in \u001b[0;36m<module>\u001b[0;34m\u001b[0m\n\u001b[1;32m      5\u001b[0m              }\n\u001b[1;32m      6\u001b[0m \u001b[0mgrid_clf\u001b[0m \u001b[0;34m=\u001b[0m \u001b[0mGridSearchCV\u001b[0m\u001b[0;34m(\u001b[0m\u001b[0mrf\u001b[0m\u001b[0;34m,\u001b[0m \u001b[0mparam_grid\u001b[0m\u001b[0;34m,\u001b[0m \u001b[0mcv\u001b[0m\u001b[0;34m=\u001b[0m\u001b[0;36m10\u001b[0m\u001b[0;34m)\u001b[0m\u001b[0;34m\u001b[0m\u001b[0m\n\u001b[0;32m----> 7\u001b[0;31m \u001b[0mgrid_clf\u001b[0m\u001b[0;34m.\u001b[0m\u001b[0mfit\u001b[0m\u001b[0;34m(\u001b[0m\u001b[0mx_train\u001b[0m\u001b[0;34m,\u001b[0m \u001b[0my_train\u001b[0m\u001b[0;34m)\u001b[0m\u001b[0;34m\u001b[0m\u001b[0m\n\u001b[0m",
      "\u001b[0;32m~/opt/anaconda3/lib/python3.7/site-packages/sklearn/utils/validation.py\u001b[0m in \u001b[0;36minner_f\u001b[0;34m(*args, **kwargs)\u001b[0m\n\u001b[1;32m     61\u001b[0m             \u001b[0mextra_args\u001b[0m \u001b[0;34m=\u001b[0m \u001b[0mlen\u001b[0m\u001b[0;34m(\u001b[0m\u001b[0margs\u001b[0m\u001b[0;34m)\u001b[0m \u001b[0;34m-\u001b[0m \u001b[0mlen\u001b[0m\u001b[0;34m(\u001b[0m\u001b[0mall_args\u001b[0m\u001b[0;34m)\u001b[0m\u001b[0;34m\u001b[0m\u001b[0m\n\u001b[1;32m     62\u001b[0m             \u001b[0;32mif\u001b[0m \u001b[0mextra_args\u001b[0m \u001b[0;34m<=\u001b[0m \u001b[0;36m0\u001b[0m\u001b[0;34m:\u001b[0m\u001b[0;34m\u001b[0m\u001b[0m\n\u001b[0;32m---> 63\u001b[0;31m                 \u001b[0;32mreturn\u001b[0m \u001b[0mf\u001b[0m\u001b[0;34m(\u001b[0m\u001b[0;34m*\u001b[0m\u001b[0margs\u001b[0m\u001b[0;34m,\u001b[0m \u001b[0;34m**\u001b[0m\u001b[0mkwargs\u001b[0m\u001b[0;34m)\u001b[0m\u001b[0;34m\u001b[0m\u001b[0m\n\u001b[0m\u001b[1;32m     64\u001b[0m \u001b[0;34m\u001b[0m\u001b[0m\n\u001b[1;32m     65\u001b[0m             \u001b[0;31m# extra_args > 0\u001b[0m\u001b[0;34m\u001b[0m\u001b[0;34m\u001b[0m\u001b[0m\n",
      "\u001b[0;32m~/opt/anaconda3/lib/python3.7/site-packages/sklearn/model_selection/_search.py\u001b[0m in \u001b[0;36mfit\u001b[0;34m(self, X, y, groups, **fit_params)\u001b[0m\n\u001b[1;32m    839\u001b[0m                 \u001b[0;32mreturn\u001b[0m \u001b[0mresults\u001b[0m\u001b[0;34m\u001b[0m\u001b[0m\n\u001b[1;32m    840\u001b[0m \u001b[0;34m\u001b[0m\u001b[0m\n\u001b[0;32m--> 841\u001b[0;31m             \u001b[0mself\u001b[0m\u001b[0;34m.\u001b[0m\u001b[0m_run_search\u001b[0m\u001b[0;34m(\u001b[0m\u001b[0mevaluate_candidates\u001b[0m\u001b[0;34m)\u001b[0m\u001b[0;34m\u001b[0m\u001b[0m\n\u001b[0m\u001b[1;32m    842\u001b[0m \u001b[0;34m\u001b[0m\u001b[0m\n\u001b[1;32m    843\u001b[0m             \u001b[0;31m# multimetric is determined here because in the case of a callable\u001b[0m\u001b[0;34m\u001b[0m\u001b[0;34m\u001b[0m\u001b[0m\n",
      "\u001b[0;32m~/opt/anaconda3/lib/python3.7/site-packages/sklearn/model_selection/_search.py\u001b[0m in \u001b[0;36m_run_search\u001b[0;34m(self, evaluate_candidates)\u001b[0m\n\u001b[1;32m   1286\u001b[0m     \u001b[0;32mdef\u001b[0m \u001b[0m_run_search\u001b[0m\u001b[0;34m(\u001b[0m\u001b[0mself\u001b[0m\u001b[0;34m,\u001b[0m \u001b[0mevaluate_candidates\u001b[0m\u001b[0;34m)\u001b[0m\u001b[0;34m:\u001b[0m\u001b[0;34m\u001b[0m\u001b[0m\n\u001b[1;32m   1287\u001b[0m         \u001b[0;34m\"\"\"Search all candidates in param_grid\"\"\"\u001b[0m\u001b[0;34m\u001b[0m\u001b[0m\n\u001b[0;32m-> 1288\u001b[0;31m         \u001b[0mevaluate_candidates\u001b[0m\u001b[0;34m(\u001b[0m\u001b[0mParameterGrid\u001b[0m\u001b[0;34m(\u001b[0m\u001b[0mself\u001b[0m\u001b[0;34m.\u001b[0m\u001b[0mparam_grid\u001b[0m\u001b[0;34m)\u001b[0m\u001b[0;34m)\u001b[0m\u001b[0;34m\u001b[0m\u001b[0m\n\u001b[0m\u001b[1;32m   1289\u001b[0m \u001b[0;34m\u001b[0m\u001b[0m\n\u001b[1;32m   1290\u001b[0m \u001b[0;34m\u001b[0m\u001b[0m\n",
      "\u001b[0;32m~/opt/anaconda3/lib/python3.7/site-packages/sklearn/model_selection/_search.py\u001b[0m in \u001b[0;36mevaluate_candidates\u001b[0;34m(candidate_params, cv, more_results)\u001b[0m\n\u001b[1;32m    807\u001b[0m                                    (split_idx, (train, test)) in product(\n\u001b[1;32m    808\u001b[0m                                    \u001b[0menumerate\u001b[0m\u001b[0;34m(\u001b[0m\u001b[0mcandidate_params\u001b[0m\u001b[0;34m)\u001b[0m\u001b[0;34m,\u001b[0m\u001b[0;34m\u001b[0m\u001b[0m\n\u001b[0;32m--> 809\u001b[0;31m                                    enumerate(cv.split(X, y, groups))))\n\u001b[0m\u001b[1;32m    810\u001b[0m \u001b[0;34m\u001b[0m\u001b[0m\n\u001b[1;32m    811\u001b[0m                 \u001b[0;32mif\u001b[0m \u001b[0mlen\u001b[0m\u001b[0;34m(\u001b[0m\u001b[0mout\u001b[0m\u001b[0;34m)\u001b[0m \u001b[0;34m<\u001b[0m \u001b[0;36m1\u001b[0m\u001b[0;34m:\u001b[0m\u001b[0;34m\u001b[0m\u001b[0m\n",
      "\u001b[0;32m~/opt/anaconda3/lib/python3.7/site-packages/joblib/parallel.py\u001b[0m in \u001b[0;36m__call__\u001b[0;34m(self, iterable)\u001b[0m\n\u001b[1;32m   1042\u001b[0m                 \u001b[0mself\u001b[0m\u001b[0;34m.\u001b[0m\u001b[0m_iterating\u001b[0m \u001b[0;34m=\u001b[0m \u001b[0mself\u001b[0m\u001b[0;34m.\u001b[0m\u001b[0m_original_iterator\u001b[0m \u001b[0;32mis\u001b[0m \u001b[0;32mnot\u001b[0m \u001b[0;32mNone\u001b[0m\u001b[0;34m\u001b[0m\u001b[0m\n\u001b[1;32m   1043\u001b[0m \u001b[0;34m\u001b[0m\u001b[0m\n\u001b[0;32m-> 1044\u001b[0;31m             \u001b[0;32mwhile\u001b[0m \u001b[0mself\u001b[0m\u001b[0;34m.\u001b[0m\u001b[0mdispatch_one_batch\u001b[0m\u001b[0;34m(\u001b[0m\u001b[0miterator\u001b[0m\u001b[0;34m)\u001b[0m\u001b[0;34m:\u001b[0m\u001b[0;34m\u001b[0m\u001b[0m\n\u001b[0m\u001b[1;32m   1045\u001b[0m                 \u001b[0;32mpass\u001b[0m\u001b[0;34m\u001b[0m\u001b[0m\n\u001b[1;32m   1046\u001b[0m \u001b[0;34m\u001b[0m\u001b[0m\n",
      "\u001b[0;32m~/opt/anaconda3/lib/python3.7/site-packages/joblib/parallel.py\u001b[0m in \u001b[0;36mdispatch_one_batch\u001b[0;34m(self, iterator)\u001b[0m\n\u001b[1;32m    857\u001b[0m                 \u001b[0;32mreturn\u001b[0m \u001b[0;32mFalse\u001b[0m\u001b[0;34m\u001b[0m\u001b[0m\n\u001b[1;32m    858\u001b[0m             \u001b[0;32melse\u001b[0m\u001b[0;34m:\u001b[0m\u001b[0;34m\u001b[0m\u001b[0m\n\u001b[0;32m--> 859\u001b[0;31m                 \u001b[0mself\u001b[0m\u001b[0;34m.\u001b[0m\u001b[0m_dispatch\u001b[0m\u001b[0;34m(\u001b[0m\u001b[0mtasks\u001b[0m\u001b[0;34m)\u001b[0m\u001b[0;34m\u001b[0m\u001b[0m\n\u001b[0m\u001b[1;32m    860\u001b[0m                 \u001b[0;32mreturn\u001b[0m \u001b[0;32mTrue\u001b[0m\u001b[0;34m\u001b[0m\u001b[0m\n\u001b[1;32m    861\u001b[0m \u001b[0;34m\u001b[0m\u001b[0m\n",
      "\u001b[0;32m~/opt/anaconda3/lib/python3.7/site-packages/joblib/parallel.py\u001b[0m in \u001b[0;36m_dispatch\u001b[0;34m(self, batch)\u001b[0m\n\u001b[1;32m    775\u001b[0m         \u001b[0;32mwith\u001b[0m \u001b[0mself\u001b[0m\u001b[0;34m.\u001b[0m\u001b[0m_lock\u001b[0m\u001b[0;34m:\u001b[0m\u001b[0;34m\u001b[0m\u001b[0m\n\u001b[1;32m    776\u001b[0m             \u001b[0mjob_idx\u001b[0m \u001b[0;34m=\u001b[0m \u001b[0mlen\u001b[0m\u001b[0;34m(\u001b[0m\u001b[0mself\u001b[0m\u001b[0;34m.\u001b[0m\u001b[0m_jobs\u001b[0m\u001b[0;34m)\u001b[0m\u001b[0;34m\u001b[0m\u001b[0m\n\u001b[0;32m--> 777\u001b[0;31m             \u001b[0mjob\u001b[0m \u001b[0;34m=\u001b[0m \u001b[0mself\u001b[0m\u001b[0;34m.\u001b[0m\u001b[0m_backend\u001b[0m\u001b[0;34m.\u001b[0m\u001b[0mapply_async\u001b[0m\u001b[0;34m(\u001b[0m\u001b[0mbatch\u001b[0m\u001b[0;34m,\u001b[0m \u001b[0mcallback\u001b[0m\u001b[0;34m=\u001b[0m\u001b[0mcb\u001b[0m\u001b[0;34m)\u001b[0m\u001b[0;34m\u001b[0m\u001b[0m\n\u001b[0m\u001b[1;32m    778\u001b[0m             \u001b[0;31m# A job can complete so quickly than its callback is\u001b[0m\u001b[0;34m\u001b[0m\u001b[0;34m\u001b[0m\u001b[0m\n\u001b[1;32m    779\u001b[0m             \u001b[0;31m# called before we get here, causing self._jobs to\u001b[0m\u001b[0;34m\u001b[0m\u001b[0;34m\u001b[0m\u001b[0m\n",
      "\u001b[0;32m~/opt/anaconda3/lib/python3.7/site-packages/joblib/_parallel_backends.py\u001b[0m in \u001b[0;36mapply_async\u001b[0;34m(self, func, callback)\u001b[0m\n\u001b[1;32m    206\u001b[0m     \u001b[0;32mdef\u001b[0m \u001b[0mapply_async\u001b[0m\u001b[0;34m(\u001b[0m\u001b[0mself\u001b[0m\u001b[0;34m,\u001b[0m \u001b[0mfunc\u001b[0m\u001b[0;34m,\u001b[0m \u001b[0mcallback\u001b[0m\u001b[0;34m=\u001b[0m\u001b[0;32mNone\u001b[0m\u001b[0;34m)\u001b[0m\u001b[0;34m:\u001b[0m\u001b[0;34m\u001b[0m\u001b[0m\n\u001b[1;32m    207\u001b[0m         \u001b[0;34m\"\"\"Schedule a func to be run\"\"\"\u001b[0m\u001b[0;34m\u001b[0m\u001b[0m\n\u001b[0;32m--> 208\u001b[0;31m         \u001b[0mresult\u001b[0m \u001b[0;34m=\u001b[0m \u001b[0mImmediateResult\u001b[0m\u001b[0;34m(\u001b[0m\u001b[0mfunc\u001b[0m\u001b[0;34m)\u001b[0m\u001b[0;34m\u001b[0m\u001b[0m\n\u001b[0m\u001b[1;32m    209\u001b[0m         \u001b[0;32mif\u001b[0m \u001b[0mcallback\u001b[0m\u001b[0;34m:\u001b[0m\u001b[0;34m\u001b[0m\u001b[0m\n\u001b[1;32m    210\u001b[0m             \u001b[0mcallback\u001b[0m\u001b[0;34m(\u001b[0m\u001b[0mresult\u001b[0m\u001b[0;34m)\u001b[0m\u001b[0;34m\u001b[0m\u001b[0m\n",
      "\u001b[0;32m~/opt/anaconda3/lib/python3.7/site-packages/joblib/_parallel_backends.py\u001b[0m in \u001b[0;36m__init__\u001b[0;34m(self, batch)\u001b[0m\n\u001b[1;32m    570\u001b[0m         \u001b[0;31m# Don't delay the application, to avoid keeping the input\u001b[0m\u001b[0;34m\u001b[0m\u001b[0;34m\u001b[0m\u001b[0m\n\u001b[1;32m    571\u001b[0m         \u001b[0;31m# arguments in memory\u001b[0m\u001b[0;34m\u001b[0m\u001b[0;34m\u001b[0m\u001b[0m\n\u001b[0;32m--> 572\u001b[0;31m         \u001b[0mself\u001b[0m\u001b[0;34m.\u001b[0m\u001b[0mresults\u001b[0m \u001b[0;34m=\u001b[0m \u001b[0mbatch\u001b[0m\u001b[0;34m(\u001b[0m\u001b[0;34m)\u001b[0m\u001b[0;34m\u001b[0m\u001b[0m\n\u001b[0m\u001b[1;32m    573\u001b[0m \u001b[0;34m\u001b[0m\u001b[0m\n\u001b[1;32m    574\u001b[0m     \u001b[0;32mdef\u001b[0m \u001b[0mget\u001b[0m\u001b[0;34m(\u001b[0m\u001b[0mself\u001b[0m\u001b[0;34m)\u001b[0m\u001b[0;34m:\u001b[0m\u001b[0;34m\u001b[0m\u001b[0m\n",
      "\u001b[0;32m~/opt/anaconda3/lib/python3.7/site-packages/joblib/parallel.py\u001b[0m in \u001b[0;36m__call__\u001b[0;34m(self)\u001b[0m\n\u001b[1;32m    261\u001b[0m         \u001b[0;32mwith\u001b[0m \u001b[0mparallel_backend\u001b[0m\u001b[0;34m(\u001b[0m\u001b[0mself\u001b[0m\u001b[0;34m.\u001b[0m\u001b[0m_backend\u001b[0m\u001b[0;34m,\u001b[0m \u001b[0mn_jobs\u001b[0m\u001b[0;34m=\u001b[0m\u001b[0mself\u001b[0m\u001b[0;34m.\u001b[0m\u001b[0m_n_jobs\u001b[0m\u001b[0;34m)\u001b[0m\u001b[0;34m:\u001b[0m\u001b[0;34m\u001b[0m\u001b[0m\n\u001b[1;32m    262\u001b[0m             return [func(*args, **kwargs)\n\u001b[0;32m--> 263\u001b[0;31m                     for func, args, kwargs in self.items]\n\u001b[0m\u001b[1;32m    264\u001b[0m \u001b[0;34m\u001b[0m\u001b[0m\n\u001b[1;32m    265\u001b[0m     \u001b[0;32mdef\u001b[0m \u001b[0m__reduce__\u001b[0m\u001b[0;34m(\u001b[0m\u001b[0mself\u001b[0m\u001b[0;34m)\u001b[0m\u001b[0;34m:\u001b[0m\u001b[0;34m\u001b[0m\u001b[0m\n",
      "\u001b[0;32m~/opt/anaconda3/lib/python3.7/site-packages/joblib/parallel.py\u001b[0m in \u001b[0;36m<listcomp>\u001b[0;34m(.0)\u001b[0m\n\u001b[1;32m    261\u001b[0m         \u001b[0;32mwith\u001b[0m \u001b[0mparallel_backend\u001b[0m\u001b[0;34m(\u001b[0m\u001b[0mself\u001b[0m\u001b[0;34m.\u001b[0m\u001b[0m_backend\u001b[0m\u001b[0;34m,\u001b[0m \u001b[0mn_jobs\u001b[0m\u001b[0;34m=\u001b[0m\u001b[0mself\u001b[0m\u001b[0;34m.\u001b[0m\u001b[0m_n_jobs\u001b[0m\u001b[0;34m)\u001b[0m\u001b[0;34m:\u001b[0m\u001b[0;34m\u001b[0m\u001b[0m\n\u001b[1;32m    262\u001b[0m             return [func(*args, **kwargs)\n\u001b[0;32m--> 263\u001b[0;31m                     for func, args, kwargs in self.items]\n\u001b[0m\u001b[1;32m    264\u001b[0m \u001b[0;34m\u001b[0m\u001b[0m\n\u001b[1;32m    265\u001b[0m     \u001b[0;32mdef\u001b[0m \u001b[0m__reduce__\u001b[0m\u001b[0;34m(\u001b[0m\u001b[0mself\u001b[0m\u001b[0;34m)\u001b[0m\u001b[0;34m:\u001b[0m\u001b[0;34m\u001b[0m\u001b[0m\n",
      "\u001b[0;32m~/opt/anaconda3/lib/python3.7/site-packages/sklearn/utils/fixes.py\u001b[0m in \u001b[0;36m__call__\u001b[0;34m(self, *args, **kwargs)\u001b[0m\n\u001b[1;32m    220\u001b[0m     \u001b[0;32mdef\u001b[0m \u001b[0m__call__\u001b[0m\u001b[0;34m(\u001b[0m\u001b[0mself\u001b[0m\u001b[0;34m,\u001b[0m \u001b[0;34m*\u001b[0m\u001b[0margs\u001b[0m\u001b[0;34m,\u001b[0m \u001b[0;34m**\u001b[0m\u001b[0mkwargs\u001b[0m\u001b[0;34m)\u001b[0m\u001b[0;34m:\u001b[0m\u001b[0;34m\u001b[0m\u001b[0m\n\u001b[1;32m    221\u001b[0m         \u001b[0;32mwith\u001b[0m \u001b[0mconfig_context\u001b[0m\u001b[0;34m(\u001b[0m\u001b[0;34m**\u001b[0m\u001b[0mself\u001b[0m\u001b[0;34m.\u001b[0m\u001b[0mconfig\u001b[0m\u001b[0;34m)\u001b[0m\u001b[0;34m:\u001b[0m\u001b[0;34m\u001b[0m\u001b[0m\n\u001b[0;32m--> 222\u001b[0;31m             \u001b[0;32mreturn\u001b[0m \u001b[0mself\u001b[0m\u001b[0;34m.\u001b[0m\u001b[0mfunction\u001b[0m\u001b[0;34m(\u001b[0m\u001b[0;34m*\u001b[0m\u001b[0margs\u001b[0m\u001b[0;34m,\u001b[0m \u001b[0;34m**\u001b[0m\u001b[0mkwargs\u001b[0m\u001b[0;34m)\u001b[0m\u001b[0;34m\u001b[0m\u001b[0m\n\u001b[0m",
      "\u001b[0;32m~/opt/anaconda3/lib/python3.7/site-packages/sklearn/model_selection/_validation.py\u001b[0m in \u001b[0;36m_fit_and_score\u001b[0;34m(estimator, X, y, scorer, train, test, verbose, parameters, fit_params, return_train_score, return_parameters, return_n_test_samples, return_times, return_estimator, split_progress, candidate_progress, error_score)\u001b[0m\n\u001b[1;32m    591\u001b[0m             \u001b[0mestimator\u001b[0m\u001b[0;34m.\u001b[0m\u001b[0mfit\u001b[0m\u001b[0;34m(\u001b[0m\u001b[0mX_train\u001b[0m\u001b[0;34m,\u001b[0m \u001b[0;34m**\u001b[0m\u001b[0mfit_params\u001b[0m\u001b[0;34m)\u001b[0m\u001b[0;34m\u001b[0m\u001b[0m\n\u001b[1;32m    592\u001b[0m         \u001b[0;32melse\u001b[0m\u001b[0;34m:\u001b[0m\u001b[0;34m\u001b[0m\u001b[0m\n\u001b[0;32m--> 593\u001b[0;31m             \u001b[0mestimator\u001b[0m\u001b[0;34m.\u001b[0m\u001b[0mfit\u001b[0m\u001b[0;34m(\u001b[0m\u001b[0mX_train\u001b[0m\u001b[0;34m,\u001b[0m \u001b[0my_train\u001b[0m\u001b[0;34m,\u001b[0m \u001b[0;34m**\u001b[0m\u001b[0mfit_params\u001b[0m\u001b[0;34m)\u001b[0m\u001b[0;34m\u001b[0m\u001b[0m\n\u001b[0m\u001b[1;32m    594\u001b[0m \u001b[0;34m\u001b[0m\u001b[0m\n\u001b[1;32m    595\u001b[0m     \u001b[0;32mexcept\u001b[0m \u001b[0mException\u001b[0m \u001b[0;32mas\u001b[0m \u001b[0me\u001b[0m\u001b[0;34m:\u001b[0m\u001b[0;34m\u001b[0m\u001b[0m\n",
      "\u001b[0;32m~/opt/anaconda3/lib/python3.7/site-packages/sklearn/ensemble/_forest.py\u001b[0m in \u001b[0;36mfit\u001b[0;34m(self, X, y, sample_weight)\u001b[0m\n\u001b[1;32m    377\u001b[0m             trees = [self._make_estimator(append=False,\n\u001b[1;32m    378\u001b[0m                                           random_state=random_state)\n\u001b[0;32m--> 379\u001b[0;31m                      for i in range(n_more_estimators)]\n\u001b[0m\u001b[1;32m    380\u001b[0m \u001b[0;34m\u001b[0m\u001b[0m\n\u001b[1;32m    381\u001b[0m             \u001b[0;31m# Parallel loop: we prefer the threading backend as the Cython code\u001b[0m\u001b[0;34m\u001b[0m\u001b[0;34m\u001b[0m\u001b[0m\n",
      "\u001b[0;32m~/opt/anaconda3/lib/python3.7/site-packages/sklearn/ensemble/_forest.py\u001b[0m in \u001b[0;36m<listcomp>\u001b[0;34m(.0)\u001b[0m\n\u001b[1;32m    377\u001b[0m             trees = [self._make_estimator(append=False,\n\u001b[1;32m    378\u001b[0m                                           random_state=random_state)\n\u001b[0;32m--> 379\u001b[0;31m                      for i in range(n_more_estimators)]\n\u001b[0m\u001b[1;32m    380\u001b[0m \u001b[0;34m\u001b[0m\u001b[0m\n\u001b[1;32m    381\u001b[0m             \u001b[0;31m# Parallel loop: we prefer the threading backend as the Cython code\u001b[0m\u001b[0;34m\u001b[0m\u001b[0;34m\u001b[0m\u001b[0m\n",
      "\u001b[0;32m~/opt/anaconda3/lib/python3.7/site-packages/sklearn/ensemble/_base.py\u001b[0m in \u001b[0;36m_make_estimator\u001b[0;34m(self, append, random_state)\u001b[0m\n\u001b[1;32m    150\u001b[0m         \u001b[0mestimator\u001b[0m \u001b[0;34m=\u001b[0m \u001b[0mclone\u001b[0m\u001b[0;34m(\u001b[0m\u001b[0mself\u001b[0m\u001b[0;34m.\u001b[0m\u001b[0mbase_estimator_\u001b[0m\u001b[0;34m)\u001b[0m\u001b[0;34m\u001b[0m\u001b[0m\n\u001b[1;32m    151\u001b[0m         estimator.set_params(**{p: getattr(self, p)\n\u001b[0;32m--> 152\u001b[0;31m                                 for p in self.estimator_params})\n\u001b[0m\u001b[1;32m    153\u001b[0m \u001b[0;34m\u001b[0m\u001b[0m\n\u001b[1;32m    154\u001b[0m         \u001b[0;32mif\u001b[0m \u001b[0mrandom_state\u001b[0m \u001b[0;32mis\u001b[0m \u001b[0;32mnot\u001b[0m \u001b[0;32mNone\u001b[0m\u001b[0;34m:\u001b[0m\u001b[0;34m\u001b[0m\u001b[0m\n",
      "\u001b[0;32m~/opt/anaconda3/lib/python3.7/site-packages/sklearn/base.py\u001b[0m in \u001b[0;36mset_params\u001b[0;34m(self, **params)\u001b[0m\n\u001b[1;32m    222\u001b[0m             \u001b[0;31m# Simple optimization to gain speed (inspect is slow)\u001b[0m\u001b[0;34m\u001b[0m\u001b[0;34m\u001b[0m\u001b[0m\n\u001b[1;32m    223\u001b[0m             \u001b[0;32mreturn\u001b[0m \u001b[0mself\u001b[0m\u001b[0;34m\u001b[0m\u001b[0m\n\u001b[0;32m--> 224\u001b[0;31m         \u001b[0mvalid_params\u001b[0m \u001b[0;34m=\u001b[0m \u001b[0mself\u001b[0m\u001b[0;34m.\u001b[0m\u001b[0mget_params\u001b[0m\u001b[0;34m(\u001b[0m\u001b[0mdeep\u001b[0m\u001b[0;34m=\u001b[0m\u001b[0;32mTrue\u001b[0m\u001b[0;34m)\u001b[0m\u001b[0;34m\u001b[0m\u001b[0m\n\u001b[0m\u001b[1;32m    225\u001b[0m \u001b[0;34m\u001b[0m\u001b[0m\n\u001b[1;32m    226\u001b[0m         \u001b[0mnested_params\u001b[0m \u001b[0;34m=\u001b[0m \u001b[0mdefaultdict\u001b[0m\u001b[0;34m(\u001b[0m\u001b[0mdict\u001b[0m\u001b[0;34m)\u001b[0m  \u001b[0;31m# grouped by prefix\u001b[0m\u001b[0;34m\u001b[0m\u001b[0m\n",
      "\u001b[0;32m~/opt/anaconda3/lib/python3.7/site-packages/sklearn/base.py\u001b[0m in \u001b[0;36mget_params\u001b[0;34m(self, deep)\u001b[0m\n\u001b[1;32m    192\u001b[0m         \"\"\"\n\u001b[1;32m    193\u001b[0m         \u001b[0mout\u001b[0m \u001b[0;34m=\u001b[0m \u001b[0mdict\u001b[0m\u001b[0;34m(\u001b[0m\u001b[0;34m)\u001b[0m\u001b[0;34m\u001b[0m\u001b[0m\n\u001b[0;32m--> 194\u001b[0;31m         \u001b[0;32mfor\u001b[0m \u001b[0mkey\u001b[0m \u001b[0;32min\u001b[0m \u001b[0mself\u001b[0m\u001b[0;34m.\u001b[0m\u001b[0m_get_param_names\u001b[0m\u001b[0;34m(\u001b[0m\u001b[0;34m)\u001b[0m\u001b[0;34m:\u001b[0m\u001b[0;34m\u001b[0m\u001b[0m\n\u001b[0m\u001b[1;32m    195\u001b[0m             \u001b[0mvalue\u001b[0m \u001b[0;34m=\u001b[0m \u001b[0mgetattr\u001b[0m\u001b[0;34m(\u001b[0m\u001b[0mself\u001b[0m\u001b[0;34m,\u001b[0m \u001b[0mkey\u001b[0m\u001b[0;34m)\u001b[0m\u001b[0;34m\u001b[0m\u001b[0m\n\u001b[1;32m    196\u001b[0m             \u001b[0;32mif\u001b[0m \u001b[0mdeep\u001b[0m \u001b[0;32mand\u001b[0m \u001b[0mhasattr\u001b[0m\u001b[0;34m(\u001b[0m\u001b[0mvalue\u001b[0m\u001b[0;34m,\u001b[0m \u001b[0;34m'get_params'\u001b[0m\u001b[0;34m)\u001b[0m\u001b[0;34m:\u001b[0m\u001b[0;34m\u001b[0m\u001b[0m\n",
      "\u001b[0;32m~/opt/anaconda3/lib/python3.7/site-packages/sklearn/base.py\u001b[0m in \u001b[0;36m_get_param_names\u001b[0;34m(cls)\u001b[0m\n\u001b[1;32m    161\u001b[0m         \u001b[0;31m# introspect the constructor arguments to find the model parameters\u001b[0m\u001b[0;34m\u001b[0m\u001b[0;34m\u001b[0m\u001b[0m\n\u001b[1;32m    162\u001b[0m         \u001b[0;31m# to represent\u001b[0m\u001b[0;34m\u001b[0m\u001b[0;34m\u001b[0m\u001b[0m\n\u001b[0;32m--> 163\u001b[0;31m         \u001b[0minit_signature\u001b[0m \u001b[0;34m=\u001b[0m \u001b[0minspect\u001b[0m\u001b[0;34m.\u001b[0m\u001b[0msignature\u001b[0m\u001b[0;34m(\u001b[0m\u001b[0minit\u001b[0m\u001b[0;34m)\u001b[0m\u001b[0;34m\u001b[0m\u001b[0m\n\u001b[0m\u001b[1;32m    164\u001b[0m         \u001b[0;31m# Consider the constructor parameters excluding 'self'\u001b[0m\u001b[0;34m\u001b[0m\u001b[0;34m\u001b[0m\u001b[0m\n\u001b[1;32m    165\u001b[0m         parameters = [p for p in init_signature.parameters.values()\n",
      "\u001b[0;32m~/opt/anaconda3/lib/python3.7/inspect.py\u001b[0m in \u001b[0;36msignature\u001b[0;34m(obj, follow_wrapped)\u001b[0m\n\u001b[1;32m   3068\u001b[0m \u001b[0;32mdef\u001b[0m \u001b[0msignature\u001b[0m\u001b[0;34m(\u001b[0m\u001b[0mobj\u001b[0m\u001b[0;34m,\u001b[0m \u001b[0;34m*\u001b[0m\u001b[0;34m,\u001b[0m \u001b[0mfollow_wrapped\u001b[0m\u001b[0;34m=\u001b[0m\u001b[0;32mTrue\u001b[0m\u001b[0;34m)\u001b[0m\u001b[0;34m:\u001b[0m\u001b[0;34m\u001b[0m\u001b[0m\n\u001b[1;32m   3069\u001b[0m     \u001b[0;34m\"\"\"Get a signature object for the passed callable.\"\"\"\u001b[0m\u001b[0;34m\u001b[0m\u001b[0m\n\u001b[0;32m-> 3070\u001b[0;31m     \u001b[0;32mreturn\u001b[0m \u001b[0mSignature\u001b[0m\u001b[0;34m.\u001b[0m\u001b[0mfrom_callable\u001b[0m\u001b[0;34m(\u001b[0m\u001b[0mobj\u001b[0m\u001b[0;34m,\u001b[0m \u001b[0mfollow_wrapped\u001b[0m\u001b[0;34m=\u001b[0m\u001b[0mfollow_wrapped\u001b[0m\u001b[0;34m)\u001b[0m\u001b[0;34m\u001b[0m\u001b[0m\n\u001b[0m\u001b[1;32m   3071\u001b[0m \u001b[0;34m\u001b[0m\u001b[0m\n\u001b[1;32m   3072\u001b[0m \u001b[0;34m\u001b[0m\u001b[0m\n",
      "\u001b[0;32m~/opt/anaconda3/lib/python3.7/inspect.py\u001b[0m in \u001b[0;36mfrom_callable\u001b[0;34m(cls, obj, follow_wrapped)\u001b[0m\n\u001b[1;32m   2818\u001b[0m         \u001b[0;34m\"\"\"Constructs Signature for the given callable object.\"\"\"\u001b[0m\u001b[0;34m\u001b[0m\u001b[0m\n\u001b[1;32m   2819\u001b[0m         return _signature_from_callable(obj, sigcls=cls,\n\u001b[0;32m-> 2820\u001b[0;31m                                         follow_wrapper_chains=follow_wrapped)\n\u001b[0m\u001b[1;32m   2821\u001b[0m \u001b[0;34m\u001b[0m\u001b[0m\n\u001b[1;32m   2822\u001b[0m     \u001b[0;34m@\u001b[0m\u001b[0mproperty\u001b[0m\u001b[0;34m\u001b[0m\u001b[0m\n",
      "\u001b[0;32m~/opt/anaconda3/lib/python3.7/inspect.py\u001b[0m in \u001b[0;36m_signature_from_callable\u001b[0;34m(obj, follow_wrapper_chains, skip_bound_arg, sigcls)\u001b[0m\n\u001b[1;32m   2275\u001b[0m         \u001b[0;31m# If it's a pure Python function, or an object that is duck type\u001b[0m\u001b[0;34m\u001b[0m\u001b[0;34m\u001b[0m\u001b[0m\n\u001b[1;32m   2276\u001b[0m         \u001b[0;31m# of a Python function (Cython functions, for instance), then:\u001b[0m\u001b[0;34m\u001b[0m\u001b[0;34m\u001b[0m\u001b[0m\n\u001b[0;32m-> 2277\u001b[0;31m         \u001b[0;32mreturn\u001b[0m \u001b[0m_signature_from_function\u001b[0m\u001b[0;34m(\u001b[0m\u001b[0msigcls\u001b[0m\u001b[0;34m,\u001b[0m \u001b[0mobj\u001b[0m\u001b[0;34m)\u001b[0m\u001b[0;34m\u001b[0m\u001b[0m\n\u001b[0m\u001b[1;32m   2278\u001b[0m \u001b[0;34m\u001b[0m\u001b[0m\n\u001b[1;32m   2279\u001b[0m     \u001b[0;32mif\u001b[0m \u001b[0m_signature_is_builtin\u001b[0m\u001b[0;34m(\u001b[0m\u001b[0mobj\u001b[0m\u001b[0;34m)\u001b[0m\u001b[0;34m:\u001b[0m\u001b[0;34m\u001b[0m\u001b[0m\n",
      "\u001b[0;32m~/opt/anaconda3/lib/python3.7/inspect.py\u001b[0m in \u001b[0;36m_signature_from_function\u001b[0;34m(cls, func)\u001b[0m\n\u001b[1;32m   2170\u001b[0m         parameters.append(Parameter(name, annotation=annotation,\n\u001b[1;32m   2171\u001b[0m                                     \u001b[0mkind\u001b[0m\u001b[0;34m=\u001b[0m\u001b[0m_KEYWORD_ONLY\u001b[0m\u001b[0;34m,\u001b[0m\u001b[0;34m\u001b[0m\u001b[0m\n\u001b[0;32m-> 2172\u001b[0;31m                                     default=default))\n\u001b[0m\u001b[1;32m   2173\u001b[0m     \u001b[0;31m# **kwargs\u001b[0m\u001b[0;34m\u001b[0m\u001b[0;34m\u001b[0m\u001b[0m\n\u001b[1;32m   2174\u001b[0m     \u001b[0;32mif\u001b[0m \u001b[0mfunc_code\u001b[0m\u001b[0;34m.\u001b[0m\u001b[0mco_flags\u001b[0m \u001b[0;34m&\u001b[0m \u001b[0mCO_VARKEYWORDS\u001b[0m\u001b[0;34m:\u001b[0m\u001b[0;34m\u001b[0m\u001b[0m\n",
      "\u001b[0;32m~/opt/anaconda3/lib/python3.7/inspect.py\u001b[0m in \u001b[0;36m__init__\u001b[0;34m(self, name, kind, default, annotation)\u001b[0m\n\u001b[1;32m   2460\u001b[0m     \u001b[0;32mdef\u001b[0m \u001b[0m__init__\u001b[0m\u001b[0;34m(\u001b[0m\u001b[0mself\u001b[0m\u001b[0;34m,\u001b[0m \u001b[0mname\u001b[0m\u001b[0;34m,\u001b[0m \u001b[0mkind\u001b[0m\u001b[0;34m,\u001b[0m \u001b[0;34m*\u001b[0m\u001b[0;34m,\u001b[0m \u001b[0mdefault\u001b[0m\u001b[0;34m=\u001b[0m\u001b[0m_empty\u001b[0m\u001b[0;34m,\u001b[0m \u001b[0mannotation\u001b[0m\u001b[0;34m=\u001b[0m\u001b[0m_empty\u001b[0m\u001b[0;34m)\u001b[0m\u001b[0;34m:\u001b[0m\u001b[0;34m\u001b[0m\u001b[0m\n\u001b[1;32m   2461\u001b[0m         \u001b[0;32mtry\u001b[0m\u001b[0;34m:\u001b[0m\u001b[0;34m\u001b[0m\u001b[0m\n\u001b[0;32m-> 2462\u001b[0;31m             \u001b[0mself\u001b[0m\u001b[0;34m.\u001b[0m\u001b[0m_kind\u001b[0m \u001b[0;34m=\u001b[0m \u001b[0m_ParameterKind\u001b[0m\u001b[0;34m(\u001b[0m\u001b[0mkind\u001b[0m\u001b[0;34m)\u001b[0m\u001b[0;34m\u001b[0m\u001b[0m\n\u001b[0m\u001b[1;32m   2463\u001b[0m         \u001b[0;32mexcept\u001b[0m \u001b[0mValueError\u001b[0m\u001b[0;34m:\u001b[0m\u001b[0;34m\u001b[0m\u001b[0m\n\u001b[1;32m   2464\u001b[0m             \u001b[0;32mraise\u001b[0m \u001b[0mValueError\u001b[0m\u001b[0;34m(\u001b[0m\u001b[0;34mf'value {kind!r} is not a valid Parameter.kind'\u001b[0m\u001b[0;34m)\u001b[0m\u001b[0;34m\u001b[0m\u001b[0m\n",
      "\u001b[0;32m~/opt/anaconda3/lib/python3.7/enum.py\u001b[0m in \u001b[0;36m__call__\u001b[0;34m(cls, value, names, module, qualname, type, start)\u001b[0m\n\u001b[1;32m    305\u001b[0m         \"\"\"\n\u001b[1;32m    306\u001b[0m         \u001b[0;32mif\u001b[0m \u001b[0mnames\u001b[0m \u001b[0;32mis\u001b[0m \u001b[0;32mNone\u001b[0m\u001b[0;34m:\u001b[0m  \u001b[0;31m# simple value lookup\u001b[0m\u001b[0;34m\u001b[0m\u001b[0m\n\u001b[0;32m--> 307\u001b[0;31m             \u001b[0;32mreturn\u001b[0m \u001b[0mcls\u001b[0m\u001b[0;34m.\u001b[0m\u001b[0m__new__\u001b[0m\u001b[0;34m(\u001b[0m\u001b[0mcls\u001b[0m\u001b[0;34m,\u001b[0m \u001b[0mvalue\u001b[0m\u001b[0;34m)\u001b[0m\u001b[0;34m\u001b[0m\u001b[0m\n\u001b[0m\u001b[1;32m    308\u001b[0m         \u001b[0;31m# otherwise, functional API: we're creating a new Enum type\u001b[0m\u001b[0;34m\u001b[0m\u001b[0;34m\u001b[0m\u001b[0m\n\u001b[1;32m    309\u001b[0m         \u001b[0;32mreturn\u001b[0m \u001b[0mcls\u001b[0m\u001b[0;34m.\u001b[0m\u001b[0m_create_\u001b[0m\u001b[0;34m(\u001b[0m\u001b[0mvalue\u001b[0m\u001b[0;34m,\u001b[0m \u001b[0mnames\u001b[0m\u001b[0;34m,\u001b[0m \u001b[0mmodule\u001b[0m\u001b[0;34m=\u001b[0m\u001b[0mmodule\u001b[0m\u001b[0;34m,\u001b[0m \u001b[0mqualname\u001b[0m\u001b[0;34m=\u001b[0m\u001b[0mqualname\u001b[0m\u001b[0;34m,\u001b[0m \u001b[0mtype\u001b[0m\u001b[0;34m=\u001b[0m\u001b[0mtype\u001b[0m\u001b[0;34m,\u001b[0m \u001b[0mstart\u001b[0m\u001b[0;34m=\u001b[0m\u001b[0mstart\u001b[0m\u001b[0;34m)\u001b[0m\u001b[0;34m\u001b[0m\u001b[0m\n",
      "\u001b[0;31mKeyboardInterrupt\u001b[0m: "
     ]
    }
   ],
   "source": [
    "param_grid = {\n",
    "                 'n_estimators': [200,400,600,800,1000],\n",
    "                 'max_depth': [2, 5, 7, 9,12],\n",
    "                'min_samples_leaf': [0.06, 0.13, 0.2, 0.3,1]\n",
    "             }\n",
    "grid_clf = GridSearchCV(rf, param_grid, cv=10)\n",
    "grid_clf.fit(x_train, y_train)"
   ]
  },
  {
   "cell_type": "code",
   "execution_count": null,
   "id": "tropical-serum",
   "metadata": {},
   "outputs": [],
   "source": [
    "grid_clf.best_estimator_"
   ]
  },
  {
   "cell_type": "code",
   "execution_count": 25,
   "id": "bigger-mathematics",
   "metadata": {},
   "outputs": [
    {
     "name": "stdout",
     "output_type": "stream",
     "text": [
      "Accuracy score: 0.8050165641\n",
      "Classification Report\n",
      "              precision    recall  f1-score   support\n",
      "\n",
      "          No       0.83      0.92      0.87      1552\n",
      "         Yes       0.69      0.48      0.57       561\n",
      "\n",
      "    accuracy                           0.81      2113\n",
      "   macro avg       0.76      0.70      0.72      2113\n",
      "weighted avg       0.79      0.81      0.79      2113\n",
      "\n"
     ]
    }
   ],
   "source": [
    "rf.fit(x_train, y_train)\n",
    "y_pred_rf = rf.predict(x_test)\n",
    "accuracy_rf = accuracy_score(y_test, y_pred_rf)\n",
    "print('Accuracy score: {:.10f}'.format(accuracy_rf))\n",
    "print(\"Classification Report\")\n",
    "print(classification_report(y_test, y_pred_rf))"
   ]
  },
  {
   "cell_type": "markdown",
   "id": "brutal-limit",
   "metadata": {},
   "source": [
    "### 2.2 Resampling Method One:  Over Sampling the Minority Data"
   ]
  },
  {
   "cell_type": "code",
   "execution_count": 26,
   "id": "moral-narrow",
   "metadata": {},
   "outputs": [
    {
     "data": {
      "text/html": [
       "<div>\n",
       "<style scoped>\n",
       "    .dataframe tbody tr th:only-of-type {\n",
       "        vertical-align: middle;\n",
       "    }\n",
       "\n",
       "    .dataframe tbody tr th {\n",
       "        vertical-align: top;\n",
       "    }\n",
       "\n",
       "    .dataframe thead th {\n",
       "        text-align: right;\n",
       "    }\n",
       "</style>\n",
       "<table border=\"1\" class=\"dataframe\">\n",
       "  <thead>\n",
       "    <tr style=\"text-align: right;\">\n",
       "      <th></th>\n",
       "      <th>SeniorCitizen</th>\n",
       "      <th>tenure</th>\n",
       "      <th>MonthlyCharges</th>\n",
       "      <th>gender_Male</th>\n",
       "      <th>Partner_Yes</th>\n",
       "      <th>Dependents_Yes</th>\n",
       "      <th>PhoneService_Yes</th>\n",
       "      <th>MultipleLines_Yes</th>\n",
       "      <th>InternetService_Fiber optic</th>\n",
       "      <th>InternetService_No</th>\n",
       "      <th>...</th>\n",
       "      <th>TechSupport_Yes</th>\n",
       "      <th>StreamingTV_Yes</th>\n",
       "      <th>StreamingMovies_Yes</th>\n",
       "      <th>Contract_One year</th>\n",
       "      <th>Contract_Two year</th>\n",
       "      <th>PaperlessBilling_Yes</th>\n",
       "      <th>PaymentMethod_Credit card (automatic)</th>\n",
       "      <th>PaymentMethod_Electronic check</th>\n",
       "      <th>PaymentMethod_Mailed check</th>\n",
       "      <th>Churn</th>\n",
       "    </tr>\n",
       "  </thead>\n",
       "  <tbody>\n",
       "    <tr>\n",
       "      <th>3830</th>\n",
       "      <td>0</td>\n",
       "      <td>4</td>\n",
       "      <td>100.20</td>\n",
       "      <td>1</td>\n",
       "      <td>1</td>\n",
       "      <td>0</td>\n",
       "      <td>1</td>\n",
       "      <td>1</td>\n",
       "      <td>1</td>\n",
       "      <td>0</td>\n",
       "      <td>...</td>\n",
       "      <td>0</td>\n",
       "      <td>1</td>\n",
       "      <td>1</td>\n",
       "      <td>0</td>\n",
       "      <td>0</td>\n",
       "      <td>1</td>\n",
       "      <td>0</td>\n",
       "      <td>1</td>\n",
       "      <td>0</td>\n",
       "      <td>Yes</td>\n",
       "    </tr>\n",
       "    <tr>\n",
       "      <th>5342</th>\n",
       "      <td>0</td>\n",
       "      <td>37</td>\n",
       "      <td>64.75</td>\n",
       "      <td>0</td>\n",
       "      <td>0</td>\n",
       "      <td>0</td>\n",
       "      <td>1</td>\n",
       "      <td>0</td>\n",
       "      <td>0</td>\n",
       "      <td>0</td>\n",
       "      <td>...</td>\n",
       "      <td>0</td>\n",
       "      <td>1</td>\n",
       "      <td>1</td>\n",
       "      <td>0</td>\n",
       "      <td>0</td>\n",
       "      <td>1</td>\n",
       "      <td>0</td>\n",
       "      <td>1</td>\n",
       "      <td>0</td>\n",
       "      <td>Yes</td>\n",
       "    </tr>\n",
       "    <tr>\n",
       "      <th>1189</th>\n",
       "      <td>0</td>\n",
       "      <td>3</td>\n",
       "      <td>85.70</td>\n",
       "      <td>1</td>\n",
       "      <td>0</td>\n",
       "      <td>0</td>\n",
       "      <td>1</td>\n",
       "      <td>0</td>\n",
       "      <td>1</td>\n",
       "      <td>0</td>\n",
       "      <td>...</td>\n",
       "      <td>0</td>\n",
       "      <td>0</td>\n",
       "      <td>1</td>\n",
       "      <td>0</td>\n",
       "      <td>0</td>\n",
       "      <td>0</td>\n",
       "      <td>1</td>\n",
       "      <td>0</td>\n",
       "      <td>0</td>\n",
       "      <td>No</td>\n",
       "    </tr>\n",
       "    <tr>\n",
       "      <th>2543</th>\n",
       "      <td>0</td>\n",
       "      <td>13</td>\n",
       "      <td>98.15</td>\n",
       "      <td>1</td>\n",
       "      <td>0</td>\n",
       "      <td>0</td>\n",
       "      <td>1</td>\n",
       "      <td>1</td>\n",
       "      <td>1</td>\n",
       "      <td>0</td>\n",
       "      <td>...</td>\n",
       "      <td>0</td>\n",
       "      <td>1</td>\n",
       "      <td>1</td>\n",
       "      <td>0</td>\n",
       "      <td>0</td>\n",
       "      <td>0</td>\n",
       "      <td>0</td>\n",
       "      <td>0</td>\n",
       "      <td>1</td>\n",
       "      <td>Yes</td>\n",
       "    </tr>\n",
       "    <tr>\n",
       "      <th>6603</th>\n",
       "      <td>0</td>\n",
       "      <td>14</td>\n",
       "      <td>66.60</td>\n",
       "      <td>1</td>\n",
       "      <td>1</td>\n",
       "      <td>0</td>\n",
       "      <td>1</td>\n",
       "      <td>1</td>\n",
       "      <td>0</td>\n",
       "      <td>0</td>\n",
       "      <td>...</td>\n",
       "      <td>1</td>\n",
       "      <td>1</td>\n",
       "      <td>0</td>\n",
       "      <td>0</td>\n",
       "      <td>0</td>\n",
       "      <td>1</td>\n",
       "      <td>1</td>\n",
       "      <td>0</td>\n",
       "      <td>0</td>\n",
       "      <td>No</td>\n",
       "    </tr>\n",
       "    <tr>\n",
       "      <th>...</th>\n",
       "      <td>...</td>\n",
       "      <td>...</td>\n",
       "      <td>...</td>\n",
       "      <td>...</td>\n",
       "      <td>...</td>\n",
       "      <td>...</td>\n",
       "      <td>...</td>\n",
       "      <td>...</td>\n",
       "      <td>...</td>\n",
       "      <td>...</td>\n",
       "      <td>...</td>\n",
       "      <td>...</td>\n",
       "      <td>...</td>\n",
       "      <td>...</td>\n",
       "      <td>...</td>\n",
       "      <td>...</td>\n",
       "      <td>...</td>\n",
       "      <td>...</td>\n",
       "      <td>...</td>\n",
       "      <td>...</td>\n",
       "      <td>...</td>\n",
       "    </tr>\n",
       "    <tr>\n",
       "      <th>412</th>\n",
       "      <td>0</td>\n",
       "      <td>29</td>\n",
       "      <td>74.95</td>\n",
       "      <td>0</td>\n",
       "      <td>1</td>\n",
       "      <td>0</td>\n",
       "      <td>1</td>\n",
       "      <td>1</td>\n",
       "      <td>1</td>\n",
       "      <td>0</td>\n",
       "      <td>...</td>\n",
       "      <td>0</td>\n",
       "      <td>0</td>\n",
       "      <td>0</td>\n",
       "      <td>0</td>\n",
       "      <td>0</td>\n",
       "      <td>1</td>\n",
       "      <td>0</td>\n",
       "      <td>1</td>\n",
       "      <td>0</td>\n",
       "      <td>No</td>\n",
       "    </tr>\n",
       "    <tr>\n",
       "      <th>5785</th>\n",
       "      <td>0</td>\n",
       "      <td>46</td>\n",
       "      <td>20.20</td>\n",
       "      <td>1</td>\n",
       "      <td>1</td>\n",
       "      <td>1</td>\n",
       "      <td>1</td>\n",
       "      <td>0</td>\n",
       "      <td>0</td>\n",
       "      <td>1</td>\n",
       "      <td>...</td>\n",
       "      <td>0</td>\n",
       "      <td>0</td>\n",
       "      <td>0</td>\n",
       "      <td>0</td>\n",
       "      <td>1</td>\n",
       "      <td>1</td>\n",
       "      <td>0</td>\n",
       "      <td>0</td>\n",
       "      <td>1</td>\n",
       "      <td>No</td>\n",
       "    </tr>\n",
       "    <tr>\n",
       "      <th>2377</th>\n",
       "      <td>0</td>\n",
       "      <td>47</td>\n",
       "      <td>55.30</td>\n",
       "      <td>1</td>\n",
       "      <td>0</td>\n",
       "      <td>1</td>\n",
       "      <td>1</td>\n",
       "      <td>0</td>\n",
       "      <td>0</td>\n",
       "      <td>0</td>\n",
       "      <td>...</td>\n",
       "      <td>0</td>\n",
       "      <td>0</td>\n",
       "      <td>0</td>\n",
       "      <td>0</td>\n",
       "      <td>0</td>\n",
       "      <td>1</td>\n",
       "      <td>0</td>\n",
       "      <td>1</td>\n",
       "      <td>0</td>\n",
       "      <td>No</td>\n",
       "    </tr>\n",
       "    <tr>\n",
       "      <th>58</th>\n",
       "      <td>0</td>\n",
       "      <td>34</td>\n",
       "      <td>24.95</td>\n",
       "      <td>0</td>\n",
       "      <td>1</td>\n",
       "      <td>1</td>\n",
       "      <td>1</td>\n",
       "      <td>1</td>\n",
       "      <td>0</td>\n",
       "      <td>1</td>\n",
       "      <td>...</td>\n",
       "      <td>0</td>\n",
       "      <td>0</td>\n",
       "      <td>0</td>\n",
       "      <td>0</td>\n",
       "      <td>1</td>\n",
       "      <td>0</td>\n",
       "      <td>1</td>\n",
       "      <td>0</td>\n",
       "      <td>0</td>\n",
       "      <td>No</td>\n",
       "    </tr>\n",
       "    <tr>\n",
       "      <th>4041</th>\n",
       "      <td>0</td>\n",
       "      <td>46</td>\n",
       "      <td>60.75</td>\n",
       "      <td>1</td>\n",
       "      <td>0</td>\n",
       "      <td>0</td>\n",
       "      <td>0</td>\n",
       "      <td>0</td>\n",
       "      <td>0</td>\n",
       "      <td>0</td>\n",
       "      <td>...</td>\n",
       "      <td>1</td>\n",
       "      <td>1</td>\n",
       "      <td>1</td>\n",
       "      <td>0</td>\n",
       "      <td>1</td>\n",
       "      <td>1</td>\n",
       "      <td>0</td>\n",
       "      <td>0</td>\n",
       "      <td>0</td>\n",
       "      <td>No</td>\n",
       "    </tr>\n",
       "  </tbody>\n",
       "</table>\n",
       "<p>4930 rows × 23 columns</p>\n",
       "</div>"
      ],
      "text/plain": [
       "      SeniorCitizen  tenure  MonthlyCharges  gender_Male  Partner_Yes  \\\n",
       "3830              0       4          100.20            1            1   \n",
       "5342              0      37           64.75            0            0   \n",
       "1189              0       3           85.70            1            0   \n",
       "2543              0      13           98.15            1            0   \n",
       "6603              0      14           66.60            1            1   \n",
       "...             ...     ...             ...          ...          ...   \n",
       "412               0      29           74.95            0            1   \n",
       "5785              0      46           20.20            1            1   \n",
       "2377              0      47           55.30            1            0   \n",
       "58                0      34           24.95            0            1   \n",
       "4041              0      46           60.75            1            0   \n",
       "\n",
       "      Dependents_Yes  PhoneService_Yes  MultipleLines_Yes  \\\n",
       "3830               0                 1                  1   \n",
       "5342               0                 1                  0   \n",
       "1189               0                 1                  0   \n",
       "2543               0                 1                  1   \n",
       "6603               0                 1                  1   \n",
       "...              ...               ...                ...   \n",
       "412                0                 1                  1   \n",
       "5785               1                 1                  0   \n",
       "2377               1                 1                  0   \n",
       "58                 1                 1                  1   \n",
       "4041               0                 0                  0   \n",
       "\n",
       "      InternetService_Fiber optic  InternetService_No  ...  TechSupport_Yes  \\\n",
       "3830                            1                   0  ...                0   \n",
       "5342                            0                   0  ...                0   \n",
       "1189                            1                   0  ...                0   \n",
       "2543                            1                   0  ...                0   \n",
       "6603                            0                   0  ...                1   \n",
       "...                           ...                 ...  ...              ...   \n",
       "412                             1                   0  ...                0   \n",
       "5785                            0                   1  ...                0   \n",
       "2377                            0                   0  ...                0   \n",
       "58                              0                   1  ...                0   \n",
       "4041                            0                   0  ...                1   \n",
       "\n",
       "      StreamingTV_Yes  StreamingMovies_Yes  Contract_One year  \\\n",
       "3830                1                    1                  0   \n",
       "5342                1                    1                  0   \n",
       "1189                0                    1                  0   \n",
       "2543                1                    1                  0   \n",
       "6603                1                    0                  0   \n",
       "...               ...                  ...                ...   \n",
       "412                 0                    0                  0   \n",
       "5785                0                    0                  0   \n",
       "2377                0                    0                  0   \n",
       "58                  0                    0                  0   \n",
       "4041                1                    1                  0   \n",
       "\n",
       "      Contract_Two year  PaperlessBilling_Yes  \\\n",
       "3830                  0                     1   \n",
       "5342                  0                     1   \n",
       "1189                  0                     0   \n",
       "2543                  0                     0   \n",
       "6603                  0                     1   \n",
       "...                 ...                   ...   \n",
       "412                   0                     1   \n",
       "5785                  1                     1   \n",
       "2377                  0                     1   \n",
       "58                    1                     0   \n",
       "4041                  1                     1   \n",
       "\n",
       "      PaymentMethod_Credit card (automatic)  PaymentMethod_Electronic check  \\\n",
       "3830                                      0                               1   \n",
       "5342                                      0                               1   \n",
       "1189                                      1                               0   \n",
       "2543                                      0                               0   \n",
       "6603                                      1                               0   \n",
       "...                                     ...                             ...   \n",
       "412                                       0                               1   \n",
       "5785                                      0                               0   \n",
       "2377                                      0                               1   \n",
       "58                                        1                               0   \n",
       "4041                                      0                               0   \n",
       "\n",
       "      PaymentMethod_Mailed check  Churn  \n",
       "3830                           0    Yes  \n",
       "5342                           0    Yes  \n",
       "1189                           0     No  \n",
       "2543                           1    Yes  \n",
       "6603                           0     No  \n",
       "...                          ...    ...  \n",
       "412                            0     No  \n",
       "5785                           1     No  \n",
       "2377                           0     No  \n",
       "58                             0     No  \n",
       "4041                           0     No  \n",
       "\n",
       "[4930 rows x 23 columns]"
      ]
     },
     "execution_count": 26,
     "metadata": {},
     "output_type": "execute_result"
    }
   ],
   "source": [
    "X = pd.concat([x_train, y_train], axis=1)\n",
    "X"
   ]
  },
  {
   "cell_type": "code",
   "execution_count": 27,
   "id": "necessary-dinner",
   "metadata": {},
   "outputs": [
    {
     "data": {
      "text/plain": [
       "No     3622\n",
       "Yes    1308\n",
       "Name: Churn, dtype: int64"
      ]
     },
     "execution_count": 27,
     "metadata": {},
     "output_type": "execute_result"
    }
   ],
   "source": [
    "X['Churn'].value_counts()"
   ]
  },
  {
   "cell_type": "code",
   "execution_count": 28,
   "id": "continental-dylan",
   "metadata": {},
   "outputs": [
    {
     "data": {
      "text/plain": [
       "No     3622\n",
       "Yes    3622\n",
       "Name: Churn, dtype: int64"
      ]
     },
     "execution_count": 28,
     "metadata": {},
     "output_type": "execute_result"
    }
   ],
   "source": [
    "# separate minority and majority classes\n",
    "not_churn = X[X['Churn']=='No']\n",
    "churn = X[X['Churn']=='Yes']\n",
    "\n",
    "# upsample minority\n",
    "churn_upsampled = resample(churn,\n",
    "                          replace=True, # sample with replacement\n",
    "                          n_samples=len(not_churn), # match number in majority class\n",
    "                          random_state=SEED) # reproducible results\n",
    "\n",
    "# combine majority and upsampled minority\n",
    "upsampled = pd.concat([not_churn, churn_upsampled])\n",
    "\n",
    "# check new class counts\n",
    "upsampled['Churn'].value_counts()"
   ]
  },
  {
   "cell_type": "code",
   "execution_count": 29,
   "id": "amazing-worth",
   "metadata": {},
   "outputs": [
    {
     "name": "stdout",
     "output_type": "stream",
     "text": [
      "Accuracy score: 0.7505915760\n",
      "Classification Report\n",
      "              precision    recall  f1-score   support\n",
      "\n",
      "          No       0.90      0.74      0.81      1552\n",
      "         Yes       0.52      0.78      0.62       561\n",
      "\n",
      "    accuracy                           0.75      2113\n",
      "   macro avg       0.71      0.76      0.72      2113\n",
      "weighted avg       0.80      0.75      0.76      2113\n",
      "\n"
     ]
    }
   ],
   "source": [
    "y_train_rs = upsampled['Churn']\n",
    "x_train_rs = upsampled.drop('Churn', axis=1)\n",
    "\n",
    "#Random Forest\n",
    "upsampled = RandomForestClassifier(n_estimators=200,max_depth=7,random_state=SEED).fit(x_train_rs, y_train_rs)\n",
    "#gradient boosting\n",
    "#upsampled = GradientBoostingClassifier(n_estimators=20, learning_rate=0.5, max_features=4, max_depth=8, \n",
    "#                                       random_state=SEED).fit(x_train, y_train)\n",
    "upsampled_pred = upsampled.predict(x_test)\n",
    "\n",
    "accuracy_up = accuracy_score(y_test, upsampled_pred)\n",
    "print('Accuracy score: {:.10f}'.format(accuracy_up))\n",
    "print(\"Classification Report\")\n",
    "print(classification_report(y_test, upsampled_pred))"
   ]
  },
  {
   "cell_type": "markdown",
   "id": "existing-coaching",
   "metadata": {},
   "source": [
    "### 2.3 Resampling Method Two: SMOTE (regular SMOTE, bordeline SMOTE, SVM SMOTE, ADASYN)"
   ]
  },
  {
   "cell_type": "code",
   "execution_count": 33,
   "id": "coated-sitting",
   "metadata": {},
   "outputs": [],
   "source": [
    "#Choose any model to run\n",
    "\n",
    "model = RandomForestClassifier(n_estimators=200,max_depth=7,random_state=SEED)\n",
    "#model = LogisticRegression(max_iter = 200,random_state=SEED)\n",
    "#model = BaggingClassifier(base_estimator = LogisticRegression(), n_estimators=10, random_state=SEED)"
   ]
  },
  {
   "cell_type": "code",
   "execution_count": 34,
   "id": "physical-library",
   "metadata": {},
   "outputs": [],
   "source": [
    "# Trying different methods\n",
    "steps = [('over', SMOTE()), ('model', model)]\n",
    "#steps = [('over', SVMSMOTE()), ('model', model)]\n",
    "#steps = [('over', BorderlineSMOTE()), ('model', model)]\n",
    "#steps = [('over', ADASYN()), ('model', model)]\n",
    "pipeline = Pipeline(steps=steps)"
   ]
  },
  {
   "cell_type": "code",
   "execution_count": 35,
   "id": "signed-saver",
   "metadata": {
    "scrolled": false
   },
   "outputs": [
    {
     "name": "stdout",
     "output_type": "stream",
     "text": [
      "Accuracy score: 0.7595835305\n",
      "Classification Report\n",
      "              precision    recall  f1-score   support\n",
      "\n",
      "          No       0.89      0.77      0.82      1552\n",
      "         Yes       0.53      0.73      0.62       561\n",
      "\n",
      "    accuracy                           0.76      2113\n",
      "   macro avg       0.71      0.75      0.72      2113\n",
      "weighted avg       0.79      0.76      0.77      2113\n",
      "\n"
     ]
    }
   ],
   "source": [
    "pipeline.fit(x_train, y_train)\n",
    "y_pred_pipe = pipeline.predict(x_test)\n",
    "\n",
    "accuracy_pipe = accuracy_score(y_test, y_pred_pipe)\n",
    "print('Accuracy score: {:.10f}'.format(accuracy_pipe))\n",
    "print(\"Classification Report\")\n",
    "print(classification_report(y_test, y_pred_pipe))"
   ]
  },
  {
   "cell_type": "markdown",
   "id": "western-patch",
   "metadata": {},
   "source": [
    "#### Note: After doing some preliminary research, we found out that SMOTE would perform better when it is combined with undersampling of the majority class. Therefore, we will first oversample the minority class with SMOTE to about a 3:5 ratio (initially about 2:5 ratio), then undersample the majority class to achieve about a 4:5 ratio"
   ]
  },
  {
   "cell_type": "markdown",
   "id": "familiar-technology",
   "metadata": {},
   "source": [
    "https://machinelearningmastery.com/smote-oversampling-for-imbalanced-classification/"
   ]
  },
  {
   "cell_type": "code",
   "execution_count": 43,
   "id": "august-coordinate",
   "metadata": {},
   "outputs": [],
   "source": [
    "over = SMOTE(sampling_strategy=0.6)\n",
    "under = RandomUnderSampler(sampling_strategy=0.8)\n",
    "model = RandomForestClassifier(n_estimators=200,max_depth=7,random_state=SEED)\n",
    "steps = [('over', over), ('under', under), ('model', model)]\n",
    "pipeline2 = Pipeline(steps=steps)"
   ]
  },
  {
   "cell_type": "code",
   "execution_count": 44,
   "id": "tight-poetry",
   "metadata": {},
   "outputs": [
    {
     "name": "stdout",
     "output_type": "stream",
     "text": [
      "Test accuracy score: 0.7718883105\n",
      "Classification Report\n",
      "              precision    recall  f1-score   support\n",
      "\n",
      "          No       0.88      0.80      0.84      1552\n",
      "         Yes       0.56      0.70      0.62       561\n",
      "\n",
      "    accuracy                           0.77      2113\n",
      "   macro avg       0.72      0.75      0.73      2113\n",
      "weighted avg       0.79      0.77      0.78      2113\n",
      "\n"
     ]
    }
   ],
   "source": [
    "pipeline2.fit(x_train, y_train)\n",
    "y_pred_pipe2 = pipeline2.predict(x_test)\n",
    "accuracy_pipe2 = accuracy_score(y_test, y_pred_pipe2)\n",
    "print('Test accuracy score: {:.10f}'.format(accuracy_pipe2))\n",
    "print(\"Classification Report\")\n",
    "print(classification_report(y_test, y_pred_pipe2))"
   ]
  },
  {
   "cell_type": "code",
   "execution_count": 38,
   "id": "painful-inspiration",
   "metadata": {},
   "outputs": [
    {
     "name": "stdout",
     "output_type": "stream",
     "text": [
      "Mean accuracy score 0.776\n"
     ]
    }
   ],
   "source": [
    "# evaluate pipeline\n",
    "cv = RepeatedStratifiedKFold(n_splits=10, n_repeats=3, random_state=SEED)\n",
    "scores = cross_val_score(pipeline2, x_train, y_train, scoring='accuracy', cv=cv)\n",
    "print('Mean accuracy score %.3f' % np.mean(scores))"
   ]
  },
  {
   "cell_type": "code",
   "execution_count": 44,
   "id": "dramatic-locking",
   "metadata": {},
   "outputs": [],
   "source": [
    "#Using BorderlineSMOTE for oversampling\n",
    "model = RandomForestClassifier(n_estimators=200,max_depth=7,random_state=SEED)\n",
    "over = BorderlineSMOTE(sampling_strategy=0.6)\n",
    "under = RandomUnderSampler(sampling_strategy=0.8)\n",
    "steps = [('over', over), ('under', under), ('model', model)]\n",
    "pipeline2 = Pipeline(steps=steps)"
   ]
  },
  {
   "cell_type": "code",
   "execution_count": 46,
   "id": "fluid-amazon",
   "metadata": {},
   "outputs": [
    {
     "name": "stdout",
     "output_type": "stream",
     "text": [
      "Test accuracy score: 0.7633696167\n",
      "Classification Report\n",
      "              precision    recall  f1-score   support\n",
      "\n",
      "          No       0.89      0.77      0.83      1552\n",
      "         Yes       0.54      0.74      0.62       561\n",
      "\n",
      "    accuracy                           0.76      2113\n",
      "   macro avg       0.72      0.75      0.73      2113\n",
      "weighted avg       0.80      0.76      0.77      2113\n",
      "\n"
     ]
    }
   ],
   "source": [
    "y_pred_pipe2 = pipeline2.predict(x_test)\n",
    "accuracy_pipe2 = accuracy_score(y_test, y_pred_pipe2)\n",
    "print('Test accuracy score: {:.10f}'.format(accuracy_pipe2))\n",
    "print(\"Classification Report\")\n",
    "print(classification_report(y_test, y_pred_pipe2))"
   ]
  },
  {
   "cell_type": "code",
   "execution_count": 47,
   "id": "casual-jenny",
   "metadata": {},
   "outputs": [
    {
     "name": "stdout",
     "output_type": "stream",
     "text": [
      "Mean accuracy score 0.766\n"
     ]
    }
   ],
   "source": [
    "# evaluate pipeline\n",
    "cv = RepeatedStratifiedKFold(n_splits=10, n_repeats=3, random_state=SEED)\n",
    "scores = cross_val_score(pipeline2, x_train, y_train, scoring='accuracy', cv=cv)\n",
    "print('Mean accuracy score %.3f' % np.mean(scores))"
   ]
  },
  {
   "cell_type": "markdown",
   "id": "mechanical-selling",
   "metadata": {},
   "source": [
    "### 2.4 PCA Dimension Reduction"
   ]
  },
  {
   "cell_type": "markdown",
   "id": "peripheral-kenya",
   "metadata": {},
   "source": [
    "#### 2.4.1 With Standardized Original Data"
   ]
  },
  {
   "cell_type": "code",
   "execution_count": 74,
   "id": "aerial-shuttle",
   "metadata": {},
   "outputs": [],
   "source": [
    "# 2.4.1 With original data:\n",
    "\n",
    "scale = StandardScaler()\n",
    "pca = PCA(n_components=5)\n",
    "\n",
    "x_train_std = scale.fit_transform(x_train)\n",
    "x_test_std = scale.transform(x_test)\n",
    "\n",
    "# fit and transform data\n",
    "x_train_pca = pca.fit_transform(x_train_std)\n",
    "x_test_pca = pca.transform(x_test_std)"
   ]
  },
  {
   "cell_type": "code",
   "execution_count": 75,
   "id": "posted-wallet",
   "metadata": {
    "scrolled": true
   },
   "outputs": [
    {
     "name": "stdout",
     "output_type": "stream",
     "text": [
      "Accuracy score: 0.7879791765\n",
      "Classification Report\n",
      "              precision    recall  f1-score   support\n",
      "\n",
      "          No       0.82      0.91      0.86      1552\n",
      "         Yes       0.64      0.46      0.53       561\n",
      "\n",
      "    accuracy                           0.79      2113\n",
      "   macro avg       0.73      0.68      0.70      2113\n",
      "weighted avg       0.77      0.79      0.78      2113\n",
      "\n"
     ]
    }
   ],
   "source": [
    "rf = RandomForestClassifier(n_estimators=200,max_depth=7,random_state=SEED)\n",
    "\n",
    "rf.fit(x_train_pca, y_train)\n",
    "y_pred_rf_pca = rf.predict(x_test_pca)\n",
    "\n",
    "accuracy_rf_pca = accuracy_score(y_test, y_pred_rf_pca)\n",
    "print('Accuracy score: {:.10f}'.format(accuracy_rf_pca))\n",
    "print(\"Classification Report\")\n",
    "print(classification_report(y_test, y_pred_rf_pca))"
   ]
  },
  {
   "cell_type": "markdown",
   "id": "interpreted-sympathy",
   "metadata": {},
   "source": [
    "#### 2.4.2 With Standardized Oversampled Data"
   ]
  },
  {
   "cell_type": "code",
   "execution_count": 76,
   "id": "inclusive-approval",
   "metadata": {},
   "outputs": [],
   "source": [
    "# With Oversampled Data\n",
    "\n",
    "scale = StandardScaler()\n",
    "pca = PCA(n_components=5)\n",
    "\n",
    "x_train_rs_std = scale.fit_transform(x_train_rs)\n",
    "x_test_std = scale.transform(x_test)\n",
    "\n",
    "# fit and transform data\n",
    "x_train_rs_pca = pca.fit_transform(x_train_rs_std)\n",
    "x_test_pca = pca.transform(x_test_std)"
   ]
  },
  {
   "cell_type": "code",
   "execution_count": 77,
   "id": "liquid-release",
   "metadata": {
    "scrolled": true
   },
   "outputs": [
    {
     "name": "stdout",
     "output_type": "stream",
     "text": [
      "Accuracy score: 0.7501183152\n",
      "Classification Report\n",
      "              precision    recall  f1-score   support\n",
      "\n",
      "          No       0.88      0.76      0.82      1552\n",
      "         Yes       0.52      0.73      0.61       561\n",
      "\n",
      "    accuracy                           0.75      2113\n",
      "   macro avg       0.70      0.74      0.71      2113\n",
      "weighted avg       0.79      0.75      0.76      2113\n",
      "\n"
     ]
    }
   ],
   "source": [
    "rf = RandomForestClassifier(n_estimators=200,max_depth=7,random_state=SEED)\n",
    "\n",
    "rf.fit(x_train_rs_pca, y_train_rs)\n",
    "y_pred_rf_pca = rf.predict(x_test_pca)\n",
    "\n",
    "#gradient boosting\n",
    "#gb.fit(x_train_pca, y_train)\n",
    "#y_pred_rf_pca = gb.predict(x_test_pca)\n",
    "accuracy_rf_pca = accuracy_score(y_test, y_pred_rf_pca)\n",
    "print('Accuracy score: {:.10f}'.format(accuracy_rf_pca))\n",
    "print(\"Classification Report\")\n",
    "print(classification_report(y_test, y_pred_rf_pca))"
   ]
  },
  {
   "cell_type": "markdown",
   "id": "peripheral-hepatitis",
   "metadata": {},
   "source": [
    "#### 2.4.3 Combine PCA Data and Standardized Orginal Data"
   ]
  },
  {
   "cell_type": "code",
   "execution_count": 80,
   "id": "arranged-canvas",
   "metadata": {},
   "outputs": [
    {
     "name": "stdout",
     "output_type": "stream",
     "text": [
      "Accuracy score: 0.7813535258\n",
      "Classification Report\n",
      "              precision    recall  f1-score   support\n",
      "\n",
      "          No       0.79      0.97      0.87      1552\n",
      "         Yes       0.74      0.27      0.40       561\n",
      "\n",
      "    accuracy                           0.78      2113\n",
      "   macro avg       0.76      0.62      0.63      2113\n",
      "weighted avg       0.77      0.78      0.74      2113\n",
      "\n"
     ]
    }
   ],
   "source": [
    "concat_train_data = np.concatenate((x_train_std, x_train_pca), 1)\n",
    "concat_test_data = np.concatenate((x_test_std, x_test_pca), 1)\n",
    "\n",
    "rf.fit(concat_train_data, y_train)\n",
    "y_pred_concat = rf.predict(concat_test_data)\n",
    "\n",
    "accuracy_pcaconcat = accuracy_score(y_test, y_pred_concat)\n",
    "print('Accuracy score: {:.10f}'.format(accuracy_pcaconcat))\n",
    "print(\"Classification Report\")\n",
    "print(classification_report(y_test, y_pred_concat))"
   ]
  },
  {
   "cell_type": "markdown",
   "id": "younger-france",
   "metadata": {},
   "source": [
    "### 2.5 Gradient Boosting"
   ]
  },
  {
   "cell_type": "code",
   "execution_count": 82,
   "id": "fewer-movie",
   "metadata": {},
   "outputs": [
    {
     "name": "stdout",
     "output_type": "stream",
     "text": [
      "Accuracy score: 0.7714150497\n",
      "Classification Report\n",
      "              precision    recall  f1-score   support\n",
      "\n",
      "          No       0.83      0.87      0.85      1552\n",
      "         Yes       0.58      0.49      0.53       561\n",
      "\n",
      "    accuracy                           0.77      2113\n",
      "   macro avg       0.70      0.68      0.69      2113\n",
      "weighted avg       0.76      0.77      0.77      2113\n",
      "\n"
     ]
    }
   ],
   "source": [
    "gb = GradientBoostingClassifier(n_estimators=20, learning_rate=0.5, max_features=4, max_depth=8, random_state=SEED)\n",
    "gb.fit(x_train, y_train)\n",
    "y_pred_gb = gb.predict(x_test)\n",
    "\n",
    "accuracy_gb = accuracy_score(y_test, y_pred_gb)\n",
    "print('Accuracy score: {:.10f}'.format(accuracy_gb))\n",
    "print(\"Classification Report\")\n",
    "print(classification_report(y_test, y_pred_gb))"
   ]
  },
  {
   "cell_type": "markdown",
   "id": "defined-typing",
   "metadata": {},
   "source": [
    "## Scenario Two Summary"
   ]
  },
  {
   "cell_type": "markdown",
   "id": "pointed-kingdom",
   "metadata": {},
   "source": [
    "### Random Forest:\n",
    "- With nothing: 0.8050165641, f1 score: 0.87, 0.57 \n",
    "- With PCA only: 0.7879791765, f1 score: 0.86, 0.53\n",
    "- With resampling only: .7505915760, f1 score: 0.81, 0.62\n",
    "- With PCA and resampling: 0.7501183152, f1 score: 0.82, 0.61\n",
    "- With PCA and some standardized data combined: 0.7813535258, f1 score: 0.87, 0.40\n",
    "- With Smote(over only, regular): 0.7595835305, f1 score: 0.82, 0.62\n",
    "- With Smote(over only, SVM): 0.7524846190, f1 score: 0.82, 0.62\n",
    "- With Smote(over only, Bordeline): 0.7501183152, f1 score: 0.82, 0.61\n",
    "- With Smote(over and under): 0.7718883105, f1 score: 0.84, 0.62\n",
    "- With Smote(over with Boardeline and under): 0.7633696167, f1 score: 0.83, 0.62\n",
    "- With ADASYN: 0.7534311406, f1 score: 0.82, 0.62\n",
    "\n",
    "### Gradient Boosting:\n",
    "- With nothing: 0.7714150497, f1 score: 0.85, 0.53\n",
    "- With PCA only:  0.7662091813, f1 score: 0.84, 0.53\n",
    "- With resampling only: 0.7633696167, f1 score: 0.84, 0.58\n",
    "- With PCA, resampling:  0.7401798391, f1 score: 0.82, 0.52"
   ]
  },
  {
   "cell_type": "code",
   "execution_count": null,
   "id": "unauthorized-growth",
   "metadata": {},
   "outputs": [],
   "source": [
    "#Reference to PCA+Original Data performing better than PCA only\n",
    "#https://towardsdatascience.com/dimensionality-reduction-can-pca-improve-the-performance-of-a-classification-model-d4e34194c544"
   ]
  },
  {
   "cell_type": "markdown",
   "id": "satisfactory-zealand",
   "metadata": {},
   "source": [
    "### Logistic Regression"
   ]
  },
  {
   "cell_type": "code",
   "execution_count": 88,
   "id": "initial-shore",
   "metadata": {},
   "outputs": [
    {
     "name": "stdout",
     "output_type": "stream",
     "text": [
      "Accuracy score: 0.8111689541\n",
      "Classification Report\n",
      "              precision    recall  f1-score   support\n",
      "\n",
      "          No       0.85      0.90      0.88      1552\n",
      "         Yes       0.68      0.55      0.61       561\n",
      "\n",
      "    accuracy                           0.81      2113\n",
      "   macro avg       0.76      0.73      0.74      2113\n",
      "weighted avg       0.80      0.81      0.80      2113\n",
      "\n"
     ]
    }
   ],
   "source": [
    "lr = LogisticRegression(max_iter = 200).fit(x_train, y_train)\n",
    "y_pred_lr = lr.predict(x_test)\n",
    "accuracy_lr = accuracy_score(y_test, y_pred_lr)\n",
    "print('Accuracy score: {:.10f}'.format(accuracy_lr))\n",
    "print(\"Classification Report\")\n",
    "print(classification_report(y_test, y_pred_lr))"
   ]
  },
  {
   "cell_type": "markdown",
   "id": "senior-jersey",
   "metadata": {},
   "source": [
    "### Bagging using logistitic regression as base model"
   ]
  },
  {
   "cell_type": "code",
   "execution_count": 84,
   "id": "centered-spokesman",
   "metadata": {},
   "outputs": [
    {
     "name": "stdout",
     "output_type": "stream",
     "text": [
      "Accuracy score: 0.8088026503\n",
      "Classification Report\n",
      "              precision    recall  f1-score   support\n",
      "\n",
      "          No       0.84      0.91      0.87      1552\n",
      "         Yes       0.68      0.54      0.60       561\n",
      "\n",
      "    accuracy                           0.81      2113\n",
      "   macro avg       0.76      0.72      0.74      2113\n",
      "weighted avg       0.80      0.81      0.80      2113\n",
      "\n"
     ]
    }
   ],
   "source": [
    "bg_lr = BaggingClassifier(base_estimator = LogisticRegression(), n_estimators=10, random_state=SEED).fit(x_train, y_train)\n",
    "y_pred_bglr = bg_lr.predict(x_test)\n",
    "accuracy_bglr = accuracy_score(y_test, y_pred_bglr)\n",
    "print('Accuracy score: {:.10f}'.format(accuracy_bglr))\n",
    "print(\"Classification Report\")\n",
    "print(classification_report(y_test, y_pred_bglr))"
   ]
  },
  {
   "cell_type": "markdown",
   "id": "minimal-language",
   "metadata": {},
   "source": [
    "### SVM"
   ]
  },
  {
   "cell_type": "code",
   "execution_count": 85,
   "id": "engaging-halloween",
   "metadata": {},
   "outputs": [
    {
     "name": "stdout",
     "output_type": "stream",
     "text": [
      "Accuracy score: 0.7879791765\n",
      "Classification Report\n",
      "              precision    recall  f1-score   support\n",
      "\n",
      "          No       0.81      0.93      0.87      1552\n",
      "         Yes       0.68      0.38      0.49       561\n",
      "\n",
      "    accuracy                           0.79      2113\n",
      "   macro avg       0.74      0.66      0.68      2113\n",
      "weighted avg       0.77      0.79      0.77      2113\n",
      "\n"
     ]
    }
   ],
   "source": [
    "rbf_svm = svm.SVC(kernel='rbf', probability = True).fit(x_train, y_train)  # probability = True\n",
    "y_pred_svm = rbf_svm.predict(x_test)\n",
    "accuracy_svm = accuracy_score(y_test, y_pred_svm)\n",
    "print('Accuracy score: {:.10f}'.format(accuracy_svm))\n",
    "print(\"Classification Report\")\n",
    "print(classification_report(y_test, y_pred_svm))"
   ]
  },
  {
   "cell_type": "markdown",
   "id": "fatal-terrace",
   "metadata": {},
   "source": [
    "### Bagging using SVM as base model"
   ]
  },
  {
   "cell_type": "code",
   "execution_count": 87,
   "id": "sustained-ceiling",
   "metadata": {},
   "outputs": [
    {
     "name": "stdout",
     "output_type": "stream",
     "text": [
      "Accuracy score: 0.7893989588\n",
      "Classification Report\n",
      "              precision    recall  f1-score   support\n",
      "\n",
      "          No       0.81      0.94      0.87      1552\n",
      "         Yes       0.69      0.38      0.49       561\n",
      "\n",
      "    accuracy                           0.79      2113\n",
      "   macro avg       0.75      0.66      0.68      2113\n",
      "weighted avg       0.78      0.79      0.77      2113\n",
      "\n"
     ]
    }
   ],
   "source": [
    "bg_svm = BaggingClassifier(base_estimator = SVC(), n_estimators=10, random_state=SEED).fit(x_train, y_train)\n",
    "y_pred_bgsvm = bg_svm.predict(x_test)\n",
    "accuracy_bgsvm = accuracy_score(y_test, y_pred_bgsvm)\n",
    "print('Accuracy score: {:.10f}'.format(accuracy_bgsvm))\n",
    "print(\"Classification Report\")\n",
    "print(classification_report(y_test, y_pred_bgsvm))"
   ]
  }
 ],
 "metadata": {
  "kernelspec": {
   "display_name": "Python 3",
   "language": "python",
   "name": "python3"
  },
  "language_info": {
   "codemirror_mode": {
    "name": "ipython",
    "version": 3
   },
   "file_extension": ".py",
   "mimetype": "text/x-python",
   "name": "python",
   "nbconvert_exporter": "python",
   "pygments_lexer": "ipython3",
   "version": "3.7.0"
  }
 },
 "nbformat": 4,
 "nbformat_minor": 5
}
