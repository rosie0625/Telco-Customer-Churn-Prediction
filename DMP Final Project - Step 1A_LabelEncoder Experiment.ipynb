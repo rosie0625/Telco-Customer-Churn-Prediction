{
 "cells": [
  {
   "cell_type": "markdown",
   "metadata": {},
   "source": [
    "## Notes of modeling results \n",
    "### Not apply PCA\n",
    "Step1: Clean up the dataset with two kinds of labling: 1. combine 'No' and 'No internet service' 2. noncombine. \n",
    "Step2: Build models on each labling method using random forest, KNN, SVM, logistic regression and decision tree to see which one has the highest accuracy.\n",
    "\n",
    "Below is the results. For both labling methods, Logistic regression reaches realtively high accuracy which is 0.809"
   ]
  },
  {
   "cell_type": "markdown",
   "metadata": {},
   "source": [
    "### combine \n",
    "#### Random forest:       \n",
    "combine--accuracy: 0.804    f1 score:0.88,0.52\n",
    "\n",
    "noncombine--accuracy: 0.807    f1 score:0.88,0.54\n",
    "\n",
    "#### KNN:                 \n",
    "combine--accuracy:0.800     f1 score:0.87,0.60\n",
    "\n",
    "noncombine--accuracy: 0.802    f1 score:0.87,0.60\n",
    "\n",
    "\n",
    "#### Logistic regression: \n",
    "combine--accuracy:0.809     f1 score:0.87,0.60\n",
    "\n",
    "noncombine--accuracy: 0.809    f1 score:0.89,0.60\n",
    "\n",
    "\n",
    "#### SVM:                 \n",
    "combine--accuracy: 0.808    f1 score: 0.88,0.57\n",
    "\n",
    "noncombine--accuracy: 0.807    f1 score:0.88,0.57\n",
    "\n",
    "\n",
    "#### Decision tree:       \n",
    "combine--accuracy: 0.802    f1 score: 0.87, 0.57\n",
    "\n",
    "noncombine--accuracy: 0.801    f1 score:0.87,0.56\n"
   ]
  },
  {
   "cell_type": "markdown",
   "metadata": {},
   "source": [
    "#### Apply PCA\n",
    "In order to improve accuracy, then our group tries applying PCA to reduce dimensions on both kinds of labling method. For combine one, we use 11 components and the other one using 9 components. \n",
    "\n",
    "Below are the results. Compared with Non_PCA results, SVM reaches highest accuracy (0.814). Applying PCA almost has no huge imporve on accuracy. Maybe because PCA is more suitable and useful on continuous features. "
   ]
  },
  {
   "cell_type": "markdown",
   "metadata": {},
   "source": [
    "### combine \n",
    "#### Random forest:       \n",
    "combine--accuracy: 0.806    f1 score:0.88,0.55\n",
    "\n",
    "noncombine--accuracy: 0.810    f1 score:0.88,0.57\n",
    "\n",
    "#### KNN:                 \n",
    "combine--accuracy:0.810     f1 score:0.87,0.62\n",
    "\n",
    "noncombine--accuracy: 0.810    f1 score:0.87,0.60\n",
    "\n",
    "\n",
    "#### Logistic regression: \n",
    "combine--accuracy:0.810     f1 score:0.88,0.60\n",
    "\n",
    "noncombine--accuracy: 0.813    f1 score:0.88,0.61\n",
    "\n",
    "\n",
    "#### SVM:                 \n",
    "combine--accuracy: 0.813    f1 score: 0.88,0.59\n",
    "\n",
    "noncombine--accuracy: 0.814    f1 score:0.88,0.59\n",
    "\n",
    "\n",
    "#### Decision tree:       \n",
    "combine--accuracy: 0.805    f1 score: 0.88, 0.56\n",
    "\n",
    "noncombine--accuracy: 0.805    f1 score:0.88,0.56\n"
   ]
  },
  {
   "cell_type": "code",
   "execution_count": null,
   "metadata": {},
   "outputs": [],
   "source": []
  },
  {
   "cell_type": "code",
   "execution_count": 2,
   "metadata": {},
   "outputs": [],
   "source": [
    "import pandas as pd\n",
    "import numpy as np"
   ]
  },
  {
   "cell_type": "code",
   "execution_count": 3,
   "metadata": {},
   "outputs": [],
   "source": [
    "data = pd.read_csv('telco.csv')"
   ]
  },
  {
   "cell_type": "code",
   "execution_count": 4,
   "metadata": {},
   "outputs": [
    {
     "data": {
      "text/html": [
       "<div>\n",
       "<style scoped>\n",
       "    .dataframe tbody tr th:only-of-type {\n",
       "        vertical-align: middle;\n",
       "    }\n",
       "\n",
       "    .dataframe tbody tr th {\n",
       "        vertical-align: top;\n",
       "    }\n",
       "\n",
       "    .dataframe thead th {\n",
       "        text-align: right;\n",
       "    }\n",
       "</style>\n",
       "<table border=\"1\" class=\"dataframe\">\n",
       "  <thead>\n",
       "    <tr style=\"text-align: right;\">\n",
       "      <th></th>\n",
       "      <th>customerID</th>\n",
       "      <th>gender</th>\n",
       "      <th>SeniorCitizen</th>\n",
       "      <th>Partner</th>\n",
       "      <th>Dependents</th>\n",
       "      <th>tenure</th>\n",
       "      <th>PhoneService</th>\n",
       "      <th>MultipleLines</th>\n",
       "      <th>InternetService</th>\n",
       "      <th>OnlineSecurity</th>\n",
       "      <th>...</th>\n",
       "      <th>DeviceProtection</th>\n",
       "      <th>TechSupport</th>\n",
       "      <th>StreamingTV</th>\n",
       "      <th>StreamingMovies</th>\n",
       "      <th>Contract</th>\n",
       "      <th>PaperlessBilling</th>\n",
       "      <th>PaymentMethod</th>\n",
       "      <th>MonthlyCharges</th>\n",
       "      <th>TotalCharges</th>\n",
       "      <th>Churn</th>\n",
       "    </tr>\n",
       "  </thead>\n",
       "  <tbody>\n",
       "    <tr>\n",
       "      <th>0</th>\n",
       "      <td>7590-VHVEG</td>\n",
       "      <td>Female</td>\n",
       "      <td>0</td>\n",
       "      <td>Yes</td>\n",
       "      <td>No</td>\n",
       "      <td>1</td>\n",
       "      <td>No</td>\n",
       "      <td>No phone service</td>\n",
       "      <td>DSL</td>\n",
       "      <td>No</td>\n",
       "      <td>...</td>\n",
       "      <td>No</td>\n",
       "      <td>No</td>\n",
       "      <td>No</td>\n",
       "      <td>No</td>\n",
       "      <td>Month-to-month</td>\n",
       "      <td>Yes</td>\n",
       "      <td>Electronic check</td>\n",
       "      <td>29.85</td>\n",
       "      <td>29.85</td>\n",
       "      <td>No</td>\n",
       "    </tr>\n",
       "    <tr>\n",
       "      <th>1</th>\n",
       "      <td>5575-GNVDE</td>\n",
       "      <td>Male</td>\n",
       "      <td>0</td>\n",
       "      <td>No</td>\n",
       "      <td>No</td>\n",
       "      <td>34</td>\n",
       "      <td>Yes</td>\n",
       "      <td>No</td>\n",
       "      <td>DSL</td>\n",
       "      <td>Yes</td>\n",
       "      <td>...</td>\n",
       "      <td>Yes</td>\n",
       "      <td>No</td>\n",
       "      <td>No</td>\n",
       "      <td>No</td>\n",
       "      <td>One year</td>\n",
       "      <td>No</td>\n",
       "      <td>Mailed check</td>\n",
       "      <td>56.95</td>\n",
       "      <td>1889.5</td>\n",
       "      <td>No</td>\n",
       "    </tr>\n",
       "    <tr>\n",
       "      <th>2</th>\n",
       "      <td>3668-QPYBK</td>\n",
       "      <td>Male</td>\n",
       "      <td>0</td>\n",
       "      <td>No</td>\n",
       "      <td>No</td>\n",
       "      <td>2</td>\n",
       "      <td>Yes</td>\n",
       "      <td>No</td>\n",
       "      <td>DSL</td>\n",
       "      <td>Yes</td>\n",
       "      <td>...</td>\n",
       "      <td>No</td>\n",
       "      <td>No</td>\n",
       "      <td>No</td>\n",
       "      <td>No</td>\n",
       "      <td>Month-to-month</td>\n",
       "      <td>Yes</td>\n",
       "      <td>Mailed check</td>\n",
       "      <td>53.85</td>\n",
       "      <td>108.15</td>\n",
       "      <td>Yes</td>\n",
       "    </tr>\n",
       "    <tr>\n",
       "      <th>3</th>\n",
       "      <td>7795-CFOCW</td>\n",
       "      <td>Male</td>\n",
       "      <td>0</td>\n",
       "      <td>No</td>\n",
       "      <td>No</td>\n",
       "      <td>45</td>\n",
       "      <td>No</td>\n",
       "      <td>No phone service</td>\n",
       "      <td>DSL</td>\n",
       "      <td>Yes</td>\n",
       "      <td>...</td>\n",
       "      <td>Yes</td>\n",
       "      <td>Yes</td>\n",
       "      <td>No</td>\n",
       "      <td>No</td>\n",
       "      <td>One year</td>\n",
       "      <td>No</td>\n",
       "      <td>Bank transfer (automatic)</td>\n",
       "      <td>42.30</td>\n",
       "      <td>1840.75</td>\n",
       "      <td>No</td>\n",
       "    </tr>\n",
       "    <tr>\n",
       "      <th>4</th>\n",
       "      <td>9237-HQITU</td>\n",
       "      <td>Female</td>\n",
       "      <td>0</td>\n",
       "      <td>No</td>\n",
       "      <td>No</td>\n",
       "      <td>2</td>\n",
       "      <td>Yes</td>\n",
       "      <td>No</td>\n",
       "      <td>Fiber optic</td>\n",
       "      <td>No</td>\n",
       "      <td>...</td>\n",
       "      <td>No</td>\n",
       "      <td>No</td>\n",
       "      <td>No</td>\n",
       "      <td>No</td>\n",
       "      <td>Month-to-month</td>\n",
       "      <td>Yes</td>\n",
       "      <td>Electronic check</td>\n",
       "      <td>70.70</td>\n",
       "      <td>151.65</td>\n",
       "      <td>Yes</td>\n",
       "    </tr>\n",
       "  </tbody>\n",
       "</table>\n",
       "<p>5 rows × 21 columns</p>\n",
       "</div>"
      ],
      "text/plain": [
       "   customerID  gender  SeniorCitizen Partner Dependents  tenure PhoneService  \\\n",
       "0  7590-VHVEG  Female              0     Yes         No       1           No   \n",
       "1  5575-GNVDE    Male              0      No         No      34          Yes   \n",
       "2  3668-QPYBK    Male              0      No         No       2          Yes   \n",
       "3  7795-CFOCW    Male              0      No         No      45           No   \n",
       "4  9237-HQITU  Female              0      No         No       2          Yes   \n",
       "\n",
       "      MultipleLines InternetService OnlineSecurity  ... DeviceProtection  \\\n",
       "0  No phone service             DSL             No  ...               No   \n",
       "1                No             DSL            Yes  ...              Yes   \n",
       "2                No             DSL            Yes  ...               No   \n",
       "3  No phone service             DSL            Yes  ...              Yes   \n",
       "4                No     Fiber optic             No  ...               No   \n",
       "\n",
       "  TechSupport StreamingTV StreamingMovies        Contract PaperlessBilling  \\\n",
       "0          No          No              No  Month-to-month              Yes   \n",
       "1          No          No              No        One year               No   \n",
       "2          No          No              No  Month-to-month              Yes   \n",
       "3         Yes          No              No        One year               No   \n",
       "4          No          No              No  Month-to-month              Yes   \n",
       "\n",
       "               PaymentMethod MonthlyCharges  TotalCharges Churn  \n",
       "0           Electronic check          29.85         29.85    No  \n",
       "1               Mailed check          56.95        1889.5    No  \n",
       "2               Mailed check          53.85        108.15   Yes  \n",
       "3  Bank transfer (automatic)          42.30       1840.75    No  \n",
       "4           Electronic check          70.70        151.65   Yes  \n",
       "\n",
       "[5 rows x 21 columns]"
      ]
     },
     "execution_count": 4,
     "metadata": {},
     "output_type": "execute_result"
    }
   ],
   "source": [
    "data.head(5)"
   ]
  },
  {
   "cell_type": "markdown",
   "metadata": {},
   "source": [
    "## Data Clean（combine）"
   ]
  },
  {
   "cell_type": "markdown",
   "metadata": {},
   "source": [
    "#### remove total charges"
   ]
  },
  {
   "cell_type": "code",
   "execution_count": 5,
   "metadata": {},
   "outputs": [],
   "source": [
    "data = data.drop(['TotalCharges'], axis=1)"
   ]
  },
  {
   "cell_type": "markdown",
   "metadata": {},
   "source": [
    "#### remove id"
   ]
  },
  {
   "cell_type": "code",
   "execution_count": 6,
   "metadata": {},
   "outputs": [],
   "source": [
    "data = data.drop(['customerID'], axis = 1)"
   ]
  },
  {
   "cell_type": "markdown",
   "metadata": {},
   "source": [
    "#### gender to 1 and 0 "
   ]
  },
  {
   "cell_type": "code",
   "execution_count": 7,
   "metadata": {},
   "outputs": [
    {
     "data": {
      "text/plain": [
       "Male      3555\n",
       "Female    3488\n",
       "Name: gender, dtype: int64"
      ]
     },
     "execution_count": 7,
     "metadata": {},
     "output_type": "execute_result"
    }
   ],
   "source": [
    "data.iloc[:,0].value_counts()"
   ]
  },
  {
   "cell_type": "code",
   "execution_count": 8,
   "metadata": {},
   "outputs": [
    {
     "data": {
      "text/plain": [
       "1    3555\n",
       "0    3488\n",
       "Name: gender, dtype: int64"
      ]
     },
     "execution_count": 8,
     "metadata": {},
     "output_type": "execute_result"
    }
   ],
   "source": [
    "data['gender'] = pd.factorize(data['gender'])[0]\n",
    "data['gender'].value_counts()"
   ]
  },
  {
   "cell_type": "markdown",
   "metadata": {},
   "source": [
    "#### partner to 1 and 0"
   ]
  },
  {
   "cell_type": "code",
   "execution_count": 9,
   "metadata": {},
   "outputs": [
    {
     "data": {
      "text/plain": [
       "No     3641\n",
       "Yes    3402\n",
       "Name: Partner, dtype: int64"
      ]
     },
     "execution_count": 9,
     "metadata": {},
     "output_type": "execute_result"
    }
   ],
   "source": [
    "data['Partner'].value_counts()"
   ]
  },
  {
   "cell_type": "code",
   "execution_count": 10,
   "metadata": {},
   "outputs": [
    {
     "data": {
      "text/plain": [
       "0    3641\n",
       "1    3402\n",
       "Name: Partner, dtype: int64"
      ]
     },
     "execution_count": 10,
     "metadata": {},
     "output_type": "execute_result"
    }
   ],
   "source": [
    "data['Partner'] = data['Partner'].replace({'Yes' : 1, 'No' : 0})\n",
    "data['Partner'].value_counts()"
   ]
  },
  {
   "cell_type": "markdown",
   "metadata": {},
   "source": [
    "#### Dependents to 1 and 0"
   ]
  },
  {
   "cell_type": "code",
   "execution_count": 11,
   "metadata": {},
   "outputs": [
    {
     "data": {
      "text/plain": [
       "No     4933\n",
       "Yes    2110\n",
       "Name: Dependents, dtype: int64"
      ]
     },
     "execution_count": 11,
     "metadata": {},
     "output_type": "execute_result"
    }
   ],
   "source": [
    "data['Dependents'].value_counts()"
   ]
  },
  {
   "cell_type": "code",
   "execution_count": 12,
   "metadata": {},
   "outputs": [
    {
     "data": {
      "text/plain": [
       "0    4933\n",
       "1    2110\n",
       "Name: Dependents, dtype: int64"
      ]
     },
     "execution_count": 12,
     "metadata": {},
     "output_type": "execute_result"
    }
   ],
   "source": [
    "data['Dependents'] = data['Dependents'].replace({'Yes' : 1, 'No' : 0})\n",
    "data['Dependents'].value_counts()"
   ]
  },
  {
   "cell_type": "markdown",
   "metadata": {},
   "source": [
    "#### phone service to 1 and 0"
   ]
  },
  {
   "cell_type": "code",
   "execution_count": 13,
   "metadata": {},
   "outputs": [
    {
     "data": {
      "text/plain": [
       "Yes    6361\n",
       "No      682\n",
       "Name: PhoneService, dtype: int64"
      ]
     },
     "execution_count": 13,
     "metadata": {},
     "output_type": "execute_result"
    }
   ],
   "source": [
    "data['PhoneService'].value_counts()"
   ]
  },
  {
   "cell_type": "code",
   "execution_count": 14,
   "metadata": {},
   "outputs": [
    {
     "data": {
      "text/plain": [
       "1    6361\n",
       "0     682\n",
       "Name: PhoneService, dtype: int64"
      ]
     },
     "execution_count": 14,
     "metadata": {},
     "output_type": "execute_result"
    }
   ],
   "source": [
    "data['PhoneService'] = data['PhoneService'].replace({'Yes' : 1, 'No' : 0})\n",
    "data['PhoneService'].value_counts()"
   ]
  },
  {
   "cell_type": "markdown",
   "metadata": {},
   "source": [
    "#### multiple lines to categorical (combine no service and no to 0)"
   ]
  },
  {
   "cell_type": "code",
   "execution_count": 15,
   "metadata": {},
   "outputs": [
    {
     "data": {
      "text/plain": [
       "No                  3390\n",
       "Yes                 2971\n",
       "No phone service     682\n",
       "Name: MultipleLines, dtype: int64"
      ]
     },
     "execution_count": 15,
     "metadata": {},
     "output_type": "execute_result"
    }
   ],
   "source": [
    "data['MultipleLines'].value_counts()"
   ]
  },
  {
   "cell_type": "code",
   "execution_count": 16,
   "metadata": {},
   "outputs": [
    {
     "data": {
      "text/plain": [
       "0    4072\n",
       "1    2971\n",
       "Name: MultipleLines, dtype: int64"
      ]
     },
     "execution_count": 16,
     "metadata": {},
     "output_type": "execute_result"
    }
   ],
   "source": [
    "data['MultipleLines'] = data['MultipleLines'].replace({'Yes' : 1, 'No' : 0, 'No phone service': 0})\n",
    "data['MultipleLines'].value_counts()"
   ]
  },
  {
   "cell_type": "markdown",
   "metadata": {},
   "source": [
    "#### internet service to categorical"
   ]
  },
  {
   "cell_type": "code",
   "execution_count": 17,
   "metadata": {},
   "outputs": [
    {
     "data": {
      "text/plain": [
       "Fiber optic    3096\n",
       "DSL            2421\n",
       "No             1526\n",
       "Name: InternetService, dtype: int64"
      ]
     },
     "execution_count": 17,
     "metadata": {},
     "output_type": "execute_result"
    }
   ],
   "source": [
    "data['InternetService'].value_counts()"
   ]
  },
  {
   "cell_type": "code",
   "execution_count": 18,
   "metadata": {},
   "outputs": [
    {
     "data": {
      "text/plain": [
       "2    3096\n",
       "1    2421\n",
       "0    1526\n",
       "Name: InternetService, dtype: int64"
      ]
     },
     "execution_count": 18,
     "metadata": {},
     "output_type": "execute_result"
    }
   ],
   "source": [
    "data['InternetService'] = data['InternetService'].replace({'No' : 0, 'DSL' : 1, 'Fiber optic': 2})\n",
    "data['InternetService'].value_counts()"
   ]
  },
  {
   "cell_type": "markdown",
   "metadata": {},
   "source": [
    "#### Online security to 0 and 1"
   ]
  },
  {
   "cell_type": "code",
   "execution_count": 19,
   "metadata": {},
   "outputs": [
    {
     "data": {
      "text/plain": [
       "No                     3498\n",
       "Yes                    2019\n",
       "No internet service    1526\n",
       "Name: OnlineSecurity, dtype: int64"
      ]
     },
     "execution_count": 19,
     "metadata": {},
     "output_type": "execute_result"
    }
   ],
   "source": [
    "data['OnlineSecurity'].value_counts()"
   ]
  },
  {
   "cell_type": "code",
   "execution_count": 20,
   "metadata": {},
   "outputs": [
    {
     "data": {
      "text/plain": [
       "0    5024\n",
       "1    2019\n",
       "Name: OnlineSecurity, dtype: int64"
      ]
     },
     "execution_count": 20,
     "metadata": {},
     "output_type": "execute_result"
    }
   ],
   "source": [
    "data['OnlineSecurity'] = data['OnlineSecurity'].replace({'Yes' : 1, 'No' : 0, 'No internet service': 0})\n",
    "data['OnlineSecurity'].value_counts()"
   ]
  },
  {
   "cell_type": "markdown",
   "metadata": {},
   "source": [
    "#### online backup to 0 and 1"
   ]
  },
  {
   "cell_type": "code",
   "execution_count": 21,
   "metadata": {},
   "outputs": [
    {
     "data": {
      "text/plain": [
       "No                     3088\n",
       "Yes                    2429\n",
       "No internet service    1526\n",
       "Name: OnlineBackup, dtype: int64"
      ]
     },
     "execution_count": 21,
     "metadata": {},
     "output_type": "execute_result"
    }
   ],
   "source": [
    "data['OnlineBackup'].value_counts()"
   ]
  },
  {
   "cell_type": "code",
   "execution_count": 22,
   "metadata": {},
   "outputs": [
    {
     "data": {
      "text/plain": [
       "0    4614\n",
       "1    2429\n",
       "Name: OnlineBackup, dtype: int64"
      ]
     },
     "execution_count": 22,
     "metadata": {},
     "output_type": "execute_result"
    }
   ],
   "source": [
    "data['OnlineBackup'] = data['OnlineBackup'].replace({'Yes' : 1, 'No' : 0, 'No internet service': 0})\n",
    "data['OnlineBackup'].value_counts()"
   ]
  },
  {
   "cell_type": "markdown",
   "metadata": {},
   "source": [
    "#### Device protection to 0 and 1"
   ]
  },
  {
   "cell_type": "code",
   "execution_count": 23,
   "metadata": {},
   "outputs": [
    {
     "data": {
      "text/plain": [
       "No                     3095\n",
       "Yes                    2422\n",
       "No internet service    1526\n",
       "Name: DeviceProtection, dtype: int64"
      ]
     },
     "execution_count": 23,
     "metadata": {},
     "output_type": "execute_result"
    }
   ],
   "source": [
    "data['DeviceProtection'].value_counts()"
   ]
  },
  {
   "cell_type": "code",
   "execution_count": 24,
   "metadata": {},
   "outputs": [
    {
     "data": {
      "text/plain": [
       "0    4621\n",
       "1    2422\n",
       "Name: DeviceProtection, dtype: int64"
      ]
     },
     "execution_count": 24,
     "metadata": {},
     "output_type": "execute_result"
    }
   ],
   "source": [
    "data['DeviceProtection'] = data['DeviceProtection'].replace({'Yes' : 1, 'No' : 0, 'No internet service': 0})\n",
    "data['DeviceProtection'].value_counts()"
   ]
  },
  {
   "cell_type": "markdown",
   "metadata": {},
   "source": [
    "#### Tech Support to 0 and 1"
   ]
  },
  {
   "cell_type": "code",
   "execution_count": 25,
   "metadata": {},
   "outputs": [
    {
     "data": {
      "text/plain": [
       "No                     3473\n",
       "Yes                    2044\n",
       "No internet service    1526\n",
       "Name: TechSupport, dtype: int64"
      ]
     },
     "execution_count": 25,
     "metadata": {},
     "output_type": "execute_result"
    }
   ],
   "source": [
    "data['TechSupport'].value_counts()"
   ]
  },
  {
   "cell_type": "code",
   "execution_count": 26,
   "metadata": {},
   "outputs": [
    {
     "data": {
      "text/plain": [
       "0    4999\n",
       "1    2044\n",
       "Name: TechSupport, dtype: int64"
      ]
     },
     "execution_count": 26,
     "metadata": {},
     "output_type": "execute_result"
    }
   ],
   "source": [
    "data['TechSupport'] = data['TechSupport'].replace({'Yes' : 1, 'No' : 0, 'No internet service': 0})\n",
    "data['TechSupport'].value_counts()"
   ]
  },
  {
   "cell_type": "markdown",
   "metadata": {},
   "source": [
    "#### streaming tv to 0 and 1"
   ]
  },
  {
   "cell_type": "code",
   "execution_count": 27,
   "metadata": {},
   "outputs": [
    {
     "data": {
      "text/plain": [
       "No                     2810\n",
       "Yes                    2707\n",
       "No internet service    1526\n",
       "Name: StreamingTV, dtype: int64"
      ]
     },
     "execution_count": 27,
     "metadata": {},
     "output_type": "execute_result"
    }
   ],
   "source": [
    "data['StreamingTV'].value_counts()"
   ]
  },
  {
   "cell_type": "code",
   "execution_count": 28,
   "metadata": {},
   "outputs": [
    {
     "data": {
      "text/plain": [
       "0    4336\n",
       "1    2707\n",
       "Name: StreamingTV, dtype: int64"
      ]
     },
     "execution_count": 28,
     "metadata": {},
     "output_type": "execute_result"
    }
   ],
   "source": [
    "data['StreamingTV'] = data['StreamingTV'].replace({'Yes' : 1, 'No' : 0, 'No internet service': 0})\n",
    "data['StreamingTV'].value_counts()"
   ]
  },
  {
   "cell_type": "markdown",
   "metadata": {},
   "source": [
    "#### streaming movie to 0 and 1"
   ]
  },
  {
   "cell_type": "code",
   "execution_count": 29,
   "metadata": {},
   "outputs": [
    {
     "data": {
      "text/plain": [
       "No                     2785\n",
       "Yes                    2732\n",
       "No internet service    1526\n",
       "Name: StreamingMovies, dtype: int64"
      ]
     },
     "execution_count": 29,
     "metadata": {},
     "output_type": "execute_result"
    }
   ],
   "source": [
    "data['StreamingMovies'].value_counts()"
   ]
  },
  {
   "cell_type": "code",
   "execution_count": 30,
   "metadata": {},
   "outputs": [
    {
     "data": {
      "text/plain": [
       "0    4311\n",
       "1    2732\n",
       "Name: StreamingMovies, dtype: int64"
      ]
     },
     "execution_count": 30,
     "metadata": {},
     "output_type": "execute_result"
    }
   ],
   "source": [
    "data['StreamingMovies'] = data['StreamingMovies'].replace({'Yes' : 1, 'No' : 0, 'No internet service': 0})\n",
    "data['StreamingMovies'].value_counts()"
   ]
  },
  {
   "cell_type": "markdown",
   "metadata": {},
   "source": [
    "#### contract to cateogrical"
   ]
  },
  {
   "cell_type": "code",
   "execution_count": 31,
   "metadata": {},
   "outputs": [
    {
     "data": {
      "text/plain": [
       "Month-to-month    3875\n",
       "Two year          1695\n",
       "One year          1473\n",
       "Name: Contract, dtype: int64"
      ]
     },
     "execution_count": 31,
     "metadata": {},
     "output_type": "execute_result"
    }
   ],
   "source": [
    "data['Contract'].value_counts()"
   ]
  },
  {
   "cell_type": "code",
   "execution_count": 32,
   "metadata": {},
   "outputs": [
    {
     "data": {
      "text/plain": [
       "0    3875\n",
       "2    1695\n",
       "1    1473\n",
       "Name: Contract, dtype: int64"
      ]
     },
     "execution_count": 32,
     "metadata": {},
     "output_type": "execute_result"
    }
   ],
   "source": [
    "data['Contract'] = data['Contract'].replace({'Month-to-month' : 0, 'One year' : 1, 'Two year': 2})\n",
    "data['Contract'].value_counts()"
   ]
  },
  {
   "cell_type": "markdown",
   "metadata": {},
   "source": [
    "#### billing to 1 and 0"
   ]
  },
  {
   "cell_type": "code",
   "execution_count": 33,
   "metadata": {},
   "outputs": [
    {
     "data": {
      "text/plain": [
       "Yes    4171\n",
       "No     2872\n",
       "Name: PaperlessBilling, dtype: int64"
      ]
     },
     "execution_count": 33,
     "metadata": {},
     "output_type": "execute_result"
    }
   ],
   "source": [
    "data['PaperlessBilling'].value_counts()"
   ]
  },
  {
   "cell_type": "code",
   "execution_count": 34,
   "metadata": {},
   "outputs": [
    {
     "data": {
      "text/plain": [
       "1    4171\n",
       "0    2872\n",
       "Name: PaperlessBilling, dtype: int64"
      ]
     },
     "execution_count": 34,
     "metadata": {},
     "output_type": "execute_result"
    }
   ],
   "source": [
    "data['PaperlessBilling'] = data['PaperlessBilling'].replace({'Yes' : 1, 'No' : 0})\n",
    "data['PaperlessBilling'].value_counts()"
   ]
  },
  {
   "cell_type": "markdown",
   "metadata": {},
   "source": [
    "#### Payment to categorical"
   ]
  },
  {
   "cell_type": "code",
   "execution_count": 35,
   "metadata": {},
   "outputs": [
    {
     "data": {
      "text/plain": [
       "Electronic check             2365\n",
       "Mailed check                 1612\n",
       "Bank transfer (automatic)    1544\n",
       "Credit card (automatic)      1522\n",
       "Name: PaymentMethod, dtype: int64"
      ]
     },
     "execution_count": 35,
     "metadata": {},
     "output_type": "execute_result"
    }
   ],
   "source": [
    "data['PaymentMethod'].value_counts()"
   ]
  },
  {
   "cell_type": "code",
   "execution_count": 36,
   "metadata": {},
   "outputs": [
    {
     "data": {
      "text/plain": [
       "0    2365\n",
       "1    1612\n",
       "2    1544\n",
       "3    1522\n",
       "Name: PaymentMethod, dtype: int64"
      ]
     },
     "execution_count": 36,
     "metadata": {},
     "output_type": "execute_result"
    }
   ],
   "source": [
    "data['PaymentMethod'] = pd.factorize(data['PaymentMethod'])[0]\n",
    "data['PaymentMethod'].value_counts()"
   ]
  },
  {
   "cell_type": "markdown",
   "metadata": {},
   "source": [
    "#### Churn to 0 and 1"
   ]
  },
  {
   "cell_type": "code",
   "execution_count": 37,
   "metadata": {},
   "outputs": [
    {
     "data": {
      "text/plain": [
       "No     5174\n",
       "Yes    1869\n",
       "Name: Churn, dtype: int64"
      ]
     },
     "execution_count": 37,
     "metadata": {},
     "output_type": "execute_result"
    }
   ],
   "source": [
    "data['Churn'].value_counts()"
   ]
  },
  {
   "cell_type": "code",
   "execution_count": 38,
   "metadata": {},
   "outputs": [
    {
     "data": {
      "text/plain": [
       "0    5174\n",
       "1    1869\n",
       "Name: Churn, dtype: int64"
      ]
     },
     "execution_count": 38,
     "metadata": {},
     "output_type": "execute_result"
    }
   ],
   "source": [
    "data['Churn'] = data['Churn'].replace({'Yes' : 1, 'No' : 0})\n",
    "data['Churn'].value_counts()"
   ]
  },
  {
   "cell_type": "code",
   "execution_count": 39,
   "metadata": {},
   "outputs": [
    {
     "name": "stdout",
     "output_type": "stream",
     "text": [
      "<class 'pandas.core.frame.DataFrame'>\n",
      "RangeIndex: 7043 entries, 0 to 7042\n",
      "Data columns (total 19 columns):\n",
      " #   Column            Non-Null Count  Dtype  \n",
      "---  ------            --------------  -----  \n",
      " 0   gender            7043 non-null   int64  \n",
      " 1   SeniorCitizen     7043 non-null   int64  \n",
      " 2   Partner           7043 non-null   int64  \n",
      " 3   Dependents        7043 non-null   int64  \n",
      " 4   tenure            7043 non-null   int64  \n",
      " 5   PhoneService      7043 non-null   int64  \n",
      " 6   MultipleLines     7043 non-null   int64  \n",
      " 7   InternetService   7043 non-null   int64  \n",
      " 8   OnlineSecurity    7043 non-null   int64  \n",
      " 9   OnlineBackup      7043 non-null   int64  \n",
      " 10  DeviceProtection  7043 non-null   int64  \n",
      " 11  TechSupport       7043 non-null   int64  \n",
      " 12  StreamingTV       7043 non-null   int64  \n",
      " 13  StreamingMovies   7043 non-null   int64  \n",
      " 14  Contract          7043 non-null   int64  \n",
      " 15  PaperlessBilling  7043 non-null   int64  \n",
      " 16  PaymentMethod     7043 non-null   int64  \n",
      " 17  MonthlyCharges    7043 non-null   float64\n",
      " 18  Churn             7043 non-null   int64  \n",
      "dtypes: float64(1), int64(18)\n",
      "memory usage: 1.0 MB\n"
     ]
    }
   ],
   "source": [
    "data.info()"
   ]
  },
  {
   "cell_type": "markdown",
   "metadata": {},
   "source": [
    "## Build Model - random forest/knn"
   ]
  },
  {
   "cell_type": "code",
   "execution_count": 41,
   "metadata": {},
   "outputs": [],
   "source": [
    "from sklearn.model_selection import train_test_split\n",
    "from sklearn.preprocessing import MinMaxScaler\n",
    "from sklearn.ensemble import RandomForestClassifier\n",
    "from sklearn.neighbors import KNeighborsClassifier\n",
    "from sklearn.metrics import accuracy_score\n",
    "from sklearn.model_selection import cross_val_score\n",
    "from sklearn.neighbors import KNeighborsClassifier as KNN\n",
    "from sklearn.model_selection import GridSearchCV\n",
    "from sklearn.linear_model import LogisticRegression\n",
    "from sklearn import svm\n",
    "from sklearn.tree import DecisionTreeClassifier\n",
    "from sklearn.metrics import classification_report, confusion_matrix, accuracy_score\n",
    "SEED = 1"
   ]
  },
  {
   "cell_type": "markdown",
   "metadata": {},
   "source": [
    "#### random forest"
   ]
  },
  {
   "cell_type": "code",
   "execution_count": 42,
   "metadata": {},
   "outputs": [],
   "source": [
    "X = data.iloc[:, 0:18]\n",
    "y = data.iloc[:, 18]"
   ]
  },
  {
   "cell_type": "code",
   "execution_count": 43,
   "metadata": {},
   "outputs": [],
   "source": [
    "X_train, X_test, y_train, y_test = train_test_split(X, y, test_size=0.3, random_state=SEED)"
   ]
  },
  {
   "cell_type": "code",
   "execution_count": 44,
   "metadata": {},
   "outputs": [],
   "source": [
    "rf = RandomForestClassifier()"
   ]
  },
  {
   "cell_type": "code",
   "execution_count": 45,
   "metadata": {},
   "outputs": [],
   "source": [
    "param_rf = {'n_estimators': [300,400,500,600,700,800], 'min_samples_leaf': [90, 100, 130, 150, 300], \n",
    "            'random_state': [SEED] }"
   ]
  },
  {
   "cell_type": "code",
   "execution_count": 46,
   "metadata": {},
   "outputs": [],
   "source": [
    "rf_model = GridSearchCV(rf, param_rf)"
   ]
  },
  {
   "cell_type": "code",
   "execution_count": 47,
   "metadata": {},
   "outputs": [
    {
     "data": {
      "text/plain": [
       "GridSearchCV(estimator=RandomForestClassifier(),\n",
       "             param_grid={'min_samples_leaf': [90, 100, 130, 150, 300],\n",
       "                         'n_estimators': [300, 400, 500, 600, 700, 800],\n",
       "                         'random_state': [1]})"
      ]
     },
     "execution_count": 47,
     "metadata": {},
     "output_type": "execute_result"
    }
   ],
   "source": [
    "rf_model.fit(X_train, y_train.values.ravel())"
   ]
  },
  {
   "cell_type": "code",
   "execution_count": 48,
   "metadata": {},
   "outputs": [
    {
     "name": "stdout",
     "output_type": "stream",
     "text": [
      "Best: 0.7892494929006084, using {'min_samples_leaf': 90, 'n_estimators': 600, 'random_state': 1}\n"
     ]
    }
   ],
   "source": [
    "print(\"Best: {0}, using {1}\".format(rf_model.best_score_, rf_model.best_params_))"
   ]
  },
  {
   "cell_type": "code",
   "execution_count": 49,
   "metadata": {},
   "outputs": [],
   "source": [
    "rf_model = RandomForestClassifier(n_estimators=600, min_samples_leaf=90,random_state=SEED)"
   ]
  },
  {
   "cell_type": "code",
   "execution_count": 50,
   "metadata": {},
   "outputs": [
    {
     "data": {
      "text/plain": [
       "RandomForestClassifier(min_samples_leaf=90, n_estimators=600, random_state=1)"
      ]
     },
     "execution_count": 50,
     "metadata": {},
     "output_type": "execute_result"
    }
   ],
   "source": [
    "rf_model.fit(X_train, y_train.values.ravel())"
   ]
  },
  {
   "cell_type": "code",
   "execution_count": 51,
   "metadata": {},
   "outputs": [
    {
     "name": "stdout",
     "output_type": "stream",
     "text": [
      "Accuracy score: 0.8040700426\n",
      "Classification Report\n",
      "              precision    recall  f1-score   support\n",
      "\n",
      "           0       0.83      0.93      0.88      1585\n",
      "           1       0.67      0.43      0.52       528\n",
      "\n",
      "    accuracy                           0.80      2113\n",
      "   macro avg       0.75      0.68      0.70      2113\n",
      "weighted avg       0.79      0.80      0.79      2113\n",
      "\n"
     ]
    }
   ],
   "source": [
    "rf_test_pred = rf_model.predict(X_test)\n",
    "accuracy_rf = accuracy_score(y_test, rf_test_pred)\n",
    "print('Accuracy score: {:.10f}'.format(accuracy_rf))\n",
    "print(\"Classification Report\")\n",
    "print(classification_report(y_test, rf_test_pred))"
   ]
  },
  {
   "cell_type": "markdown",
   "metadata": {},
   "source": [
    "#### knn"
   ]
  },
  {
   "cell_type": "code",
   "execution_count": 52,
   "metadata": {},
   "outputs": [],
   "source": [
    "# normalize data \n",
    "X_train_norm = X_train.copy()\n",
    "X_test_norm = X_test.copy()\n",
    "num_cols = ['tenure', 'MonthlyCharges']\n",
    "for i in num_cols:\n",
    "    scale = MinMaxScaler().fit(X_train_norm[[i]])\n",
    "    X_train_norm[i] = scale.transform(X_train_norm[[i]])\n",
    "    X_test_norm[i] = scale.transform(X_test_norm[[i]])"
   ]
  },
  {
   "cell_type": "code",
   "execution_count": 53,
   "metadata": {},
   "outputs": [],
   "source": [
    "knn = KNN()"
   ]
  },
  {
   "cell_type": "code",
   "execution_count": 54,
   "metadata": {},
   "outputs": [],
   "source": [
    "param_knn = {'n_neighbors': range(20, 50)}"
   ]
  },
  {
   "cell_type": "code",
   "execution_count": 55,
   "metadata": {},
   "outputs": [
    {
     "data": {
      "text/plain": [
       "GridSearchCV(estimator=KNeighborsClassifier(),\n",
       "             param_grid={'n_neighbors': range(20, 50)})"
      ]
     },
     "execution_count": 55,
     "metadata": {},
     "output_type": "execute_result"
    }
   ],
   "source": [
    "knn_model = GridSearchCV(knn, param_knn)\n",
    "knn_model.fit(X_train_norm, y_train.values.ravel())"
   ]
  },
  {
   "cell_type": "code",
   "execution_count": 56,
   "metadata": {},
   "outputs": [
    {
     "name": "stdout",
     "output_type": "stream",
     "text": [
      "Best: 0.7870182555780934, using {'n_neighbors': 46}\n"
     ]
    }
   ],
   "source": [
    "print(\"Best: {0}, using {1}\".format(knn_model.best_score_, knn_model.best_params_))"
   ]
  },
  {
   "cell_type": "code",
   "execution_count": 57,
   "metadata": {},
   "outputs": [],
   "source": [
    "knn_model = KNN(n_neighbors=46).fit(X_train_norm, y_train.values.ravel())"
   ]
  },
  {
   "cell_type": "code",
   "execution_count": 61,
   "metadata": {},
   "outputs": [
    {
     "name": "stdout",
     "output_type": "stream",
     "text": [
      "Accuracy score: 0.8007572172\n",
      "Classification Report\n",
      "              precision    recall  f1-score   support\n",
      "\n",
      "           0       0.87      0.87      0.87      1585\n",
      "           1       0.60      0.60      0.60       528\n",
      "\n",
      "    accuracy                           0.80      2113\n",
      "   macro avg       0.73      0.73      0.73      2113\n",
      "weighted avg       0.80      0.80      0.80      2113\n",
      "\n"
     ]
    }
   ],
   "source": [
    "knn_test_pred = knn_model.predict(X_test_norm)\n",
    "accuracy_knn = accuracy_score(y_test, knn_test_pred)\n",
    "print('Accuracy score: {:.10f}'.format(accuracy_knn))\n",
    "print(\"Classification Report\")\n",
    "print(classification_report(y_test, knn_test_pred))"
   ]
  },
  {
   "cell_type": "markdown",
   "metadata": {},
   "source": [
    "#### Logistic Regression"
   ]
  },
  {
   "cell_type": "code",
   "execution_count": 59,
   "metadata": {},
   "outputs": [],
   "source": [
    "logit_model = LogisticRegression(random_state=SEED, solver='lbfgs')"
   ]
  },
  {
   "cell_type": "code",
   "execution_count": 60,
   "metadata": {},
   "outputs": [
    {
     "data": {
      "text/plain": [
       "LogisticRegression(random_state=1)"
      ]
     },
     "execution_count": 60,
     "metadata": {},
     "output_type": "execute_result"
    }
   ],
   "source": [
    "logit_model.fit(X_train_norm, y_train)"
   ]
  },
  {
   "cell_type": "code",
   "execution_count": 62,
   "metadata": {},
   "outputs": [
    {
     "name": "stdout",
     "output_type": "stream",
     "text": [
      "Accuracy score: 0.8088026503\n",
      "Classification Report\n",
      "              precision    recall  f1-score   support\n",
      "\n",
      "           0       0.86      0.89      0.87      1585\n",
      "           1       0.63      0.57      0.60       528\n",
      "\n",
      "    accuracy                           0.81      2113\n",
      "   macro avg       0.75      0.73      0.74      2113\n",
      "weighted avg       0.80      0.81      0.81      2113\n",
      "\n"
     ]
    }
   ],
   "source": [
    "logit_test_pred = logit_model.predict(X_test_norm)\n",
    "accuracy_logit = accuracy_score(y_test, logit_test_pred)\n",
    "print('Accuracy score: {:.10f}'.format(accuracy_logit))\n",
    "print(\"Classification Report\")\n",
    "print(classification_report(y_test, logit_test_pred))"
   ]
  },
  {
   "cell_type": "markdown",
   "metadata": {},
   "source": [
    "#### svm"
   ]
  },
  {
   "cell_type": "code",
   "execution_count": 63,
   "metadata": {},
   "outputs": [],
   "source": [
    "svm_model = svm.SVC(random_state=SEED, gamma='auto')"
   ]
  },
  {
   "cell_type": "code",
   "execution_count": 64,
   "metadata": {},
   "outputs": [
    {
     "data": {
      "text/plain": [
       "SVC(gamma='auto', random_state=1)"
      ]
     },
     "execution_count": 64,
     "metadata": {},
     "output_type": "execute_result"
    }
   ],
   "source": [
    "svm_model.fit(X_train_norm, y_train)"
   ]
  },
  {
   "cell_type": "code",
   "execution_count": 65,
   "metadata": {},
   "outputs": [
    {
     "name": "stdout",
     "output_type": "stream",
     "text": [
      "Accuracy score: 0.8078561287\n",
      "Classification Report\n",
      "              precision    recall  f1-score   support\n",
      "\n",
      "           0       0.85      0.91      0.88      1585\n",
      "           1       0.65      0.50      0.57       528\n",
      "\n",
      "    accuracy                           0.81      2113\n",
      "   macro avg       0.75      0.71      0.72      2113\n",
      "weighted avg       0.80      0.81      0.80      2113\n",
      "\n"
     ]
    }
   ],
   "source": [
    "svm_test_pred = svm_model.predict(X_test_norm)\n",
    "accuracy_svm = accuracy_score(y_test, svm_test_pred)\n",
    "print('Accuracy score: {:.10f}'.format(accuracy_svm))\n",
    "print(\"Classification Report\")\n",
    "print(classification_report(y_test, svm_test_pred))"
   ]
  },
  {
   "cell_type": "markdown",
   "metadata": {},
   "source": [
    "#### Decision Tree"
   ]
  },
  {
   "cell_type": "code",
   "execution_count": 66,
   "metadata": {},
   "outputs": [],
   "source": [
    "dt_model = DecisionTreeClassifier()"
   ]
  },
  {
   "cell_type": "code",
   "execution_count": 67,
   "metadata": {},
   "outputs": [],
   "source": [
    "param_dt = {'criterion': ['gini', 'entropy'], 'max_depth': range(5, 20), \n",
    "            'min_samples_leaf': [50, 100, 150], 'random_state': [SEED] }"
   ]
  },
  {
   "cell_type": "code",
   "execution_count": 68,
   "metadata": {},
   "outputs": [
    {
     "data": {
      "text/plain": [
       "GridSearchCV(estimator=DecisionTreeClassifier(),\n",
       "             param_grid={'criterion': ['gini', 'entropy'],\n",
       "                         'max_depth': range(5, 20),\n",
       "                         'min_samples_leaf': [50, 100, 150],\n",
       "                         'random_state': [1]})"
      ]
     },
     "execution_count": 68,
     "metadata": {},
     "output_type": "execute_result"
    }
   ],
   "source": [
    "dt_model = GridSearchCV(dt_model, param_dt)\n",
    "dt_model.fit(X_train, y_train.values.ravel())"
   ]
  },
  {
   "cell_type": "code",
   "execution_count": 69,
   "metadata": {},
   "outputs": [
    {
     "name": "stdout",
     "output_type": "stream",
     "text": [
      "Best: 0.7918864097363084, using {'criterion': 'entropy', 'max_depth': 5, 'min_samples_leaf': 100, 'random_state': 1}\n"
     ]
    }
   ],
   "source": [
    "print(\"Best: {0}, using {1}\".format(dt_model.best_score_, dt_model.best_params_))"
   ]
  },
  {
   "cell_type": "code",
   "execution_count": 70,
   "metadata": {},
   "outputs": [],
   "source": [
    "dt_model = DecisionTreeClassifier(max_depth=5, min_samples_leaf=100, random_state=1).fit(X_train, y_train)"
   ]
  },
  {
   "cell_type": "code",
   "execution_count": 71,
   "metadata": {},
   "outputs": [
    {
     "name": "stdout",
     "output_type": "stream",
     "text": [
      "Accuracy score: 0.8017037388\n",
      "Classification Report\n",
      "              precision    recall  f1-score   support\n",
      "\n",
      "           0       0.85      0.90      0.87      1585\n",
      "           1       0.62      0.52      0.57       528\n",
      "\n",
      "    accuracy                           0.80      2113\n",
      "   macro avg       0.74      0.71      0.72      2113\n",
      "weighted avg       0.79      0.80      0.80      2113\n",
      "\n"
     ]
    }
   ],
   "source": [
    "dt_test_pred = dt_model.predict(X_test)\n",
    "accuracy_dt = accuracy_score(y_test, dt_test_pred)\n",
    "print('Accuracy score: {:.10f}'.format(accuracy_dt))\n",
    "print(\"Classification Report\")\n",
    "print(classification_report(y_test, dt_test_pred))"
   ]
  },
  {
   "cell_type": "markdown",
   "metadata": {},
   "source": [
    "## (noncombine)"
   ]
  },
  {
   "cell_type": "code",
   "execution_count": 72,
   "metadata": {},
   "outputs": [],
   "source": [
    "data = pd.read_csv('telco.csv')\n",
    "data = data.drop(['TotalCharges'], axis=1)\n",
    "data = data.drop(['customerID'], axis = 1)"
   ]
  },
  {
   "cell_type": "code",
   "execution_count": 73,
   "metadata": {},
   "outputs": [],
   "source": [
    "data['gender'] = pd.factorize(data['gender'])[0]\n",
    "data['Partner'] = data['Partner'].replace({'Yes' : 1, 'No' : 0})\n",
    "data['Dependents'] = data['Dependents'].replace({'Yes' : 1, 'No' : 0})\n",
    "data['PhoneService'] = data['PhoneService'].replace({'Yes' : 1, 'No' : 0})\n",
    "data['MultipleLines'] = data['MultipleLines'].replace({'Yes' : 1, 'No' : 0, 'No phone service': 2})\n",
    "data['InternetService'] = data['InternetService'].replace({'No' : 0, 'DSL' : 1, 'Fiber optic': 2})\n",
    "data['OnlineSecurity'] = data['OnlineSecurity'].replace({'Yes' : 1, 'No' : 0, 'No internet service': 2})\n",
    "data['OnlineBackup'] = data['OnlineBackup'].replace({'Yes' : 1, 'No' : 0, 'No internet service': 2})\n",
    "data['DeviceProtection'] = data['DeviceProtection'].replace({'Yes' : 1, 'No' : 0, 'No internet service': 2})\n",
    "data['TechSupport'] = data['TechSupport'].replace({'Yes' : 1, 'No' : 0, 'No internet service': 2})\n",
    "data['StreamingTV'] = data['StreamingTV'].replace({'Yes' : 1, 'No' : 0, 'No internet service': 2})\n",
    "data['StreamingMovies'] = data['StreamingMovies'].replace({'Yes' : 1, 'No' : 0, 'No internet service': 2})\n",
    "data['Contract'] = data['Contract'].replace({'Month-to-month' : 0, 'One year' : 1, 'Two year': 2})\n",
    "data['PaperlessBilling'] = data['PaperlessBilling'].replace({'Yes' : 1, 'No' : 0})\n",
    "data['PaymentMethod'] = pd.factorize(data['PaymentMethod'])[0]\n",
    "data['Churn'] = data['Churn'].replace({'Yes' : 1, 'No' : 0})"
   ]
  },
  {
   "cell_type": "code",
   "execution_count": 74,
   "metadata": {},
   "outputs": [
    {
     "data": {
      "text/html": [
       "<div>\n",
       "<style scoped>\n",
       "    .dataframe tbody tr th:only-of-type {\n",
       "        vertical-align: middle;\n",
       "    }\n",
       "\n",
       "    .dataframe tbody tr th {\n",
       "        vertical-align: top;\n",
       "    }\n",
       "\n",
       "    .dataframe thead th {\n",
       "        text-align: right;\n",
       "    }\n",
       "</style>\n",
       "<table border=\"1\" class=\"dataframe\">\n",
       "  <thead>\n",
       "    <tr style=\"text-align: right;\">\n",
       "      <th></th>\n",
       "      <th>gender</th>\n",
       "      <th>SeniorCitizen</th>\n",
       "      <th>Partner</th>\n",
       "      <th>Dependents</th>\n",
       "      <th>tenure</th>\n",
       "      <th>PhoneService</th>\n",
       "      <th>MultipleLines</th>\n",
       "      <th>InternetService</th>\n",
       "      <th>OnlineSecurity</th>\n",
       "      <th>OnlineBackup</th>\n",
       "      <th>DeviceProtection</th>\n",
       "      <th>TechSupport</th>\n",
       "      <th>StreamingTV</th>\n",
       "      <th>StreamingMovies</th>\n",
       "      <th>Contract</th>\n",
       "      <th>PaperlessBilling</th>\n",
       "      <th>PaymentMethod</th>\n",
       "      <th>MonthlyCharges</th>\n",
       "      <th>Churn</th>\n",
       "    </tr>\n",
       "  </thead>\n",
       "  <tbody>\n",
       "    <tr>\n",
       "      <th>0</th>\n",
       "      <td>0</td>\n",
       "      <td>0</td>\n",
       "      <td>1</td>\n",
       "      <td>0</td>\n",
       "      <td>1</td>\n",
       "      <td>0</td>\n",
       "      <td>2</td>\n",
       "      <td>1</td>\n",
       "      <td>0</td>\n",
       "      <td>1</td>\n",
       "      <td>0</td>\n",
       "      <td>0</td>\n",
       "      <td>0</td>\n",
       "      <td>0</td>\n",
       "      <td>0</td>\n",
       "      <td>1</td>\n",
       "      <td>0</td>\n",
       "      <td>29.85</td>\n",
       "      <td>0</td>\n",
       "    </tr>\n",
       "    <tr>\n",
       "      <th>1</th>\n",
       "      <td>1</td>\n",
       "      <td>0</td>\n",
       "      <td>0</td>\n",
       "      <td>0</td>\n",
       "      <td>34</td>\n",
       "      <td>1</td>\n",
       "      <td>0</td>\n",
       "      <td>1</td>\n",
       "      <td>1</td>\n",
       "      <td>0</td>\n",
       "      <td>1</td>\n",
       "      <td>0</td>\n",
       "      <td>0</td>\n",
       "      <td>0</td>\n",
       "      <td>1</td>\n",
       "      <td>0</td>\n",
       "      <td>1</td>\n",
       "      <td>56.95</td>\n",
       "      <td>0</td>\n",
       "    </tr>\n",
       "    <tr>\n",
       "      <th>2</th>\n",
       "      <td>1</td>\n",
       "      <td>0</td>\n",
       "      <td>0</td>\n",
       "      <td>0</td>\n",
       "      <td>2</td>\n",
       "      <td>1</td>\n",
       "      <td>0</td>\n",
       "      <td>1</td>\n",
       "      <td>1</td>\n",
       "      <td>1</td>\n",
       "      <td>0</td>\n",
       "      <td>0</td>\n",
       "      <td>0</td>\n",
       "      <td>0</td>\n",
       "      <td>0</td>\n",
       "      <td>1</td>\n",
       "      <td>1</td>\n",
       "      <td>53.85</td>\n",
       "      <td>1</td>\n",
       "    </tr>\n",
       "    <tr>\n",
       "      <th>3</th>\n",
       "      <td>1</td>\n",
       "      <td>0</td>\n",
       "      <td>0</td>\n",
       "      <td>0</td>\n",
       "      <td>45</td>\n",
       "      <td>0</td>\n",
       "      <td>2</td>\n",
       "      <td>1</td>\n",
       "      <td>1</td>\n",
       "      <td>0</td>\n",
       "      <td>1</td>\n",
       "      <td>1</td>\n",
       "      <td>0</td>\n",
       "      <td>0</td>\n",
       "      <td>1</td>\n",
       "      <td>0</td>\n",
       "      <td>2</td>\n",
       "      <td>42.30</td>\n",
       "      <td>0</td>\n",
       "    </tr>\n",
       "    <tr>\n",
       "      <th>4</th>\n",
       "      <td>0</td>\n",
       "      <td>0</td>\n",
       "      <td>0</td>\n",
       "      <td>0</td>\n",
       "      <td>2</td>\n",
       "      <td>1</td>\n",
       "      <td>0</td>\n",
       "      <td>2</td>\n",
       "      <td>0</td>\n",
       "      <td>0</td>\n",
       "      <td>0</td>\n",
       "      <td>0</td>\n",
       "      <td>0</td>\n",
       "      <td>0</td>\n",
       "      <td>0</td>\n",
       "      <td>1</td>\n",
       "      <td>0</td>\n",
       "      <td>70.70</td>\n",
       "      <td>1</td>\n",
       "    </tr>\n",
       "  </tbody>\n",
       "</table>\n",
       "</div>"
      ],
      "text/plain": [
       "   gender  SeniorCitizen  Partner  Dependents  tenure  PhoneService  \\\n",
       "0       0              0        1           0       1             0   \n",
       "1       1              0        0           0      34             1   \n",
       "2       1              0        0           0       2             1   \n",
       "3       1              0        0           0      45             0   \n",
       "4       0              0        0           0       2             1   \n",
       "\n",
       "   MultipleLines  InternetService  OnlineSecurity  OnlineBackup  \\\n",
       "0              2                1               0             1   \n",
       "1              0                1               1             0   \n",
       "2              0                1               1             1   \n",
       "3              2                1               1             0   \n",
       "4              0                2               0             0   \n",
       "\n",
       "   DeviceProtection  TechSupport  StreamingTV  StreamingMovies  Contract  \\\n",
       "0                 0            0            0                0         0   \n",
       "1                 1            0            0                0         1   \n",
       "2                 0            0            0                0         0   \n",
       "3                 1            1            0                0         1   \n",
       "4                 0            0            0                0         0   \n",
       "\n",
       "   PaperlessBilling  PaymentMethod  MonthlyCharges  Churn  \n",
       "0                 1              0           29.85      0  \n",
       "1                 0              1           56.95      0  \n",
       "2                 1              1           53.85      1  \n",
       "3                 0              2           42.30      0  \n",
       "4                 1              0           70.70      1  "
      ]
     },
     "execution_count": 74,
     "metadata": {},
     "output_type": "execute_result"
    }
   ],
   "source": [
    "data.head()"
   ]
  },
  {
   "cell_type": "code",
   "execution_count": 75,
   "metadata": {},
   "outputs": [
    {
     "name": "stdout",
     "output_type": "stream",
     "text": [
      "<class 'pandas.core.frame.DataFrame'>\n",
      "RangeIndex: 7043 entries, 0 to 7042\n",
      "Data columns (total 19 columns):\n",
      " #   Column            Non-Null Count  Dtype  \n",
      "---  ------            --------------  -----  \n",
      " 0   gender            7043 non-null   int64  \n",
      " 1   SeniorCitizen     7043 non-null   int64  \n",
      " 2   Partner           7043 non-null   int64  \n",
      " 3   Dependents        7043 non-null   int64  \n",
      " 4   tenure            7043 non-null   int64  \n",
      " 5   PhoneService      7043 non-null   int64  \n",
      " 6   MultipleLines     7043 non-null   int64  \n",
      " 7   InternetService   7043 non-null   int64  \n",
      " 8   OnlineSecurity    7043 non-null   int64  \n",
      " 9   OnlineBackup      7043 non-null   int64  \n",
      " 10  DeviceProtection  7043 non-null   int64  \n",
      " 11  TechSupport       7043 non-null   int64  \n",
      " 12  StreamingTV       7043 non-null   int64  \n",
      " 13  StreamingMovies   7043 non-null   int64  \n",
      " 14  Contract          7043 non-null   int64  \n",
      " 15  PaperlessBilling  7043 non-null   int64  \n",
      " 16  PaymentMethod     7043 non-null   int64  \n",
      " 17  MonthlyCharges    7043 non-null   float64\n",
      " 18  Churn             7043 non-null   int64  \n",
      "dtypes: float64(1), int64(18)\n",
      "memory usage: 1.0 MB\n"
     ]
    }
   ],
   "source": [
    "data.info()"
   ]
  },
  {
   "cell_type": "code",
   "execution_count": 76,
   "metadata": {},
   "outputs": [],
   "source": [
    "from sklearn.model_selection import train_test_split\n",
    "from sklearn.preprocessing import MinMaxScaler\n",
    "from sklearn.ensemble import RandomForestClassifier\n",
    "from sklearn.neighbors import KNeighborsClassifier\n",
    "from sklearn.metrics import accuracy_score\n",
    "from sklearn.model_selection import cross_val_score\n",
    "from sklearn.neighbors import KNeighborsClassifier as KNN\n",
    "from sklearn.model_selection import GridSearchCV\n",
    "from sklearn.linear_model import LogisticRegression\n",
    "from sklearn import svm\n",
    "from sklearn.tree import DecisionTreeClassifier\n",
    "SEED = 1"
   ]
  },
  {
   "cell_type": "markdown",
   "metadata": {},
   "source": [
    "#### random forest"
   ]
  },
  {
   "cell_type": "code",
   "execution_count": 77,
   "metadata": {},
   "outputs": [],
   "source": [
    "X = data.iloc[:, 0:18]\n",
    "y = data.iloc[:, 18]"
   ]
  },
  {
   "cell_type": "code",
   "execution_count": 78,
   "metadata": {},
   "outputs": [],
   "source": [
    "X_train, X_test, y_train, y_test = train_test_split(X, y, test_size=0.3, random_state=SEED)"
   ]
  },
  {
   "cell_type": "code",
   "execution_count": 79,
   "metadata": {},
   "outputs": [],
   "source": [
    "rf = RandomForestClassifier()"
   ]
  },
  {
   "cell_type": "code",
   "execution_count": 80,
   "metadata": {},
   "outputs": [],
   "source": [
    "param_rf = {'n_estimators': [300,400,500,600,700,800], 'min_samples_leaf': [90, 100, 130, 150, 300], \n",
    "            'random_state': [SEED] }"
   ]
  },
  {
   "cell_type": "code",
   "execution_count": 81,
   "metadata": {},
   "outputs": [],
   "source": [
    "rf_model = GridSearchCV(rf, param_rf)"
   ]
  },
  {
   "cell_type": "code",
   "execution_count": 82,
   "metadata": {},
   "outputs": [
    {
     "data": {
      "text/plain": [
       "GridSearchCV(estimator=RandomForestClassifier(),\n",
       "             param_grid={'min_samples_leaf': [90, 100, 130, 150, 300],\n",
       "                         'n_estimators': [300, 400, 500, 600, 700, 800],\n",
       "                         'random_state': [1]})"
      ]
     },
     "execution_count": 82,
     "metadata": {},
     "output_type": "execute_result"
    }
   ],
   "source": [
    "rf_model.fit(X_train, y_train.values.ravel())"
   ]
  },
  {
   "cell_type": "code",
   "execution_count": 83,
   "metadata": {},
   "outputs": [
    {
     "name": "stdout",
     "output_type": "stream",
     "text": [
      "Best: 0.7890466531440163, using {'min_samples_leaf': 90, 'n_estimators': 400, 'random_state': 1}\n"
     ]
    }
   ],
   "source": [
    "print(\"Best: {0}, using {1}\".format(rf_model.best_score_, rf_model.best_params_))"
   ]
  },
  {
   "cell_type": "code",
   "execution_count": 84,
   "metadata": {},
   "outputs": [],
   "source": [
    "rf_model = RandomForestClassifier(n_estimators=400, min_samples_leaf=90,random_state=SEED)"
   ]
  },
  {
   "cell_type": "code",
   "execution_count": 85,
   "metadata": {},
   "outputs": [
    {
     "data": {
      "text/plain": [
       "RandomForestClassifier(min_samples_leaf=90, n_estimators=400, random_state=1)"
      ]
     },
     "execution_count": 85,
     "metadata": {},
     "output_type": "execute_result"
    }
   ],
   "source": [
    "rf_model.fit(X_train, y_train.values.ravel())"
   ]
  },
  {
   "cell_type": "code",
   "execution_count": 86,
   "metadata": {},
   "outputs": [
    {
     "name": "stdout",
     "output_type": "stream",
     "text": [
      "Accuracy score: 0.8073828680\n",
      "Classification Report\n",
      "              precision    recall  f1-score   support\n",
      "\n",
      "           0       0.84      0.93      0.88      1585\n",
      "           1       0.67      0.45      0.54       528\n",
      "\n",
      "    accuracy                           0.81      2113\n",
      "   macro avg       0.75      0.69      0.71      2113\n",
      "weighted avg       0.79      0.81      0.79      2113\n",
      "\n"
     ]
    }
   ],
   "source": [
    "rf_test_pred = rf_model.predict(X_test)\n",
    "accuracy_rf = accuracy_score(y_test, rf_test_pred)\n",
    "print('Accuracy score: {:.10f}'.format(accuracy_rf))\n",
    "print(\"Classification Report\")\n",
    "print(classification_report(y_test, rf_test_pred))"
   ]
  },
  {
   "cell_type": "markdown",
   "metadata": {},
   "source": [
    "#### knn"
   ]
  },
  {
   "cell_type": "code",
   "execution_count": 87,
   "metadata": {},
   "outputs": [],
   "source": [
    "# normalize data \n",
    "X_train_norm = X_train.copy()\n",
    "X_test_norm = X_test.copy()\n",
    "num_cols = ['tenure', 'MonthlyCharges']\n",
    "for i in num_cols:\n",
    "    scale = MinMaxScaler().fit(X_train_norm[[i]])\n",
    "    X_train_norm[i] = scale.transform(X_train_norm[[i]])\n",
    "    X_test_norm[i] = scale.transform(X_test_norm[[i]])"
   ]
  },
  {
   "cell_type": "code",
   "execution_count": 88,
   "metadata": {},
   "outputs": [],
   "source": [
    "knn = KNN()"
   ]
  },
  {
   "cell_type": "code",
   "execution_count": 89,
   "metadata": {},
   "outputs": [],
   "source": [
    "param_knn = {'n_neighbors': range(20, 50)}"
   ]
  },
  {
   "cell_type": "code",
   "execution_count": 90,
   "metadata": {},
   "outputs": [
    {
     "data": {
      "text/plain": [
       "GridSearchCV(estimator=KNeighborsClassifier(),\n",
       "             param_grid={'n_neighbors': range(20, 50)})"
      ]
     },
     "execution_count": 90,
     "metadata": {},
     "output_type": "execute_result"
    }
   ],
   "source": [
    "knn_model = GridSearchCV(knn, param_knn)\n",
    "knn_model.fit(X_train_norm, y_train.values.ravel())"
   ]
  },
  {
   "cell_type": "code",
   "execution_count": 91,
   "metadata": {},
   "outputs": [
    {
     "name": "stdout",
     "output_type": "stream",
     "text": [
      "Best: 0.7851926977687627, using {'n_neighbors': 30}\n"
     ]
    }
   ],
   "source": [
    "print(\"Best: {0}, using {1}\".format(knn_model.best_score_, knn_model.best_params_))"
   ]
  },
  {
   "cell_type": "code",
   "execution_count": 92,
   "metadata": {},
   "outputs": [],
   "source": [
    "knn_model = KNN(n_neighbors=30).fit(X_train_norm, y_train.values.ravel())"
   ]
  },
  {
   "cell_type": "code",
   "execution_count": 93,
   "metadata": {},
   "outputs": [
    {
     "name": "stdout",
     "output_type": "stream",
     "text": [
      "Accuracy score: 0.8021769995\n",
      "Classification Report\n",
      "              precision    recall  f1-score   support\n",
      "\n",
      "           0       0.86      0.88      0.87      1585\n",
      "           1       0.61      0.58      0.60       528\n",
      "\n",
      "    accuracy                           0.80      2113\n",
      "   macro avg       0.74      0.73      0.73      2113\n",
      "weighted avg       0.80      0.80      0.80      2113\n",
      "\n"
     ]
    }
   ],
   "source": [
    "knn_test_pred = knn_model.predict(X_test_norm)\n",
    "accuracy_knn = accuracy_score(y_test, knn_test_pred)\n",
    "print('Accuracy score: {:.10f}'.format(accuracy_knn))\n",
    "print(\"Classification Report\")\n",
    "print(classification_report(y_test, knn_test_pred))"
   ]
  },
  {
   "cell_type": "markdown",
   "metadata": {},
   "source": [
    "#### Logistic Regression"
   ]
  },
  {
   "cell_type": "code",
   "execution_count": 94,
   "metadata": {},
   "outputs": [],
   "source": [
    "logit_model = LogisticRegression(random_state=SEED, solver='lbfgs')"
   ]
  },
  {
   "cell_type": "code",
   "execution_count": 95,
   "metadata": {},
   "outputs": [
    {
     "data": {
      "text/plain": [
       "LogisticRegression(random_state=1)"
      ]
     },
     "execution_count": 95,
     "metadata": {},
     "output_type": "execute_result"
    }
   ],
   "source": [
    "logit_model.fit(X_train_norm, y_train)"
   ]
  },
  {
   "cell_type": "code",
   "execution_count": 96,
   "metadata": {},
   "outputs": [
    {
     "name": "stdout",
     "output_type": "stream",
     "text": [
      "Accuracy score: 0.8088026503\n",
      "Classification Report\n",
      "              precision    recall  f1-score   support\n",
      "\n",
      "           0       0.86      0.89      0.87      1585\n",
      "           1       0.63      0.57      0.60       528\n",
      "\n",
      "    accuracy                           0.81      2113\n",
      "   macro avg       0.75      0.73      0.74      2113\n",
      "weighted avg       0.80      0.81      0.81      2113\n",
      "\n"
     ]
    }
   ],
   "source": [
    "logit_test_pred = logit_model.predict(X_test_norm)\n",
    "accuracy_logit = accuracy_score(y_test, logit_test_pred)\n",
    "print('Accuracy score: {:.10f}'.format(accuracy_logit))\n",
    "print(\"Classification Report\")\n",
    "print(classification_report(y_test, logit_test_pred))"
   ]
  },
  {
   "cell_type": "markdown",
   "metadata": {},
   "source": [
    "#### svm"
   ]
  },
  {
   "cell_type": "code",
   "execution_count": 97,
   "metadata": {},
   "outputs": [],
   "source": [
    "svm_model = svm.SVC(random_state=SEED, gamma='auto')"
   ]
  },
  {
   "cell_type": "code",
   "execution_count": 98,
   "metadata": {},
   "outputs": [
    {
     "data": {
      "text/plain": [
       "SVC(gamma='auto', random_state=1)"
      ]
     },
     "execution_count": 98,
     "metadata": {},
     "output_type": "execute_result"
    }
   ],
   "source": [
    "svm_model.fit(X_train_norm, y_train)"
   ]
  },
  {
   "cell_type": "code",
   "execution_count": 99,
   "metadata": {},
   "outputs": [
    {
     "name": "stdout",
     "output_type": "stream",
     "text": [
      "Accuracy score: 0.8073828680\n",
      "Classification Report\n",
      "              precision    recall  f1-score   support\n",
      "\n",
      "           0       0.85      0.91      0.88      1585\n",
      "           1       0.65      0.51      0.57       528\n",
      "\n",
      "    accuracy                           0.81      2113\n",
      "   macro avg       0.75      0.71      0.72      2113\n",
      "weighted avg       0.80      0.81      0.80      2113\n",
      "\n"
     ]
    }
   ],
   "source": [
    "svm_test_pred = svm_model.predict(X_test_norm)\n",
    "accuracy_svm = accuracy_score(y_test, svm_test_pred)\n",
    "print('Accuracy score: {:.10f}'.format(accuracy_svm))\n",
    "print(\"Classification Report\")\n",
    "print(classification_report(y_test, svm_test_pred))"
   ]
  },
  {
   "cell_type": "markdown",
   "metadata": {},
   "source": [
    "#### Decision Tree"
   ]
  },
  {
   "cell_type": "code",
   "execution_count": 100,
   "metadata": {},
   "outputs": [],
   "source": [
    "dt_model = DecisionTreeClassifier()"
   ]
  },
  {
   "cell_type": "code",
   "execution_count": 101,
   "metadata": {},
   "outputs": [],
   "source": [
    "param_dt = {'criterion': ['gini', 'entropy'], 'max_depth': range(4, 20), \n",
    "            'min_samples_leaf': [50, 100, 150], 'random_state': [SEED] }"
   ]
  },
  {
   "cell_type": "code",
   "execution_count": 102,
   "metadata": {},
   "outputs": [
    {
     "data": {
      "text/plain": [
       "GridSearchCV(estimator=DecisionTreeClassifier(),\n",
       "             param_grid={'criterion': ['gini', 'entropy'],\n",
       "                         'max_depth': range(4, 20),\n",
       "                         'min_samples_leaf': [50, 100, 150],\n",
       "                         'random_state': [1]})"
      ]
     },
     "execution_count": 102,
     "metadata": {},
     "output_type": "execute_result"
    }
   ],
   "source": [
    "dt_model = GridSearchCV(dt_model, param_dt)\n",
    "dt_model.fit(X_train, y_train.values.ravel())"
   ]
  },
  {
   "cell_type": "code",
   "execution_count": 103,
   "metadata": {},
   "outputs": [
    {
     "name": "stdout",
     "output_type": "stream",
     "text": [
      "Best: 0.7931034482758621, using {'criterion': 'entropy', 'max_depth': 5, 'min_samples_leaf': 100, 'random_state': 1}\n"
     ]
    }
   ],
   "source": [
    "print(\"Best: {0}, using {1}\".format(dt_model.best_score_, dt_model.best_params_))"
   ]
  },
  {
   "cell_type": "code",
   "execution_count": 104,
   "metadata": {},
   "outputs": [],
   "source": [
    "dt_model = DecisionTreeClassifier(max_depth=5, min_samples_leaf=100, random_state=1).fit(X_train, y_train)"
   ]
  },
  {
   "cell_type": "code",
   "execution_count": 105,
   "metadata": {},
   "outputs": [
    {
     "name": "stdout",
     "output_type": "stream",
     "text": [
      "Accuracy score: 0.8012304780\n",
      "Classification Report\n",
      "              precision    recall  f1-score   support\n",
      "\n",
      "           0       0.85      0.90      0.87      1585\n",
      "           1       0.62      0.51      0.56       528\n",
      "\n",
      "    accuracy                           0.80      2113\n",
      "   macro avg       0.74      0.71      0.72      2113\n",
      "weighted avg       0.79      0.80      0.79      2113\n",
      "\n"
     ]
    }
   ],
   "source": [
    "dt_test_pred = dt_model.predict(X_test)\n",
    "accuracy_dt = accuracy_score(y_test, dt_test_pred)\n",
    "print('Accuracy score: {:.10f}'.format(accuracy_dt))\n",
    "print(\"Classification Report\")\n",
    "print(classification_report(y_test, dt_test_pred))"
   ]
  },
  {
   "cell_type": "markdown",
   "metadata": {},
   "source": [
    "## Use Combine with PCA"
   ]
  },
  {
   "cell_type": "code",
   "execution_count": 106,
   "metadata": {},
   "outputs": [],
   "source": [
    "from sklearn.preprocessing import StandardScaler\n",
    "from sklearn.decomposition import PCA\n",
    "import matplotlib.pyplot as plt"
   ]
  },
  {
   "cell_type": "code",
   "execution_count": 107,
   "metadata": {},
   "outputs": [],
   "source": [
    "X = data.iloc[:, 0:18]\n",
    "y = data.iloc[:, 18]"
   ]
  },
  {
   "cell_type": "code",
   "execution_count": 108,
   "metadata": {},
   "outputs": [],
   "source": [
    "num_cols = ['tenure', 'MonthlyCharges']\n",
    "for i in num_cols:\n",
    "    scale = StandardScaler().fit(X[[i]])\n",
    "    X[i] = scale.transform(X[[i]])"
   ]
  },
  {
   "cell_type": "code",
   "execution_count": 109,
   "metadata": {},
   "outputs": [
    {
     "data": {
      "text/plain": [
       "array([0.41388126, 0.60439843, 0.70420286, 0.76614116, 0.80486957,\n",
       "       0.83324916, 0.85860363, 0.88200213, 0.90175333, 0.918074  ,\n",
       "       0.93277135, 0.94677019, 0.96028568, 0.97295608, 0.98411644,\n",
       "       0.99394616, 0.99783699, 1.        ])"
      ]
     },
     "execution_count": 109,
     "metadata": {},
     "output_type": "execute_result"
    }
   ],
   "source": [
    "pca = PCA().fit(X)\n",
    "np.cumsum(pca.explained_variance_ratio_)"
   ]
  },
  {
   "cell_type": "code",
   "execution_count": 110,
   "metadata": {},
   "outputs": [],
   "source": [
    "# use 11 components is enough to explain the 90% variance\n",
    "X_pca = PCA(n_components=11).fit_transform(X)"
   ]
  },
  {
   "cell_type": "code",
   "execution_count": 111,
   "metadata": {},
   "outputs": [],
   "source": [
    "from sklearn.model_selection import train_test_split\n",
    "SEED=1\n",
    "X_train, X_test, y_train, y_test = train_test_split(X_pca, y, test_size=0.3, random_state=SEED)"
   ]
  },
  {
   "cell_type": "code",
   "execution_count": 112,
   "metadata": {},
   "outputs": [],
   "source": [
    "from sklearn.model_selection import train_test_split\n",
    "from sklearn.preprocessing import MinMaxScaler\n",
    "from sklearn.ensemble import RandomForestClassifier\n",
    "from sklearn.neighbors import KNeighborsClassifier\n",
    "from sklearn.metrics import accuracy_score\n",
    "from sklearn.model_selection import cross_val_score\n",
    "from sklearn.neighbors import KNeighborsClassifier as KNN\n",
    "from sklearn.model_selection import GridSearchCV\n",
    "from sklearn.linear_model import LogisticRegression\n",
    "from sklearn import svm\n",
    "from sklearn.tree import DecisionTreeClassifier\n",
    "SEED = 1"
   ]
  },
  {
   "cell_type": "markdown",
   "metadata": {},
   "source": [
    "#### random forest"
   ]
  },
  {
   "cell_type": "code",
   "execution_count": 113,
   "metadata": {},
   "outputs": [],
   "source": [
    "rf = RandomForestClassifier()"
   ]
  },
  {
   "cell_type": "code",
   "execution_count": 114,
   "metadata": {},
   "outputs": [],
   "source": [
    "param_rf = {'n_estimators': [300,400,500,600,700,800], 'min_samples_leaf': [90, 100, 130, 150, 300], \n",
    "            'random_state': [SEED] }"
   ]
  },
  {
   "cell_type": "code",
   "execution_count": 115,
   "metadata": {},
   "outputs": [],
   "source": [
    "rf_model = GridSearchCV(rf, param_rf)"
   ]
  },
  {
   "cell_type": "code",
   "execution_count": 116,
   "metadata": {},
   "outputs": [
    {
     "data": {
      "text/plain": [
       "GridSearchCV(estimator=RandomForestClassifier(),\n",
       "             param_grid={'min_samples_leaf': [90, 100, 130, 150, 300],\n",
       "                         'n_estimators': [300, 400, 500, 600, 700, 800],\n",
       "                         'random_state': [1]})"
      ]
     },
     "execution_count": 116,
     "metadata": {},
     "output_type": "execute_result"
    }
   ],
   "source": [
    "rf_model.fit(X_train, y_train.values.ravel())"
   ]
  },
  {
   "cell_type": "code",
   "execution_count": 117,
   "metadata": {},
   "outputs": [
    {
     "name": "stdout",
     "output_type": "stream",
     "text": [
      "Best: 0.7924949290060852, using {'min_samples_leaf': 90, 'n_estimators': 800, 'random_state': 1}\n"
     ]
    }
   ],
   "source": [
    "print(\"Best: {0}, using {1}\".format(rf_model.best_score_, rf_model.best_params_))"
   ]
  },
  {
   "cell_type": "code",
   "execution_count": 118,
   "metadata": {},
   "outputs": [],
   "source": [
    "rf_model = RandomForestClassifier(n_estimators=800, min_samples_leaf=90,random_state=SEED)"
   ]
  },
  {
   "cell_type": "code",
   "execution_count": 119,
   "metadata": {},
   "outputs": [
    {
     "data": {
      "text/plain": [
       "RandomForestClassifier(min_samples_leaf=90, n_estimators=800, random_state=1)"
      ]
     },
     "execution_count": 119,
     "metadata": {},
     "output_type": "execute_result"
    }
   ],
   "source": [
    "rf_model.fit(X_train, y_train.values.ravel())"
   ]
  },
  {
   "cell_type": "code",
   "execution_count": 120,
   "metadata": {},
   "outputs": [
    {
     "name": "stdout",
     "output_type": "stream",
     "text": [
      "Accuracy score: 0.8064363464\n",
      "Classification Report\n",
      "              precision    recall  f1-score   support\n",
      "\n",
      "           0       0.84      0.92      0.88      1585\n",
      "           1       0.66      0.47      0.55       528\n",
      "\n",
      "    accuracy                           0.81      2113\n",
      "   macro avg       0.75      0.70      0.71      2113\n",
      "weighted avg       0.79      0.81      0.80      2113\n",
      "\n"
     ]
    }
   ],
   "source": [
    "rf_test_pred = rf_model.predict(X_test)\n",
    "accuracy_rf = accuracy_score(y_test, rf_test_pred)\n",
    "print('Accuracy score: {:.10f}'.format(accuracy_rf))\n",
    "print(\"Classification Report\")\n",
    "print(classification_report(y_test, rf_test_pred))"
   ]
  },
  {
   "cell_type": "markdown",
   "metadata": {},
   "source": [
    "#### knn"
   ]
  },
  {
   "cell_type": "code",
   "execution_count": 121,
   "metadata": {},
   "outputs": [],
   "source": [
    "knn = KNN()"
   ]
  },
  {
   "cell_type": "code",
   "execution_count": 122,
   "metadata": {},
   "outputs": [],
   "source": [
    "param_knn = {'n_neighbors': range(20, 50)}"
   ]
  },
  {
   "cell_type": "code",
   "execution_count": 123,
   "metadata": {},
   "outputs": [
    {
     "data": {
      "text/plain": [
       "GridSearchCV(estimator=KNeighborsClassifier(),\n",
       "             param_grid={'n_neighbors': range(20, 50)})"
      ]
     },
     "execution_count": 123,
     "metadata": {},
     "output_type": "execute_result"
    }
   ],
   "source": [
    "knn_model = GridSearchCV(knn, param_knn)\n",
    "knn_model.fit(X_train, y_train.values.ravel())"
   ]
  },
  {
   "cell_type": "code",
   "execution_count": 124,
   "metadata": {},
   "outputs": [
    {
     "name": "stdout",
     "output_type": "stream",
     "text": [
      "Best: 0.7943204868154158, using {'n_neighbors': 42}\n"
     ]
    }
   ],
   "source": [
    "print(\"Best: {0}, using {1}\".format(knn_model.best_score_, knn_model.best_params_))"
   ]
  },
  {
   "cell_type": "code",
   "execution_count": 125,
   "metadata": {},
   "outputs": [],
   "source": [
    "knn_model = KNN(n_neighbors=42).fit(X_train, y_train.values.ravel())"
   ]
  },
  {
   "cell_type": "code",
   "execution_count": 127,
   "metadata": {},
   "outputs": [
    {
     "name": "stdout",
     "output_type": "stream",
     "text": [
      "Accuracy score: 0.8102224326\n",
      "Classification Report\n",
      "              precision    recall  f1-score   support\n",
      "\n",
      "           0       0.87      0.88      0.87      1585\n",
      "           1       0.62      0.61      0.62       528\n",
      "\n",
      "    accuracy                           0.81      2113\n",
      "   macro avg       0.75      0.74      0.75      2113\n",
      "weighted avg       0.81      0.81      0.81      2113\n",
      "\n"
     ]
    }
   ],
   "source": [
    "knn_test_pred = knn_model.predict(X_test)\n",
    "accuracy_knn = accuracy_score(y_test, knn_test_pred)\n",
    "print('Accuracy score: {:.10f}'.format(accuracy_knn))\n",
    "print(\"Classification Report\")\n",
    "print(classification_report(y_test, knn_test_pred))"
   ]
  },
  {
   "cell_type": "markdown",
   "metadata": {},
   "source": [
    "#### Logistic Regression"
   ]
  },
  {
   "cell_type": "code",
   "execution_count": 128,
   "metadata": {},
   "outputs": [],
   "source": [
    "logit_model = LogisticRegression(random_state=SEED, solver='lbfgs')"
   ]
  },
  {
   "cell_type": "code",
   "execution_count": 129,
   "metadata": {},
   "outputs": [
    {
     "data": {
      "text/plain": [
       "LogisticRegression(random_state=1)"
      ]
     },
     "execution_count": 129,
     "metadata": {},
     "output_type": "execute_result"
    }
   ],
   "source": [
    "logit_model.fit(X_train, y_train)"
   ]
  },
  {
   "cell_type": "code",
   "execution_count": 130,
   "metadata": {},
   "outputs": [
    {
     "name": "stdout",
     "output_type": "stream",
     "text": [
      "Accuracy score: 0.8102224326\n",
      "Classification Report\n",
      "              precision    recall  f1-score   support\n",
      "\n",
      "           0       0.86      0.89      0.88      1585\n",
      "           1       0.63      0.57      0.60       528\n",
      "\n",
      "    accuracy                           0.81      2113\n",
      "   macro avg       0.75      0.73      0.74      2113\n",
      "weighted avg       0.80      0.81      0.81      2113\n",
      "\n"
     ]
    }
   ],
   "source": [
    "logit_test_pred = logit_model.predict(X_test)\n",
    "accuracy_logit = accuracy_score(y_test, logit_test_pred)\n",
    "print('Accuracy score: {:.10f}'.format(accuracy_logit))\n",
    "print(\"Classification Report\")\n",
    "print(classification_report(y_test, logit_test_pred))"
   ]
  },
  {
   "cell_type": "markdown",
   "metadata": {},
   "source": [
    "#### svm"
   ]
  },
  {
   "cell_type": "code",
   "execution_count": 131,
   "metadata": {},
   "outputs": [],
   "source": [
    "svm_model = svm.SVC(random_state=SEED, gamma='auto')"
   ]
  },
  {
   "cell_type": "code",
   "execution_count": 132,
   "metadata": {},
   "outputs": [
    {
     "data": {
      "text/plain": [
       "SVC(gamma='auto', random_state=1)"
      ]
     },
     "execution_count": 132,
     "metadata": {},
     "output_type": "execute_result"
    }
   ],
   "source": [
    "svm_model.fit(X_train, y_train)"
   ]
  },
  {
   "cell_type": "code",
   "execution_count": 133,
   "metadata": {},
   "outputs": [
    {
     "name": "stdout",
     "output_type": "stream",
     "text": [
      "Accuracy score: 0.8125887364\n",
      "Classification Report\n",
      "              precision    recall  f1-score   support\n",
      "\n",
      "           0       0.85      0.90      0.88      1585\n",
      "           1       0.65      0.54      0.59       528\n",
      "\n",
      "    accuracy                           0.81      2113\n",
      "   macro avg       0.75      0.72      0.73      2113\n",
      "weighted avg       0.80      0.81      0.81      2113\n",
      "\n"
     ]
    }
   ],
   "source": [
    "svm_test_pred = svm_model.predict(X_test)\n",
    "accuracy_svm = accuracy_score(y_test, svm_test_pred)\n",
    "print('Accuracy score: {:.10f}'.format(accuracy_svm))\n",
    "print(\"Classification Report\")\n",
    "print(classification_report(y_test, svm_test_pred))"
   ]
  },
  {
   "cell_type": "markdown",
   "metadata": {},
   "source": [
    "#### Decision Tree"
   ]
  },
  {
   "cell_type": "code",
   "execution_count": 134,
   "metadata": {},
   "outputs": [],
   "source": [
    "dt_model = DecisionTreeClassifier()"
   ]
  },
  {
   "cell_type": "code",
   "execution_count": 135,
   "metadata": {},
   "outputs": [],
   "source": [
    "param_dt = {'criterion': ['gini', 'entropy'], 'max_depth': range(4, 20), \n",
    "            'min_samples_leaf': [50, 100, 150], 'random_state': [SEED] }"
   ]
  },
  {
   "cell_type": "code",
   "execution_count": 136,
   "metadata": {},
   "outputs": [
    {
     "data": {
      "text/plain": [
       "GridSearchCV(estimator=DecisionTreeClassifier(),\n",
       "             param_grid={'criterion': ['gini', 'entropy'],\n",
       "                         'max_depth': range(4, 20),\n",
       "                         'min_samples_leaf': [50, 100, 150],\n",
       "                         'random_state': [1]})"
      ]
     },
     "execution_count": 136,
     "metadata": {},
     "output_type": "execute_result"
    }
   ],
   "source": [
    "dt_model = GridSearchCV(dt_model, param_dt)\n",
    "dt_model.fit(X_train, y_train.values.ravel())"
   ]
  },
  {
   "cell_type": "code",
   "execution_count": 137,
   "metadata": {},
   "outputs": [
    {
     "name": "stdout",
     "output_type": "stream",
     "text": [
      "Best: 0.788235294117647, using {'criterion': 'entropy', 'max_depth': 6, 'min_samples_leaf': 50, 'random_state': 1}\n"
     ]
    }
   ],
   "source": [
    "print(\"Best: {0}, using {1}\".format(dt_model.best_score_, dt_model.best_params_))"
   ]
  },
  {
   "cell_type": "code",
   "execution_count": 138,
   "metadata": {},
   "outputs": [],
   "source": [
    "dt_model = DecisionTreeClassifier(max_depth=6, min_samples_leaf=50, random_state=1).fit(X_train, y_train)"
   ]
  },
  {
   "cell_type": "code",
   "execution_count": 139,
   "metadata": {},
   "outputs": [
    {
     "name": "stdout",
     "output_type": "stream",
     "text": [
      "Accuracy score: 0.8050165641\n",
      "Classification Report\n",
      "              precision    recall  f1-score   support\n",
      "\n",
      "           0       0.84      0.91      0.88      1585\n",
      "           1       0.64      0.49      0.56       528\n",
      "\n",
      "    accuracy                           0.81      2113\n",
      "   macro avg       0.74      0.70      0.72      2113\n",
      "weighted avg       0.79      0.81      0.80      2113\n",
      "\n"
     ]
    }
   ],
   "source": [
    "dt_test_pred = dt_model.predict(X_test)\n",
    "accuracy_dt = accuracy_score(y_test, dt_test_pred)\n",
    "print('Accuracy score: {:.10f}'.format(accuracy_dt))\n",
    "print(\"Classification Report\")\n",
    "print(classification_report(y_test, dt_test_pred))"
   ]
  },
  {
   "cell_type": "markdown",
   "metadata": {},
   "source": [
    "## PCA with Noncombine"
   ]
  },
  {
   "cell_type": "code",
   "execution_count": 140,
   "metadata": {},
   "outputs": [],
   "source": [
    "from sklearn.preprocessing import StandardScaler\n",
    "from sklearn.decomposition import PCA\n",
    "import matplotlib.pyplot as plt"
   ]
  },
  {
   "cell_type": "code",
   "execution_count": 141,
   "metadata": {},
   "outputs": [],
   "source": [
    "X = data.iloc[:, 0:18]\n",
    "y = data.iloc[:, 18]"
   ]
  },
  {
   "cell_type": "code",
   "execution_count": 142,
   "metadata": {},
   "outputs": [],
   "source": [
    "num_cols = ['tenure', 'MonthlyCharges']\n",
    "for i in num_cols:\n",
    "    scale = StandardScaler().fit(X[[i]])\n",
    "    X[i] = scale.transform(X[[i]])"
   ]
  },
  {
   "cell_type": "code",
   "execution_count": 143,
   "metadata": {},
   "outputs": [
    {
     "data": {
      "text/plain": [
       "array([0.41388126, 0.60439843, 0.70420286, 0.76614116, 0.80486957,\n",
       "       0.83324916, 0.85860363, 0.88200213, 0.90175333, 0.918074  ,\n",
       "       0.93277135, 0.94677019, 0.96028568, 0.97295608, 0.98411644,\n",
       "       0.99394616, 0.99783699, 1.        ])"
      ]
     },
     "execution_count": 143,
     "metadata": {},
     "output_type": "execute_result"
    }
   ],
   "source": [
    "pca = PCA().fit(X)\n",
    "np.cumsum(pca.explained_variance_ratio_)"
   ]
  },
  {
   "cell_type": "code",
   "execution_count": 144,
   "metadata": {},
   "outputs": [],
   "source": [
    "# use 9 components is enough to explain the 90% variance\n",
    "X_pca = PCA(n_components=9).fit_transform(X)"
   ]
  },
  {
   "cell_type": "code",
   "execution_count": 145,
   "metadata": {},
   "outputs": [],
   "source": [
    "from sklearn.model_selection import train_test_split\n",
    "SEED=1\n",
    "X_train, X_test, y_train, y_test = train_test_split(X_pca, y, test_size=0.3, random_state=SEED)"
   ]
  },
  {
   "cell_type": "code",
   "execution_count": 146,
   "metadata": {},
   "outputs": [],
   "source": [
    "from sklearn.model_selection import train_test_split\n",
    "from sklearn.preprocessing import MinMaxScaler\n",
    "from sklearn.ensemble import RandomForestClassifier\n",
    "from sklearn.neighbors import KNeighborsClassifier\n",
    "from sklearn.metrics import accuracy_score\n",
    "from sklearn.model_selection import cross_val_score\n",
    "from sklearn.neighbors import KNeighborsClassifier as KNN\n",
    "from sklearn.model_selection import GridSearchCV\n",
    "from sklearn.linear_model import LogisticRegression\n",
    "from sklearn import svm\n",
    "from sklearn.tree import DecisionTreeClassifier\n",
    "SEED = 1"
   ]
  },
  {
   "cell_type": "markdown",
   "metadata": {},
   "source": [
    "#### random forest"
   ]
  },
  {
   "cell_type": "code",
   "execution_count": 147,
   "metadata": {},
   "outputs": [],
   "source": [
    "rf = RandomForestClassifier()"
   ]
  },
  {
   "cell_type": "code",
   "execution_count": 148,
   "metadata": {},
   "outputs": [],
   "source": [
    "param_rf = {'n_estimators': [300,400,500,600,700,800], 'min_samples_leaf': [90, 100, 130, 150, 300], \n",
    "            'random_state': [SEED] }"
   ]
  },
  {
   "cell_type": "code",
   "execution_count": 149,
   "metadata": {},
   "outputs": [],
   "source": [
    "rf_model = GridSearchCV(rf, param_rf)"
   ]
  },
  {
   "cell_type": "code",
   "execution_count": 150,
   "metadata": {},
   "outputs": [
    {
     "data": {
      "text/plain": [
       "GridSearchCV(estimator=RandomForestClassifier(),\n",
       "             param_grid={'min_samples_leaf': [90, 100, 130, 150, 300],\n",
       "                         'n_estimators': [300, 400, 500, 600, 700, 800],\n",
       "                         'random_state': [1]})"
      ]
     },
     "execution_count": 150,
     "metadata": {},
     "output_type": "execute_result"
    }
   ],
   "source": [
    "rf_model.fit(X_train, y_train.values.ravel())"
   ]
  },
  {
   "cell_type": "code",
   "execution_count": 151,
   "metadata": {},
   "outputs": [
    {
     "name": "stdout",
     "output_type": "stream",
     "text": [
      "Best: 0.7914807302231237, using {'min_samples_leaf': 90, 'n_estimators': 600, 'random_state': 1}\n"
     ]
    }
   ],
   "source": [
    "print(\"Best: {0}, using {1}\".format(rf_model.best_score_, rf_model.best_params_))"
   ]
  },
  {
   "cell_type": "code",
   "execution_count": 152,
   "metadata": {},
   "outputs": [],
   "source": [
    "rf_model = RandomForestClassifier(n_estimators=600, min_samples_leaf=90,random_state=SEED)"
   ]
  },
  {
   "cell_type": "code",
   "execution_count": 153,
   "metadata": {},
   "outputs": [
    {
     "data": {
      "text/plain": [
       "RandomForestClassifier(min_samples_leaf=90, n_estimators=600, random_state=1)"
      ]
     },
     "execution_count": 153,
     "metadata": {},
     "output_type": "execute_result"
    }
   ],
   "source": [
    "rf_model.fit(X_train, y_train.values.ravel())"
   ]
  },
  {
   "cell_type": "code",
   "execution_count": 154,
   "metadata": {},
   "outputs": [
    {
     "name": "stdout",
     "output_type": "stream",
     "text": [
      "Accuracy score: 0.8097491718\n",
      "Classification Report\n",
      "              precision    recall  f1-score   support\n",
      "\n",
      "           0       0.85      0.91      0.88      1585\n",
      "           1       0.66      0.50      0.57       528\n",
      "\n",
      "    accuracy                           0.81      2113\n",
      "   macro avg       0.75      0.71      0.72      2113\n",
      "weighted avg       0.80      0.81      0.80      2113\n",
      "\n"
     ]
    }
   ],
   "source": [
    "rf_test_pred = rf_model.predict(X_test)\n",
    "accuracy_rf = accuracy_score(y_test, rf_test_pred)\n",
    "print('Accuracy score: {:.10f}'.format(accuracy_rf))\n",
    "print(\"Classification Report\")\n",
    "print(classification_report(y_test, rf_test_pred))"
   ]
  },
  {
   "cell_type": "markdown",
   "metadata": {},
   "source": [
    "#### knn"
   ]
  },
  {
   "cell_type": "code",
   "execution_count": 155,
   "metadata": {},
   "outputs": [],
   "source": [
    "knn = KNN()"
   ]
  },
  {
   "cell_type": "code",
   "execution_count": 156,
   "metadata": {},
   "outputs": [],
   "source": [
    "param_knn = {'n_neighbors': range(20, 50)}"
   ]
  },
  {
   "cell_type": "code",
   "execution_count": 157,
   "metadata": {},
   "outputs": [
    {
     "data": {
      "text/plain": [
       "GridSearchCV(estimator=KNeighborsClassifier(),\n",
       "             param_grid={'n_neighbors': range(20, 50)})"
      ]
     },
     "execution_count": 157,
     "metadata": {},
     "output_type": "execute_result"
    }
   ],
   "source": [
    "knn_model = GridSearchCV(knn, param_knn)\n",
    "knn_model.fit(X_train, y_train.values.ravel())"
   ]
  },
  {
   "cell_type": "code",
   "execution_count": 158,
   "metadata": {},
   "outputs": [
    {
     "name": "stdout",
     "output_type": "stream",
     "text": [
      "Best: 0.7959432048681542, using {'n_neighbors': 46}\n"
     ]
    }
   ],
   "source": [
    "print(\"Best: {0}, using {1}\".format(knn_model.best_score_, knn_model.best_params_))"
   ]
  },
  {
   "cell_type": "code",
   "execution_count": 159,
   "metadata": {},
   "outputs": [],
   "source": [
    "knn_model = KNN(n_neighbors=46).fit(X_train, y_train.values.ravel())"
   ]
  },
  {
   "cell_type": "code",
   "execution_count": 160,
   "metadata": {},
   "outputs": [
    {
     "name": "stdout",
     "output_type": "stream",
     "text": [
      "Accuracy score: 0.8097491718\n",
      "Classification Report\n",
      "              precision    recall  f1-score   support\n",
      "\n",
      "           0       0.87      0.88      0.87      1585\n",
      "           1       0.63      0.59      0.61       528\n",
      "\n",
      "    accuracy                           0.81      2113\n",
      "   macro avg       0.75      0.74      0.74      2113\n",
      "weighted avg       0.81      0.81      0.81      2113\n",
      "\n"
     ]
    }
   ],
   "source": [
    "knn_test_pred = knn_model.predict(X_test)\n",
    "accuracy_knn = accuracy_score(y_test, knn_test_pred)\n",
    "print('Accuracy score: {:.10f}'.format(accuracy_knn))\n",
    "print(\"Classification Report\")\n",
    "print(classification_report(y_test, knn_test_pred))"
   ]
  },
  {
   "cell_type": "markdown",
   "metadata": {},
   "source": [
    "#### Logistic Regression"
   ]
  },
  {
   "cell_type": "code",
   "execution_count": 161,
   "metadata": {},
   "outputs": [],
   "source": [
    "logit_model = LogisticRegression(random_state=SEED, solver='lbfgs')"
   ]
  },
  {
   "cell_type": "code",
   "execution_count": 162,
   "metadata": {},
   "outputs": [
    {
     "data": {
      "text/plain": [
       "LogisticRegression(random_state=1)"
      ]
     },
     "execution_count": 162,
     "metadata": {},
     "output_type": "execute_result"
    }
   ],
   "source": [
    "logit_model.fit(X_train, y_train)"
   ]
  },
  {
   "cell_type": "code",
   "execution_count": 163,
   "metadata": {},
   "outputs": [
    {
     "name": "stdout",
     "output_type": "stream",
     "text": [
      "Accuracy score: 0.8130619972\n",
      "Classification Report\n",
      "              precision    recall  f1-score   support\n",
      "\n",
      "           0       0.87      0.89      0.88      1585\n",
      "           1       0.64      0.58      0.61       528\n",
      "\n",
      "    accuracy                           0.81      2113\n",
      "   macro avg       0.75      0.74      0.74      2113\n",
      "weighted avg       0.81      0.81      0.81      2113\n",
      "\n"
     ]
    }
   ],
   "source": [
    "logit_test_pred = logit_model.predict(X_test)\n",
    "accuracy_logit = accuracy_score(y_test, logit_test_pred)\n",
    "print('Accuracy score: {:.10f}'.format(accuracy_logit))\n",
    "print(\"Classification Report\")\n",
    "print(classification_report(y_test, logit_test_pred))"
   ]
  },
  {
   "cell_type": "markdown",
   "metadata": {},
   "source": [
    "#### svm"
   ]
  },
  {
   "cell_type": "code",
   "execution_count": 164,
   "metadata": {},
   "outputs": [],
   "source": [
    "svm_model = svm.SVC(random_state=SEED, gamma='auto')"
   ]
  },
  {
   "cell_type": "code",
   "execution_count": 165,
   "metadata": {},
   "outputs": [
    {
     "data": {
      "text/plain": [
       "SVC(gamma='auto', random_state=1)"
      ]
     },
     "execution_count": 165,
     "metadata": {},
     "output_type": "execute_result"
    }
   ],
   "source": [
    "svm_model.fit(X_train, y_train)"
   ]
  },
  {
   "cell_type": "code",
   "execution_count": 166,
   "metadata": {},
   "outputs": [
    {
     "name": "stdout",
     "output_type": "stream",
     "text": [
      "Accuracy score: 0.8135352579\n",
      "Classification Report\n",
      "              precision    recall  f1-score   support\n",
      "\n",
      "           0       0.86      0.90      0.88      1585\n",
      "           1       0.65      0.55      0.59       528\n",
      "\n",
      "    accuracy                           0.81      2113\n",
      "   macro avg       0.75      0.72      0.74      2113\n",
      "weighted avg       0.81      0.81      0.81      2113\n",
      "\n"
     ]
    }
   ],
   "source": [
    "svm_test_pred = svm_model.predict(X_test)\n",
    "accuracy_svm = accuracy_score(y_test, svm_test_pred)\n",
    "print('Accuracy score: {:.10f}'.format(accuracy_svm))\n",
    "print(\"Classification Report\")\n",
    "print(classification_report(y_test, svm_test_pred))"
   ]
  },
  {
   "cell_type": "markdown",
   "metadata": {},
   "source": [
    "#### Decision Tree"
   ]
  },
  {
   "cell_type": "code",
   "execution_count": 167,
   "metadata": {},
   "outputs": [],
   "source": [
    "dt_model = DecisionTreeClassifier()"
   ]
  },
  {
   "cell_type": "code",
   "execution_count": 168,
   "metadata": {},
   "outputs": [],
   "source": [
    "param_dt = {'criterion': ['gini', 'entropy'], 'max_depth': range(4, 20), \n",
    "            'min_samples_leaf': [50, 100, 150], 'random_state': [SEED] }"
   ]
  },
  {
   "cell_type": "code",
   "execution_count": 169,
   "metadata": {},
   "outputs": [
    {
     "data": {
      "text/plain": [
       "GridSearchCV(estimator=DecisionTreeClassifier(),\n",
       "             param_grid={'criterion': ['gini', 'entropy'],\n",
       "                         'max_depth': range(4, 20),\n",
       "                         'min_samples_leaf': [50, 100, 150],\n",
       "                         'random_state': [1]})"
      ]
     },
     "execution_count": 169,
     "metadata": {},
     "output_type": "execute_result"
    }
   ],
   "source": [
    "dt_model = GridSearchCV(dt_model, param_dt)\n",
    "dt_model.fit(X_train, y_train.values.ravel())"
   ]
  },
  {
   "cell_type": "code",
   "execution_count": 170,
   "metadata": {},
   "outputs": [
    {
     "name": "stdout",
     "output_type": "stream",
     "text": [
      "Best: 0.7878296146044625, using {'criterion': 'entropy', 'max_depth': 6, 'min_samples_leaf': 50, 'random_state': 1}\n"
     ]
    }
   ],
   "source": [
    "print(\"Best: {0}, using {1}\".format(dt_model.best_score_, dt_model.best_params_))"
   ]
  },
  {
   "cell_type": "code",
   "execution_count": 171,
   "metadata": {},
   "outputs": [],
   "source": [
    "dt_model = DecisionTreeClassifier(max_depth=6, min_samples_leaf=50, random_state=1).fit(X_train, y_train)"
   ]
  },
  {
   "cell_type": "code",
   "execution_count": 172,
   "metadata": {},
   "outputs": [
    {
     "name": "stdout",
     "output_type": "stream",
     "text": [
      "Accuracy score: 0.8050165641\n",
      "Classification Report\n",
      "              precision    recall  f1-score   support\n",
      "\n",
      "           0       0.84      0.91      0.88      1585\n",
      "           1       0.64      0.49      0.56       528\n",
      "\n",
      "    accuracy                           0.81      2113\n",
      "   macro avg       0.74      0.70      0.72      2113\n",
      "weighted avg       0.79      0.81      0.80      2113\n",
      "\n"
     ]
    }
   ],
   "source": [
    "dt_test_pred = dt_model.predict(X_test)\n",
    "accuracy_dt = accuracy_score(y_test, dt_test_pred)\n",
    "print('Accuracy score: {:.10f}'.format(accuracy_dt))\n",
    "print(\"Classification Report\")\n",
    "print(classification_report(y_test, dt_test_pred))"
   ]
  },
  {
   "cell_type": "code",
   "execution_count": null,
   "metadata": {},
   "outputs": [],
   "source": []
  }
 ],
 "metadata": {
  "kernelspec": {
   "display_name": "Python 3",
   "language": "python",
   "name": "python3"
  },
  "language_info": {
   "codemirror_mode": {
    "name": "ipython",
    "version": 3
   },
   "file_extension": ".py",
   "mimetype": "text/x-python",
   "name": "python",
   "nbconvert_exporter": "python",
   "pygments_lexer": "ipython3",
   "version": "3.8.3"
  }
 },
 "nbformat": 4,
 "nbformat_minor": 4
}
