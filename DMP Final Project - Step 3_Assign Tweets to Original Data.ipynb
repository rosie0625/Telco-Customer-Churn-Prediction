{
 "cells": [
  {
   "cell_type": "code",
   "execution_count": 1,
   "id": "turned-monthly",
   "metadata": {},
   "outputs": [],
   "source": [
    "import numpy as np\n",
    "import pandas as pd\n",
    "import matplotlib.pyplot as plt\n",
    "from sklearn.cluster import KMeans\n",
    "import random\n",
    "pd.options.mode.chained_assignment = None"
   ]
  },
  {
   "cell_type": "markdown",
   "id": "systematic-encoding",
   "metadata": {},
   "source": [
    "### Step 1: Load Data and Perform Transformation (Use Combination and GetDummies)"
   ]
  },
  {
   "cell_type": "code",
   "execution_count": 2,
   "id": "macro-frank",
   "metadata": {},
   "outputs": [],
   "source": [
    "df = pd.read_csv('telco.csv')"
   ]
  },
  {
   "cell_type": "code",
   "execution_count": 3,
   "id": "referenced-karma",
   "metadata": {},
   "outputs": [],
   "source": [
    "df = df.drop(['customerID','TotalCharges'],axis=1)"
   ]
  },
  {
   "cell_type": "code",
   "execution_count": 4,
   "id": "documented-letters",
   "metadata": {},
   "outputs": [],
   "source": [
    "df.loc[df['MultipleLines']=='No phone service','MultipleLines'] = 'No'\n",
    "df.loc[df['OnlineSecurity']=='No internet service','OnlineSecurity'] = 'No'\n",
    "df.loc[df['OnlineBackup']=='No internet service','OnlineBackup'] = 'No'\n",
    "df.loc[df['DeviceProtection']=='No internet service','DeviceProtection'] = 'No'\n",
    "df.loc[df['TechSupport']=='No internet service','TechSupport'] = 'No'\n",
    "df.loc[df['StreamingTV']=='No internet service','StreamingTV'] = 'No'\n",
    "df.loc[df['StreamingMovies']=='No internet service','StreamingMovies'] = 'No'"
   ]
  },
  {
   "cell_type": "code",
   "execution_count": 5,
   "id": "random-classroom",
   "metadata": {},
   "outputs": [],
   "source": [
    "Tweet_df = pd.read_csv('TweetSentiment.csv')"
   ]
  },
  {
   "cell_type": "code",
   "execution_count": 6,
   "id": "republican-python",
   "metadata": {},
   "outputs": [
    {
     "data": {
      "text/html": [
       "<div>\n",
       "<style scoped>\n",
       "    .dataframe tbody tr th:only-of-type {\n",
       "        vertical-align: middle;\n",
       "    }\n",
       "\n",
       "    .dataframe tbody tr th {\n",
       "        vertical-align: top;\n",
       "    }\n",
       "\n",
       "    .dataframe thead th {\n",
       "        text-align: right;\n",
       "    }\n",
       "</style>\n",
       "<table border=\"1\" class=\"dataframe\">\n",
       "  <thead>\n",
       "    <tr style=\"text-align: right;\">\n",
       "      <th></th>\n",
       "      <th>Tweet</th>\n",
       "      <th>Polarity</th>\n",
       "    </tr>\n",
       "  </thead>\n",
       "  <tbody>\n",
       "    <tr>\n",
       "      <th>0</th>\n",
       "      <td>Making sure you get the most out of T-Mobile T...</td>\n",
       "      <td>0.445312</td>\n",
       "    </tr>\n",
       "    <tr>\n",
       "      <th>1</th>\n",
       "      <td>The Note was just launched. I'm so glad that I...</td>\n",
       "      <td>0.166667</td>\n",
       "    </tr>\n",
       "    <tr>\n",
       "      <th>2</th>\n",
       "      <td>I get penalized for being broke with my T-Mob...</td>\n",
       "      <td>0.000000</td>\n",
       "    </tr>\n",
       "    <tr>\n",
       "      <th>3</th>\n",
       "      <td>Just changed my Sprint SIM card for a T-mobile...</td>\n",
       "      <td>-0.015152</td>\n",
       "    </tr>\n",
       "    <tr>\n",
       "      <th>4</th>\n",
       "      <td>Oh I hear you! Between my wife and me we are ...</td>\n",
       "      <td>0.000000</td>\n",
       "    </tr>\n",
       "  </tbody>\n",
       "</table>\n",
       "</div>"
      ],
      "text/plain": [
       "                                               Tweet  Polarity\n",
       "0  Making sure you get the most out of T-Mobile T...  0.445312\n",
       "1  The Note was just launched. I'm so glad that I...  0.166667\n",
       "2   I get penalized for being broke with my T-Mob...  0.000000\n",
       "3  Just changed my Sprint SIM card for a T-mobile... -0.015152\n",
       "4   Oh I hear you! Between my wife and me we are ...  0.000000"
      ]
     },
     "execution_count": 6,
     "metadata": {},
     "output_type": "execute_result"
    }
   ],
   "source": [
    "Tweet_df.head(5)"
   ]
  },
  {
   "cell_type": "code",
   "execution_count": 7,
   "id": "hired-thickness",
   "metadata": {},
   "outputs": [],
   "source": [
    "x = df.drop('Churn',axis=1)"
   ]
  },
  {
   "cell_type": "code",
   "execution_count": 8,
   "id": "boxed-billy",
   "metadata": {},
   "outputs": [],
   "source": [
    "x = pd.get_dummies(x)"
   ]
  },
  {
   "cell_type": "code",
   "execution_count": 9,
   "id": "imported-builder",
   "metadata": {},
   "outputs": [
    {
     "name": "stdout",
     "output_type": "stream",
     "text": [
      "<class 'pandas.core.frame.DataFrame'>\n",
      "RangeIndex: 7043 entries, 0 to 7042\n",
      "Data columns (total 37 columns):\n",
      "SeniorCitizen                              7043 non-null int64\n",
      "tenure                                     7043 non-null int64\n",
      "MonthlyCharges                             7043 non-null float64\n",
      "gender_Female                              7043 non-null uint8\n",
      "gender_Male                                7043 non-null uint8\n",
      "Partner_No                                 7043 non-null uint8\n",
      "Partner_Yes                                7043 non-null uint8\n",
      "Dependents_No                              7043 non-null uint8\n",
      "Dependents_Yes                             7043 non-null uint8\n",
      "PhoneService_No                            7043 non-null uint8\n",
      "PhoneService_Yes                           7043 non-null uint8\n",
      "MultipleLines_No                           7043 non-null uint8\n",
      "MultipleLines_Yes                          7043 non-null uint8\n",
      "InternetService_DSL                        7043 non-null uint8\n",
      "InternetService_Fiber optic                7043 non-null uint8\n",
      "InternetService_No                         7043 non-null uint8\n",
      "OnlineSecurity_No                          7043 non-null uint8\n",
      "OnlineSecurity_Yes                         7043 non-null uint8\n",
      "OnlineBackup_No                            7043 non-null uint8\n",
      "OnlineBackup_Yes                           7043 non-null uint8\n",
      "DeviceProtection_No                        7043 non-null uint8\n",
      "DeviceProtection_Yes                       7043 non-null uint8\n",
      "TechSupport_No                             7043 non-null uint8\n",
      "TechSupport_Yes                            7043 non-null uint8\n",
      "StreamingTV_No                             7043 non-null uint8\n",
      "StreamingTV_Yes                            7043 non-null uint8\n",
      "StreamingMovies_No                         7043 non-null uint8\n",
      "StreamingMovies_Yes                        7043 non-null uint8\n",
      "Contract_Month-to-month                    7043 non-null uint8\n",
      "Contract_One year                          7043 non-null uint8\n",
      "Contract_Two year                          7043 non-null uint8\n",
      "PaperlessBilling_No                        7043 non-null uint8\n",
      "PaperlessBilling_Yes                       7043 non-null uint8\n",
      "PaymentMethod_Bank transfer (automatic)    7043 non-null uint8\n",
      "PaymentMethod_Credit card (automatic)      7043 non-null uint8\n",
      "PaymentMethod_Electronic check             7043 non-null uint8\n",
      "PaymentMethod_Mailed check                 7043 non-null uint8\n",
      "dtypes: float64(1), int64(2), uint8(34)\n",
      "memory usage: 399.0 KB\n"
     ]
    }
   ],
   "source": [
    "x.info()"
   ]
  },
  {
   "cell_type": "code",
   "execution_count": 10,
   "id": "laden-comfort",
   "metadata": {},
   "outputs": [],
   "source": [
    "y = df['Churn']"
   ]
  },
  {
   "cell_type": "markdown",
   "id": "korean-above",
   "metadata": {},
   "source": [
    "### Step 2: Cluster Customer Data and Assign Tweet Data"
   ]
  },
  {
   "cell_type": "code",
   "execution_count": 11,
   "id": "current-needle",
   "metadata": {},
   "outputs": [
    {
     "data": {
      "image/png": "[encoded data removed]",
      "text/plain": [
       "<Figure size 432x288 with 1 Axes>"
      ]
     },
     "metadata": {
      "needs_background": "light"
     },
     "output_type": "display_data"
    }
   ],
   "source": [
    "# apply k-means to the dataset to get clusters \n",
    "wcss = []\n",
    "\n",
    "for i in range(1, 11):\n",
    "    kmeans = KMeans(n_clusters = i, init = 'k-means++',\n",
    "                    max_iter = 400, n_init = 10, random_state = 0)\n",
    "    kmeans.fit(x)\n",
    "    wcss.append(kmeans.inertia_)\n",
    "    \n",
    "#Plotting the results onto a line graph to observe 'The elbow'\n",
    "plt.plot(range(1, 11), wcss)\n",
    "plt.title('Elbow Method')\n",
    "plt.xlabel('Association')\n",
    "plt.ylabel('WCSS') #within cluster sum of squares\n",
    "plt.show()"
   ]
  },
  {
   "cell_type": "code",
   "execution_count": 12,
   "id": "cardiovascular-birmingham",
   "metadata": {},
   "outputs": [],
   "source": [
    "# Use k means to cluster 4 groups\n",
    "kmeans = KMeans(n_clusters = 4, init = 'k-means++', max_iter = 400, \n",
    "                n_init = 10, random_state = 0)\n",
    "label = kmeans.fit_predict(x)"
   ]
  },
  {
   "cell_type": "code",
   "execution_count": 13,
   "id": "supposed-topic",
   "metadata": {},
   "outputs": [],
   "source": [
    "# append label to original dataset \n",
    "x['cluster'] = label\n",
    "x['Churn'] = y"
   ]
  },
  {
   "cell_type": "code",
   "execution_count": 15,
   "id": "irish-polish",
   "metadata": {},
   "outputs": [],
   "source": [
    "# get subset for each cluster \n",
    "x_0 = x[x['cluster'] == 0]\n",
    "x_1 = x[x['cluster'] == 1]\n",
    "x_2 = x[x['cluster'] == 2]\n",
    "x_3 = x[x['cluster'] == 3]"
   ]
  },
  {
   "cell_type": "code",
   "execution_count": 16,
   "id": "noted-crack",
   "metadata": {},
   "outputs": [],
   "source": [
    "# get describtion of cluster\n",
    "mean_val = {'x_0': x_0.mean(), 'x_1': x_1.mean(), 'x_2': x_2.mean(), 'x_3': x_3.mean()}\n",
    "mean_val = pd.DataFrame(mean_val)"
   ]
  },
  {
   "cell_type": "code",
   "execution_count": 17,
   "id": "fitting-statement",
   "metadata": {},
   "outputs": [
    {
     "data": {
      "text/html": [
       "<div>\n",
       "<style scoped>\n",
       "    .dataframe tbody tr th:only-of-type {\n",
       "        vertical-align: middle;\n",
       "    }\n",
       "\n",
       "    .dataframe tbody tr th {\n",
       "        vertical-align: top;\n",
       "    }\n",
       "\n",
       "    .dataframe thead th {\n",
       "        text-align: right;\n",
       "    }\n",
       "</style>\n",
       "<table border=\"1\" class=\"dataframe\">\n",
       "  <thead>\n",
       "    <tr style=\"text-align: right;\">\n",
       "      <th></th>\n",
       "      <th>x_0</th>\n",
       "      <th>x_1</th>\n",
       "      <th>x_2</th>\n",
       "      <th>x_3</th>\n",
       "    </tr>\n",
       "  </thead>\n",
       "  <tbody>\n",
       "    <tr>\n",
       "      <th>tenure</th>\n",
       "      <td>10.594842</td>\n",
       "      <td>58.583461</td>\n",
       "      <td>14.766697</td>\n",
       "      <td>54.169124</td>\n",
       "    </tr>\n",
       "    <tr>\n",
       "      <th>MonthlyCharges</th>\n",
       "      <td>32.643123</td>\n",
       "      <td>93.283002</td>\n",
       "      <td>81.085178</td>\n",
       "      <td>33.964224</td>\n",
       "    </tr>\n",
       "    <tr>\n",
       "      <th>PhoneService_Yes</th>\n",
       "      <td>0.797135</td>\n",
       "      <td>0.988259</td>\n",
       "      <td>0.993596</td>\n",
       "      <td>0.747615</td>\n",
       "    </tr>\n",
       "    <tr>\n",
       "      <th>MultipleLines_Yes</th>\n",
       "      <td>0.097994</td>\n",
       "      <td>0.761103</td>\n",
       "      <td>0.463861</td>\n",
       "      <td>0.255854</td>\n",
       "    </tr>\n",
       "    <tr>\n",
       "      <th>OnlineBackup_Yes</th>\n",
       "      <td>0.112894</td>\n",
       "      <td>0.677386</td>\n",
       "      <td>0.299177</td>\n",
       "      <td>0.217693</td>\n",
       "    </tr>\n",
       "    <tr>\n",
       "      <th>InternetService_No</th>\n",
       "      <td>0.493983</td>\n",
       "      <td>0.000000</td>\n",
       "      <td>0.000000</td>\n",
       "      <td>0.575889</td>\n",
       "    </tr>\n",
       "    <tr>\n",
       "      <th>Contract_Two year</th>\n",
       "      <td>0.100287</td>\n",
       "      <td>0.418581</td>\n",
       "      <td>0.022415</td>\n",
       "      <td>0.564614</td>\n",
       "    </tr>\n",
       "    <tr>\n",
       "      <th>TechSupport_Yes</th>\n",
       "      <td>0.116905</td>\n",
       "      <td>0.553344</td>\n",
       "      <td>0.240622</td>\n",
       "      <td>0.199480</td>\n",
       "    </tr>\n",
       "    <tr>\n",
       "      <th>OnlineSecurity_Yes</th>\n",
       "      <td>0.126074</td>\n",
       "      <td>0.537519</td>\n",
       "      <td>0.222324</td>\n",
       "      <td>0.225499</td>\n",
       "    </tr>\n",
       "  </tbody>\n",
       "</table>\n",
       "</div>"
      ],
      "text/plain": [
       "                          x_0        x_1        x_2        x_3\n",
       "tenure              10.594842  58.583461  14.766697  54.169124\n",
       "MonthlyCharges      32.643123  93.283002  81.085178  33.964224\n",
       "PhoneService_Yes     0.797135   0.988259   0.993596   0.747615\n",
       "MultipleLines_Yes    0.097994   0.761103   0.463861   0.255854\n",
       "OnlineBackup_Yes     0.112894   0.677386   0.299177   0.217693\n",
       "InternetService_No   0.493983   0.000000   0.000000   0.575889\n",
       "Contract_Two year    0.100287   0.418581   0.022415   0.564614\n",
       "TechSupport_Yes      0.116905   0.553344   0.240622   0.199480\n",
       "OnlineSecurity_Yes   0.126074   0.537519   0.222324   0.225499"
      ]
     },
     "execution_count": 17,
     "metadata": {},
     "output_type": "execute_result"
    }
   ],
   "source": [
    "# extract important columns\n",
    "mean_val.loc[['tenure', 'MonthlyCharges', 'PhoneService_Yes', 'MultipleLines_Yes', 'OnlineBackup_Yes',\n",
    "             'InternetService_No', 'Contract_Two year', 'TechSupport_Yes', 'OnlineSecurity_Yes'], :]"
   ]
  },
  {
   "cell_type": "markdown",
   "id": "active-supplier",
   "metadata": {},
   "source": [
    "From previous observation of different clusters, we assume the order of probability of churn is below from highest to lowest:\n",
    "1. Since customers in x_2 get high monthly charges but pretty low tenure, and its service is not good as x_1, so we assume customers in this group are high likely to churn.\n",
    "2. Since customers in x_0 group get lowest tenure mean, and its service is poorest among all group though its price is not high, I will assume it gets second highest churn probability.\n",
    "3. Since customers in x_1 get pretty good service among all groups but its price is the highest one, I will give it third rank.\n",
    "4. Since for customers in x_3, the customers get pretty fair price and considerable service quality, and also we can see it has many old customers with long contract, I will assmue it has least probability of customer churn.\n",
    "\n",
    "So the final rank of churn probability(highest to lowest): x_2 --> x_0 --> x_1 --> x_3"
   ]
  },
  {
   "cell_type": "code",
   "execution_count": 18,
   "id": "mediterranean-tiffany",
   "metadata": {},
   "outputs": [
    {
     "name": "stdout",
     "output_type": "stream",
     "text": [
      "x_0: (1745, 39)\n",
      "x_1: (1959, 39)\n",
      "x_2: (2186, 39)\n",
      "x_3: (1153, 39)\n"
     ]
    }
   ],
   "source": [
    "# print shape of clusters\n",
    "print('x_0:', x_0.shape)\n",
    "print('x_1:', x_1.shape)\n",
    "print('x_2:', x_2.shape)\n",
    "print('x_3:', x_3.shape)"
   ]
  },
  {
   "cell_type": "code",
   "execution_count": 19,
   "id": "sought-license",
   "metadata": {},
   "outputs": [],
   "source": [
    "# Then assign polarity to each group according to our clustering rank \n",
    "polarity = Tweet_df['Polarity']\n",
    "polarity = sorted(polarity, reverse=False)"
   ]
  },
  {
   "cell_type": "code",
   "execution_count": 20,
   "id": "severe-sampling",
   "metadata": {},
   "outputs": [],
   "source": [
    "# Assign group for polarity according to the shape of clusters\n",
    "polarity_0 = polarity[:2186]\n",
    "polarity_1 = polarity[2186:3931]\n",
    "polarity_2 = polarity[3931:5890]\n",
    "polarity_3 = polarity[5890:7043]"
   ]
  },
  {
   "cell_type": "code",
   "execution_count": 21,
   "id": "engaging-series",
   "metadata": {},
   "outputs": [],
   "source": [
    "# Resample the order in polarity group, so the value is randomly assigned\n",
    "random.seed(2)\n",
    "random.shuffle(polarity_0)\n",
    "random.shuffle(polarity_1)\n",
    "random.shuffle(polarity_2)\n",
    "random.shuffle(polarity_3)"
   ]
  },
  {
   "cell_type": "code",
   "execution_count": 22,
   "id": "mineral-patch",
   "metadata": {},
   "outputs": [],
   "source": [
    "# assign the polarity to orignal data\n",
    "x_2.loc[:,'Polarity'] = polarity_0\n",
    "x_0.loc[:,'Polarity'] = polarity_1\n",
    "x_1.loc[:,'Polarity'] = polarity_2\n",
    "x_3.loc[:,'Polarity'] = polarity_3"
   ]
  },
  {
   "cell_type": "code",
   "execution_count": 23,
   "id": "revised-title",
   "metadata": {},
   "outputs": [],
   "source": [
    "x = pd.concat([x_0, x_1, x_2, x_3])\n",
    "x = x.drop(['cluster'], axis=1)\n",
    "x = x.sample(frac=1).reset_index(drop=True)\n",
    "x = x.copy()"
   ]
  },
  {
   "cell_type": "code",
   "execution_count": 24,
   "id": "according-active",
   "metadata": {},
   "outputs": [],
   "source": [
    "#x.to_csv('telco_with_polarity.csv', index=False)"
   ]
  },
  {
   "cell_type": "markdown",
   "id": "collaborative-trial",
   "metadata": {},
   "source": [
    "### Step 3: Apply smote on new data with polarity and train the model"
   ]
  },
  {
   "cell_type": "code",
   "execution_count": 175,
   "id": "urban-underwear",
   "metadata": {},
   "outputs": [],
   "source": [
    "# please read the csv directly for next step\n",
    "x = pd.read_csv('telco_with_polarity.csv')"
   ]
  }
 ],
 "metadata": {
  "kernelspec": {
   "display_name": "Python 3",
   "language": "python",
   "name": "python3"
  },
  "language_info": {
   "codemirror_mode": {
    "name": "ipython",
    "version": 3
   },
   "file_extension": ".py",
   "mimetype": "text/x-python",
   "name": "python",
   "nbconvert_exporter": "python",
   "pygments_lexer": "ipython3",
   "version": "3.7.0"
  }
 },
 "nbformat": 4,
 "nbformat_minor": 5
}
